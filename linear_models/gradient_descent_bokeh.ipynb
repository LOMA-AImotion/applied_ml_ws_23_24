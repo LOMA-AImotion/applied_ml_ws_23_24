{
 "cells": [
  {
   "cell_type": "markdown",
   "metadata": {
    "collapsed": true,
    "pycharm": {
     "name": "#%% md\n"
    }
   },
   "source": [
    "# Gradient Descent\n",
    "\n",
    "This notebook is a showcase for gradient descent on linear regression. \"Run all cells\" and scroll to the bottom for the visualizations."
   ]
  },
  {
   "cell_type": "code",
   "execution_count": null,
   "metadata": {},
   "outputs": [],
   "source": [
    "%pip install bokeh\n",
    "%pip install plotly"
   ]
  },
  {
   "cell_type": "markdown",
   "metadata": {},
   "source": [
    "#### Dependencies\n",
    "\n",
    "conda install bokeh\n",
    "\n",
    "conda install plotly\n",
    "\n",
    "#### Managing imports"
   ]
  },
  {
   "cell_type": "code",
   "execution_count": 3,
   "metadata": {
    "pycharm": {
     "is_executing": false,
     "name": "#%%\n"
    }
   },
   "outputs": [],
   "source": [
    "from ipywidgets import interact, FloatSlider, widgets, Layout\n",
    "import numpy as np\n",
    "\n",
    "from bokeh.io import push_notebook, show, output_notebook\n",
    "from bokeh.plotting import figure\n",
    "from bokeh.layouts import layout\n",
    "from bokeh.models import LinearColorMapper, LogColorMapper\n",
    "\n",
    "from IPython.display import clear_output\n",
    "\n",
    "import plotly.graph_objects as go"
   ]
  },
  {
   "cell_type": "markdown",
   "metadata": {},
   "source": [
    "#### Initiating bokeh library"
   ]
  },
  {
   "cell_type": "code",
   "execution_count": 4,
   "metadata": {
    "pycharm": {
     "name": "#%%\n"
    }
   },
   "outputs": [
    {
     "data": {
      "text/html": [
       "\n",
       "    <div class=\"bk-root\">\n",
       "        <a href=\"https://bokeh.org\" target=\"_blank\" class=\"bk-logo bk-logo-small bk-logo-notebook\"></a>\n",
       "        <span id=\"1001\">Loading BokehJS ...</span>\n",
       "    </div>"
      ]
     },
     "metadata": {},
     "output_type": "display_data"
    },
    {
     "data": {
      "application/javascript": "\n(function(root) {\n  function now() {\n    return new Date();\n  }\n\n  var force = true;\n\n  if (typeof root._bokeh_onload_callbacks === \"undefined\" || force === true) {\n    root._bokeh_onload_callbacks = [];\n    root._bokeh_is_loading = undefined;\n  }\n\n  var JS_MIME_TYPE = 'application/javascript';\n  var HTML_MIME_TYPE = 'text/html';\n  var EXEC_MIME_TYPE = 'application/vnd.bokehjs_exec.v0+json';\n  var CLASS_NAME = 'output_bokeh rendered_html';\n\n  /**\n   * Render data to the DOM node\n   */\n  function render(props, node) {\n    var script = document.createElement(\"script\");\n    node.appendChild(script);\n  }\n\n  /**\n   * Handle when an output is cleared or removed\n   */\n  function handleClearOutput(event, handle) {\n    var cell = handle.cell;\n\n    var id = cell.output_area._bokeh_element_id;\n    var server_id = cell.output_area._bokeh_server_id;\n    // Clean up Bokeh references\n    if (id != null && id in Bokeh.index) {\n      Bokeh.index[id].model.document.clear();\n      delete Bokeh.index[id];\n    }\n\n    if (server_id !== undefined) {\n      // Clean up Bokeh references\n      var cmd = \"from bokeh.io.state import curstate; print(curstate().uuid_to_server['\" + server_id + \"'].get_sessions()[0].document.roots[0]._id)\";\n      cell.notebook.kernel.execute(cmd, {\n        iopub: {\n          output: function(msg) {\n            var id = msg.content.text.trim();\n            if (id in Bokeh.index) {\n              Bokeh.index[id].model.document.clear();\n              delete Bokeh.index[id];\n            }\n          }\n        }\n      });\n      // Destroy server and session\n      var cmd = \"import bokeh.io.notebook as ion; ion.destroy_server('\" + server_id + \"')\";\n      cell.notebook.kernel.execute(cmd);\n    }\n  }\n\n  /**\n   * Handle when a new output is added\n   */\n  function handleAddOutput(event, handle) {\n    var output_area = handle.output_area;\n    var output = handle.output;\n\n    // limit handleAddOutput to display_data with EXEC_MIME_TYPE content only\n    if ((output.output_type != \"display_data\") || (!output.data.hasOwnProperty(EXEC_MIME_TYPE))) {\n      return\n    }\n\n    var toinsert = output_area.element.find(\".\" + CLASS_NAME.split(' ')[0]);\n\n    if (output.metadata[EXEC_MIME_TYPE][\"id\"] !== undefined) {\n      toinsert[toinsert.length - 1].firstChild.textContent = output.data[JS_MIME_TYPE];\n      // store reference to embed id on output_area\n      output_area._bokeh_element_id = output.metadata[EXEC_MIME_TYPE][\"id\"];\n    }\n    if (output.metadata[EXEC_MIME_TYPE][\"server_id\"] !== undefined) {\n      var bk_div = document.createElement(\"div\");\n      bk_div.innerHTML = output.data[HTML_MIME_TYPE];\n      var script_attrs = bk_div.children[0].attributes;\n      for (var i = 0; i < script_attrs.length; i++) {\n        toinsert[toinsert.length - 1].firstChild.setAttribute(script_attrs[i].name, script_attrs[i].value);\n        toinsert[toinsert.length - 1].firstChild.textContent = bk_div.children[0].textContent\n      }\n      // store reference to server id on output_area\n      output_area._bokeh_server_id = output.metadata[EXEC_MIME_TYPE][\"server_id\"];\n    }\n  }\n\n  function register_renderer(events, OutputArea) {\n\n    function append_mime(data, metadata, element) {\n      // create a DOM node to render to\n      var toinsert = this.create_output_subarea(\n        metadata,\n        CLASS_NAME,\n        EXEC_MIME_TYPE\n      );\n      this.keyboard_manager.register_events(toinsert);\n      // Render to node\n      var props = {data: data, metadata: metadata[EXEC_MIME_TYPE]};\n      render(props, toinsert[toinsert.length - 1]);\n      element.append(toinsert);\n      return toinsert\n    }\n\n    /* Handle when an output is cleared or removed */\n    events.on('clear_output.CodeCell', handleClearOutput);\n    events.on('delete.Cell', handleClearOutput);\n\n    /* Handle when a new output is added */\n    events.on('output_added.OutputArea', handleAddOutput);\n\n    /**\n     * Register the mime type and append_mime function with output_area\n     */\n    OutputArea.prototype.register_mime_type(EXEC_MIME_TYPE, append_mime, {\n      /* Is output safe? */\n      safe: true,\n      /* Index of renderer in `output_area.display_order` */\n      index: 0\n    });\n  }\n\n  // register the mime type if in Jupyter Notebook environment and previously unregistered\n  if (root.Jupyter !== undefined) {\n    var events = require('base/js/events');\n    var OutputArea = require('notebook/js/outputarea').OutputArea;\n\n    if (OutputArea.prototype.mime_types().indexOf(EXEC_MIME_TYPE) == -1) {\n      register_renderer(events, OutputArea);\n    }\n  }\n\n  \n  if (typeof (root._bokeh_timeout) === \"undefined\" || force === true) {\n    root._bokeh_timeout = Date.now() + 5000;\n    root._bokeh_failed_load = false;\n  }\n\n  var NB_LOAD_WARNING = {'data': {'text/html':\n     \"<div style='background-color: #fdd'>\\n\"+\n     \"<p>\\n\"+\n     \"BokehJS does not appear to have successfully loaded. If loading BokehJS from CDN, this \\n\"+\n     \"may be due to a slow or bad network connection. Possible fixes:\\n\"+\n     \"</p>\\n\"+\n     \"<ul>\\n\"+\n     \"<li>re-rerun `output_notebook()` to attempt to load from CDN again, or</li>\\n\"+\n     \"<li>use INLINE resources instead, as so:</li>\\n\"+\n     \"</ul>\\n\"+\n     \"<code>\\n\"+\n     \"from bokeh.resources import INLINE\\n\"+\n     \"output_notebook(resources=INLINE)\\n\"+\n     \"</code>\\n\"+\n     \"</div>\"}};\n\n  function display_loaded() {\n    var el = document.getElementById(\"1001\");\n    if (el != null) {\n      el.textContent = \"BokehJS is loading...\";\n    }\n    if (root.Bokeh !== undefined) {\n      if (el != null) {\n        el.textContent = \"BokehJS \" + root.Bokeh.version + \" successfully loaded.\";\n      }\n    } else if (Date.now() < root._bokeh_timeout) {\n      setTimeout(display_loaded, 100)\n    }\n  }\n\n\n  function run_callbacks() {\n    try {\n      root._bokeh_onload_callbacks.forEach(function(callback) {\n        if (callback != null)\n          callback();\n      });\n    } finally {\n      delete root._bokeh_onload_callbacks\n    }\n    console.debug(\"Bokeh: all callbacks have finished\");\n  }\n\n  function load_libs(css_urls, js_urls, callback) {\n    if (css_urls == null) css_urls = [];\n    if (js_urls == null) js_urls = [];\n\n    root._bokeh_onload_callbacks.push(callback);\n    if (root._bokeh_is_loading > 0) {\n      console.debug(\"Bokeh: BokehJS is being loaded, scheduling callback at\", now());\n      return null;\n    }\n    if (js_urls == null || js_urls.length === 0) {\n      run_callbacks();\n      return null;\n    }\n    console.debug(\"Bokeh: BokehJS not loaded, scheduling load and callback at\", now());\n    root._bokeh_is_loading = css_urls.length + js_urls.length;\n\n    function on_load() {\n      root._bokeh_is_loading--;\n      if (root._bokeh_is_loading === 0) {\n        console.debug(\"Bokeh: all BokehJS libraries/stylesheets loaded\");\n        run_callbacks()\n      }\n    }\n\n    function on_error() {\n      console.error(\"failed to load \" + url);\n    }\n\n    for (var i = 0; i < css_urls.length; i++) {\n      var url = css_urls[i];\n      const element = document.createElement(\"link\");\n      element.onload = on_load;\n      element.onerror = on_error;\n      element.rel = \"stylesheet\";\n      element.type = \"text/css\";\n      element.href = url;\n      console.debug(\"Bokeh: injecting link tag for BokehJS stylesheet: \", url);\n      document.body.appendChild(element);\n    }\n\n    const hashes = {\"https://cdn.bokeh.org/bokeh/release/bokeh-2.2.3.min.js\": \"T2yuo9Oe71Cz/I4X9Ac5+gpEa5a8PpJCDlqKYO0CfAuEszu1JrXLl8YugMqYe3sM\", \"https://cdn.bokeh.org/bokeh/release/bokeh-widgets-2.2.3.min.js\": \"98GDGJ0kOMCUMUePhksaQ/GYgB3+NH9h996V88sh3aOiUNX3N+fLXAtry6xctSZ6\", \"https://cdn.bokeh.org/bokeh/release/bokeh-tables-2.2.3.min.js\": \"89bArO+nlbP3sgakeHjCo1JYxYR5wufVgA3IbUvDY+K7w4zyxJqssu7wVnfeKCq8\"};\n\n    for (var i = 0; i < js_urls.length; i++) {\n      var url = js_urls[i];\n      var element = document.createElement('script');\n      element.onload = on_load;\n      element.onerror = on_error;\n      element.async = false;\n      element.src = url;\n      if (url in hashes) {\n        element.crossOrigin = \"anonymous\";\n        element.integrity = \"sha384-\" + hashes[url];\n      }\n      console.debug(\"Bokeh: injecting script tag for BokehJS library: \", url);\n      document.head.appendChild(element);\n    }\n  };\n\n  function inject_raw_css(css) {\n    const element = document.createElement(\"style\");\n    element.appendChild(document.createTextNode(css));\n    document.body.appendChild(element);\n  }\n\n  \n  var js_urls = [\"https://cdn.bokeh.org/bokeh/release/bokeh-2.2.3.min.js\", \"https://cdn.bokeh.org/bokeh/release/bokeh-widgets-2.2.3.min.js\", \"https://cdn.bokeh.org/bokeh/release/bokeh-tables-2.2.3.min.js\"];\n  var css_urls = [];\n  \n\n  var inline_js = [\n    function(Bokeh) {\n      Bokeh.set_log_level(\"info\");\n    },\n    function(Bokeh) {\n    \n    \n    }\n  ];\n\n  function run_inline_js() {\n    \n    if (root.Bokeh !== undefined || force === true) {\n      \n    for (var i = 0; i < inline_js.length; i++) {\n      inline_js[i].call(root, root.Bokeh);\n    }\n    if (force === true) {\n        display_loaded();\n      }} else if (Date.now() < root._bokeh_timeout) {\n      setTimeout(run_inline_js, 100);\n    } else if (!root._bokeh_failed_load) {\n      console.log(\"Bokeh: BokehJS failed to load within specified timeout.\");\n      root._bokeh_failed_load = true;\n    } else if (force !== true) {\n      var cell = $(document.getElementById(\"1001\")).parents('.cell').data().cell;\n      cell.output_area.append_execute_result(NB_LOAD_WARNING)\n    }\n\n  }\n\n  if (root._bokeh_is_loading === 0) {\n    console.debug(\"Bokeh: BokehJS loaded, going straight to plotting\");\n    run_inline_js();\n  } else {\n    load_libs(css_urls, js_urls, function() {\n      console.debug(\"Bokeh: BokehJS plotting callback run at\", now());\n      run_inline_js();\n    });\n  }\n}(window));",
      "application/vnd.bokehjs_load.v0+json": ""
     },
     "metadata": {},
     "output_type": "display_data"
    }
   ],
   "source": [
    "output_notebook()\n",
    "bgcolor = \"#efefef\"\n",
    "width = 400\n",
    "height = 250\n",
    "height2 = 180\n"
   ]
  },
  {
   "cell_type": "markdown",
   "metadata": {},
   "source": [
    "### Linear Regressor"
   ]
  },
  {
   "cell_type": "code",
   "execution_count": 5,
   "metadata": {
    "pycharm": {
     "name": "#%%\n"
    }
   },
   "outputs": [],
   "source": [
    "\n",
    "class LinearRegressor:\n",
    "\n",
    "    def __init__(self, w0, w1, train_X, train_t):\n",
    "        self.w0 = w0\n",
    "        self.w1 = w1\n",
    "        self.train_X = train_X\n",
    "        self.train_t = train_t\n",
    "        self.eps = .1\n",
    "\n",
    "    def get_internal_predictions(self, x, w0, w1):\n",
    "        return w0 + w1 * x\n",
    "\n",
    "    def get_predictions(self, x):\n",
    "        return self.get_internal_predictions(x, self.w0, self.w1)\n",
    "\n",
    "    def costs(self, w0, w1):\n",
    "        y_pred = self.get_internal_predictions(self.train_X, w0, w1)\n",
    "        diff = (self.train_t - y_pred)\n",
    "        sumErrorsSquared = np.dot(diff, diff) / (len(y_pred))\n",
    "        return sumErrorsSquared\n",
    "\n",
    "    def loss(self):\n",
    "        return self.costs(self.w0, self.w1)\n",
    "\n",
    "    def loss_w0(self):\n",
    "        w0_costs = [self.costs(w, self.w1) for w in w_domain]\n",
    "        w0_costs_grad = (self.costs(self.w0 + self.eps, self.w1) - self.costs(self.w0 - self.eps, self.w1)) / (\n",
    "                    2. * self.eps)  # [(self.costs(w+self.eps, self.w1)-self.costs(w-self.eps, self.w1)) / (2.*self.eps)  for w in w_domain]\n",
    "        self.grad_w0 = w0_costs_grad\n",
    "        return w0_costs, w0_costs_grad\n",
    "\n",
    "    def loss_w1(self):\n",
    "        w1_costs = [self.costs(self.w0, w) for w in w_domain]\n",
    "        w1_costs_grad = (self.costs(self.w0, self.w1 + self.eps) - self.costs(self.w0, self.w1 - self.eps)) / (\n",
    "                    2. * self.eps)\n",
    "        self.grad_w1 = w1_costs_grad\n",
    "        return w1_costs, w1_costs_grad\n",
    "\n",
    "    def gradient(self):\n",
    "        # returns the analytical loss gradient as a pair (for w0 and w1)\n",
    "        y_pred = self.get_internal_predictions(self.train_X, self.w0, self.w1)\n",
    "        diff = (y_pred - self.train_t)\n",
    "        w0_grad = (2. * np.sum(diff) / len(y_pred))\n",
    "        gradSum = np.dot(diff, self.train_X)\n",
    "        w1_grad = 2. * gradSum / len(y_pred)\n",
    "        return w0_grad, w1_grad"
   ]
  },
  {
   "cell_type": "markdown",
   "metadata": {},
   "source": [
    "#### Miscellaneous functions"
   ]
  },
  {
   "cell_type": "code",
   "execution_count": 6,
   "metadata": {
    "pycharm": {
     "name": "#%%\n"
    }
   },
   "outputs": [],
   "source": [
    "def lin_func(w0, w1, x):\n",
    "    return w0 + w1 * x\n",
    "def setx(plot,xval):\n",
    "    plot.data_source.data['x'] = xval\n",
    "def sety(plot,yval):\n",
    "    plot.data_source.data['y'] = yval\n",
    "def setxy(plot,xval,yval):\n",
    "    plot.data_source.data = {'x': list(xval), 'y': list(yval)}"
   ]
  },
  {
   "cell_type": "markdown",
   "metadata": {
    "pycharm": {
     "name": "#%% md\n"
    }
   },
   "source": [
    "### Plot: Trained Model\n",
    "Shows data points and current model. Can be manually fitted with sliders below plot."
   ]
  },
  {
   "cell_type": "code",
   "execution_count": 7,
   "metadata": {
    "pycharm": {
     "is_executing": false,
     "name": "#%%\n"
    }
   },
   "outputs": [],
   "source": [
    "def plot1_init(w0,w1):\n",
    "    y = lin_func(w0, w1, x)\n",
    "    global s1, r1a, r1b, err1\n",
    "    err1 = []\n",
    "    s1 = figure(title=\"Trained model\", plot_width=width, plot_height=height2, background_fill_color=bgcolor, y_axis_label=\"y = w0+w1*x\",x_axis_label=\"x\")\n",
    "    r1a = s1.line(x,y, color=\"orange\", line_width=1.5, alpha=.8)#, legend=\"Linear model\")\n",
    "    r1b = s1.diamond_cross(train_X,train_t)\n",
    "    for i in range(len(train_X)):\n",
    "        err1.append(s1.line([train_X[i],train_X[i]],[train_t[i],lin_func(w0,w1,train_X[i])]))\n",
    "def plot1_update(w0,w1):\n",
    "    global err1\n",
    "    setxy(r1a,x,lin_func(w0, w1, x))  \n",
    "    xerr = r1b.data_source.data['x']\n",
    "    yerr = r1b.data_source.data['y']\n",
    "    for i in range(len(xerr)):\n",
    "        sety(err1[i],[yerr[i],lin_func(w0,w1,xerr[i])])\n",
    "def plot1_reset(w0,w1):\n",
    "    setxy(r1b,train_X,train_t)\n",
    "    xerr = r1b.data_source.data['x']\n",
    "    yerr = r1b.data_source.data['y']\n",
    "    for i in range(len(xerr)):\n",
    "        setxy(err1[i],[train_X[i],train_X[i]],[yerr[i],lin_func(w0,w1,xerr[i])])"
   ]
  },
  {
   "cell_type": "markdown",
   "metadata": {
    "pycharm": {
     "name": "#%% md\n"
    }
   },
   "source": [
    "### Loss Plots\n",
    "These two plots are concerned with the costs vs a single parameter (w0 and w1) in the current model. The dashed green line represents the tangent at current point."
   ]
  },
  {
   "cell_type": "code",
   "execution_count": 8,
   "metadata": {
    "pycharm": {
     "name": "#%%\n"
    }
   },
   "outputs": [],
   "source": [
    "def plot2_init():\n",
    "    global s2,r2b,r2r,r2tangent,s2_2,r2b_2,r2r_2,r2tangent_2,w_domain,loss_w0,w_min,w_max\n",
    "    w_min = -10.\n",
    "    w_max = 10.\n",
    "    w_domain = np.arange(w_min, w_max, 0.25)\n",
    "    loss_w0 = w_domain\n",
    "    s2 = figure(title=\"Loss for w0 in 1D\", plot_width=width, plot_height=height, background_fill_color=bgcolor, y_axis_label=\"Loss(w0,w1)\",x_axis_label=\"w0\")\n",
    "    s2_2 = figure(title=\"Loss for w1 in 1D\", plot_width=width, plot_height=height, background_fill_color=bgcolor, y_axis_label=\"Loss(w0,w1)\",x_axis_label=\"w1\")\n",
    "    r2b = s2.line(w_domain, loss_w0, color=\"blue\", line_width=1.5, alpha=.8)\n",
    "    r2b_2 = s2_2.line(w_domain, loss_w0, color=\"blue\", line_width=1.5, alpha=.8)\n",
    "    r2r = s2.cross([1],[1],color=\"red\",size=8,line_width=5)\n",
    "    r2r_2 = s2_2.cross([1],[1],color=\"red\",size=8,line_width=5)\n",
    "    r2tangent = s2.line(w_domain, np.ones_like(w_domain), line_color=\"green\", line_width=1.5, line_dash=\"4 4\")\n",
    "    r2tangent_2 = s2_2.line(w_domain, np.ones_like(w_domain), line_color=\"green\", line_width=1.5, line_dash=\"4 4\")\n",
    "\n",
    "def plot2_update():\n",
    "    global s2, r2b, r2r, r2tangent, history_loss, history_w0, history_w1,current_loss\n",
    "    current_loss = regressor.loss()\n",
    "    history_loss += [current_loss]\n",
    "    history_w0 += [regressor.w0]\n",
    "    history_w1 += [regressor.w1]\n",
    "    current_loss_w0, current_loss_grad_w0 = regressor.loss_w0()\n",
    "    current_loss_w1, current_loss_grad_w1 = regressor.loss_w1()\n",
    "    # (gw0,gw1) = regressor.gradient()\n",
    "\n",
    "    sety(r2b, current_loss_w0)\n",
    "    sety(r2b_2, current_loss_w1)\n",
    "    setxy(r2r,[regressor.w0],[current_loss])\n",
    "    setxy(r2r_2,[regressor.w1],[current_loss])\n",
    "    \n",
    "    tangent = current_loss + current_loss_grad_w0 * (w_domain - regressor.w0)  # tangent\n",
    "    tangent_2 = current_loss + current_loss_grad_w1 * (w_domain - regressor.w1)  # tangent\n",
    "    sety(r2tangent,tangent)\n",
    "    sety(r2tangent_2,tangent_2)\n",
    "    \n",
    "def plot2_manual_update(w0,w1):\n",
    "    #global s2, r2b, r2r, r2tangent, history_loss, history_w0, history_w1,current_loss\n",
    "    global is_last_action_from_sliders,history_loss, history_w0, history_w1\n",
    "    # dont save history if slider is moved a second time\n",
    "    if is_last_action_from_sliders:\n",
    "        del history_loss[-1]\n",
    "        del history_w0[-1]\n",
    "        del history_w1[-1]\n",
    "    regressor.w0 = w0\n",
    "    regressor.w1 = w1\n",
    "    plot2_update()\n",
    "    \n",
    "def plot2_reset():\n",
    "    w = np.arange(w_min, w_max, 0.25)\n",
    "    setxy(r2b,w,w)\n",
    "    setxy(r2b_2,w,w)\n",
    "    setxy(r2r,[1],[1])\n",
    "    setxy(r2r_2,[1],[1])\n",
    "    setxy(r2tangent,w,np.ones_like(w_domain))\n",
    "    setxy(r2tangent_2,w,np.ones_like(w_domain))"
   ]
  },
  {
   "cell_type": "markdown",
   "metadata": {},
   "source": [
    "### 3D Loss Curve\n",
    "Shows the loss in every possible w0, w1 - combination in a 3D-plot"
   ]
  },
  {
   "cell_type": "code",
   "execution_count": 9,
   "metadata": {
    "pycharm": {
     "name": "#%%\n"
    }
   },
   "outputs": [],
   "source": [
    "def plot3_init():\n",
    "    global w_grid,zz    \n",
    "    w_grid = np.arange(w_min, w_max, w_delta)\n",
    "    zz = np.array([[regressor.costs(w0_, w1_) for w0_ in w_grid] for w1_ in w_grid])\n"
   ]
  },
  {
   "cell_type": "markdown",
   "metadata": {},
   "source": [
    "### Loss Development Over Time\n",
    "Shows the loss of every iteration in a plot"
   ]
  },
  {
   "cell_type": "code",
   "execution_count": 10,
   "metadata": {
    "pycharm": {
     "name": "#%%\n"
    }
   },
   "outputs": [],
   "source": [
    "def plot5_init():\n",
    "    global s5, r5\n",
    "    s5 = figure(title=\"Loss development over time\",y_axis_type=\"log\",y_range=(.1,10000),plot_width=width, plot_height=height, background_fill_color=bgcolor, y_axis_label=\"Loss\",x_axis_label=\"iterations (time)\")\n",
    "    r5 = s5.line([0],[0])\n",
    "    \n",
    "def plot5_update():\n",
    "    global r5\n",
    "    x = np.arange(len(history_loss))+1\n",
    "    y = history_loss\n",
    "    setxy(r5,x,y)\n",
    "\n",
    "\n"
   ]
  },
  {
   "cell_type": "markdown",
   "metadata": {},
   "source": [
    "### Loss Plots\n",
    "Shows the top view of the 3D-loss-curve. Loss is represented by color: The darker the color, the lower our loss."
   ]
  },
  {
   "cell_type": "code",
   "execution_count": 11,
   "metadata": {},
   "outputs": [
    {
     "name": "stderr",
     "output_type": "stream",
     "text": [
      "<>:63: SyntaxWarning: \"is not\" with a literal. Did you mean \"!=\"?\n",
      "<>:63: SyntaxWarning: \"is not\" with a literal. Did you mean \"!=\"?\n",
      "<>:63: SyntaxWarning: \"is not\" with a literal. Did you mean \"!=\"?\n",
      "<>:63: SyntaxWarning: \"is not\" with a literal. Did you mean \"!=\"?\n",
      "<ipython-input-11-85ae2811ba65>:63: SyntaxWarning: \"is not\" with a literal. Did you mean \"!=\"?\n",
      "  if not interv is 1 and not len(history_loss) % interv is 0:\n",
      "<ipython-input-11-85ae2811ba65>:63: SyntaxWarning: \"is not\" with a literal. Did you mean \"!=\"?\n",
      "  if not interv is 1 and not len(history_loss) % interv is 0:\n"
     ]
    }
   ],
   "source": [
    "def plot4_init():\n",
    "    global s4, r4a, r4b, r4c, color_mapper,fig\n",
    "    xyrange = (-10,10)\n",
    "    size = w_max - w_min\n",
    "    color_mapper = LogColorMapper(palette=\"Viridis256\")\n",
    "    s4 = figure(title=\"Loss surface and development\", x_range=xyrange, y_range=xyrange, plot_width=width, plot_height=height2, y_axis_label=\"w1\",x_axis_label=\"w0\")\n",
    "    r4a = s4.image(image=[zz], color_mapper=color_mapper, dh=[size], dw=[size], x=[w_min], y=[w_min])\n",
    "    r4b = s4.line([-10],[-10], line_color=\"white\", line_width=3)\n",
    "    r4c = s4.cross([-10],[-10],color=\"white\",size=8,line_width=5)\n",
    "\n",
    "def plot4_update():\n",
    "    setxy(r4c,[regressor.w0],[regressor.w1])\n",
    "    setxy(r4b,history_w0,history_w1)\n",
    "\n",
    "def plot4_reset():\n",
    "    setxy(r4a,[-10],[-10])\n",
    "    setxy(r4c,[-10],[-10])\n",
    "    setxy(r4b,[-10],[-10])\n",
    "def plot4_new_colors():\n",
    "    global r4a,r4b,r4c\n",
    "    size = w_max - w_min\n",
    "    r4a.visible = False\n",
    "    r4a = s4.image(image=[zz], color_mapper=color_mapper, dh=[size], dw=[size], x=[w_min], y=[w_min])\n",
    "def fig3d_init():\n",
    "    global figx\n",
    "    surfaceplot = go.Surface(\n",
    "        x=w_grid,\n",
    "        y=w_grid,\n",
    "        z=zz,\n",
    "        showscale=False,\n",
    "        colorscale='Viridis',\n",
    "        opacity=.9\n",
    "    )\n",
    "    scatterplot = go.Scatter3d(\n",
    "        x=history_w0,\n",
    "        y=history_w1,\n",
    "        z=history_loss,\n",
    "        mode='lines',\n",
    "        line=dict(color='orange', width=5)\n",
    "\n",
    "    )\n",
    "\n",
    "    figx = go.FigureWidget(data=[scatterplot,surfaceplot])\n",
    "    figx.update_layout(\n",
    "        width=800,\n",
    "        height=600,\n",
    "        margin=dict(l=0, r=0, b=0, t=0),\n",
    "        xaxis=dict(range=[-10, 10]),\n",
    "        yaxis=dict(range=[-10, 10]),\n",
    "        scene = dict(\n",
    "            xaxis = dict(\n",
    "                title='w0',\n",
    "            ),\n",
    "            yaxis = dict(\n",
    "                title='w1'),\n",
    "            zaxis = dict(\n",
    "                title='loss'),\n",
    "        ),\n",
    "    )\n",
    "\n",
    "def plotly_update(interv=1):\n",
    "    #scatt = fig.data[1]\n",
    "    if not interv is 1 and not len(history_loss) % interv is 0:\n",
    "        return\n",
    "    with figx.batch_update():\n",
    "        figx.data[0].x=history_w0\n",
    "        figx.data[0].y=history_w1\n",
    "        figx.data[0].z=history_loss\n"
   ]
  },
  {
   "cell_type": "markdown",
   "metadata": {},
   "source": [
    "#### Initialization of starting values, regressor and plots "
   ]
  },
  {
   "cell_type": "code",
   "execution_count": 12,
   "metadata": {},
   "outputs": [],
   "source": [
    "def new_vals():\n",
    "    # np.random.seed(1337)\n",
    "    global w0_true, w1_true\n",
    "    rand = np.random.rand(2)\n",
    "    w0_true = rand[0]*8# = 6.2\n",
    "    w1_true = rand[1]*16-8# = -1.78\n",
    "    \n",
    "def init_vals():\n",
    "    global rand,x_min, x_max, w_delta, n_train, w0_true, w1_true, history_w0, history_w1, history_loss, learning_rate, running, w_domain\n",
    "    learning_rate = .02\n",
    "    x_min = 0.0\n",
    "    x_max = 10.0\n",
    "    w_delta = .25\n",
    "    # np.random.seed(1337)\n",
    "    n_train = 16\n",
    "    #w0_true = rand[0]# = 6.2\n",
    "    #w1_true = rand[1]# = -1.78\n",
    "    history_w0 = []\n",
    "    history_w1 = []\n",
    "    history_loss = []\n",
    "    running = False\n",
    "    w_min = -10.\n",
    "    w_max = 10.\n",
    "    w_domain = np.arange(w_min, w_max, 0.25)\n",
    "\n",
    "def init_regressor():\n",
    "    global train_X, train_t, regressor\n",
    "    train_X = np.random.rand(n_train) * x_max\n",
    "    train_t = lin_func(w0_true, w1_true, train_X) + np.random.normal(0, 1, n_train)\n",
    "    regressor = LinearRegressor(-10., -10., train_X, train_t)\n",
    "    regressor.loss_w0()\n",
    "    regressor.loss_w1()\n",
    "def init_plots():\n",
    "    global x\n",
    "    x = np.arange(x_min, x_max, 0.01)\n",
    "    plot1_init(-10, -10)\n",
    "    plot2_init()\n",
    "    plot3_init()\n",
    "    #Javascript(\"\"\"window.jsonGraph={};\"\"\".format(jsonGraph))\n",
    "    plot5_init()\n",
    "    plot4_init()\n",
    "    fig3d_init()\n"
   ]
  },
  {
   "cell_type": "code",
   "execution_count": 13,
   "metadata": {
    "scrolled": false
   },
   "outputs": [],
   "source": [
    "new_vals()\n",
    "init_vals()    \n",
    "init_regressor()\n",
    "init_plots()"
   ]
  },
  {
   "cell_type": "markdown",
   "metadata": {},
   "source": [
    "#### reset function to start over"
   ]
  },
  {
   "cell_type": "code",
   "execution_count": 14,
   "metadata": {},
   "outputs": [],
   "source": [
    "def reset():\n",
    "    global running, t, learning_rate\n",
    "    running = False\n",
    "    #t.do_run = False\n",
    "    #t.join()\n",
    "    init_vals()\n",
    "    learning_rate = learning_rate_slider.value/100\n",
    "    init_regressor()\n",
    "    plot1_reset(-10, -10)\n",
    "    plot2_reset()\n",
    "    plot3_init()\n",
    "    setxy(r5,[0],[0])\n",
    "    plot4_reset()\n",
    "    update()\n",
    "    plotly_update()\n",
    "    push_notebook()"
   ]
  },
  {
   "cell_type": "markdown",
   "metadata": {},
   "source": [
    "#### Update and regressor progression functions"
   ]
  },
  {
   "cell_type": "code",
   "execution_count": 15,
   "metadata": {
    "pycharm": {
     "name": "#%%\n"
    }
   },
   "outputs": [],
   "source": [
    "\n",
    "firstrun = True\n",
    "def update_plot_sliders(w0=regressor.w0,w1=regressor.w1,learning=learning_rate*100,eps=regressor.eps):\n",
    "    global learning_rate,is_button_action, is_last_action_from_sliders, firstrun\n",
    "    \n",
    "    if firstrun:\n",
    "        return\n",
    "    \n",
    "    learning_rate = learning/100\n",
    "    regressor.eps = eps\n",
    "    plot1_update(w0,w1)\n",
    "    \n",
    "    #remove next line to enable manual \"next step\" functionality\n",
    "    is_last_action_from_sliders = False\n",
    "    \n",
    "    if is_button_action:\n",
    "        return\n",
    "\n",
    "    plot2_manual_update(w0,w1)\n",
    "    plot5_update()\n",
    "    plot4_update()\n",
    "    plotly_update()\n",
    "\n",
    "    is_last_action_from_sliders = True\n",
    "    push_notebook()\n",
    "def update(w0=regressor.w0,w1=regressor.w1):\n",
    "    plot1_update(w0,w1)\n",
    "    plot2_update()\n",
    "    push_notebook()\n",
    "def update_sliders():\n",
    "    global is_button_action, is_last_action_from_sliders\n",
    "    is_last_action_from_sliders = False\n",
    "    is_button_action = True\n",
    "    w0_slider.value = regressor.w0\n",
    "    w1_slider.value = regressor.w1\n",
    "    is_button_action = False\n",
    "\n",
    "def single_step():\n",
    "    # fetch the gradient and add it to the current value\n",
    "    regressor.w0 = regressor.w0 - learning_rate * regressor.grad_w0\n",
    "    regressor.w1 = regressor.w1 - learning_rate * regressor.grad_w1\n",
    "    \n",
    "    update_sliders()\n",
    "\n",
    "\n",
    "def n_steps(n):\n",
    "    global running\n",
    "    running = True\n",
    "    for i in range(n):\n",
    "        if not running:\n",
    "            return\n",
    "        single_step()\n",
    "        plot2_update()\n",
    "        plot5_update()\n",
    "        plot4_update()\n",
    "        plotly_update(3)\n",
    "        push_notebook()\n",
    "    plotly_update()\n",
    "    running = False\n",
    "def solve():\n",
    "    global running, current_loss, iterations\n",
    "    print(\"solving with learning rate {}%\".format(learning_rate*100))\n",
    "    i = 1\n",
    "    n_steps(1)\n",
    "    running = True\n",
    "    limit = 250\n",
    "    iterations = len(history_loss)\n",
    "    while current_loss > regressor.eps and (iterations < 2 or (history_loss[iterations-2]-current_loss) > regressor.eps):\n",
    "        \n",
    "        if i > limit:\n",
    "            \n",
    "            print(\"unable to solve for eps={} with {} steps, try again for another {}\".format(regressor.eps,iterations,limit))\n",
    "            return\n",
    "        if not running:\n",
    "            return\n",
    "        single_step()\n",
    "        plot2_update()\n",
    "        plot5_update()\n",
    "        plot4_update()\n",
    "        plotly_update(5)\n",
    "        push_notebook()\n",
    "        iterations = len(history_loss)\n",
    "        i+=1\n",
    "    running = False\n",
    "    if iterations>1 and history_loss[iterations-2]-current_loss < 0:\n",
    "        print(\"learning rate to high, not converging! last iteration: loss risen by {}\".format(current_loss-history_loss[iterations-2]))\n",
    "    else:\n",
    "        print(\"solved after {} steps (eps={})\".format(iterations,regressor.eps))\n",
    "        print(\"latest loss change: {}\".format(abs(current_loss-history_loss[iterations-2])))\n",
    "    #print(iterations)\n",
    "    #print(current_loss)\n",
    "    plotly_update()\n",
    "def output_text():\n",
    "    clear_output()\n",
    "    string = 'f(x) = {}x {} {}'.format(regressor.w1,'-' if regressor.w0 < 0 else '+',abs(regressor.w0)) + \"\\n\"+'current loss: {}'.format(regressor.loss())\n",
    "    return string\n",
    "\n",
    "#update()\n"
   ]
  },
  {
   "cell_type": "markdown",
   "metadata": {},
   "source": [
    "#### Buttons, sliders, etc."
   ]
  },
  {
   "cell_type": "code",
   "execution_count": 16,
   "metadata": {
    "pycharm": {
     "name": "#%%\n"
    }
   },
   "outputs": [],
   "source": [
    "from threading import Thread\n",
    "\n",
    "w0_slider = FloatSlider(min=-10,max=10,step=.1,value=-10,layout=Layout(width='50%'), continuous_update=False)\n",
    "w1_slider = FloatSlider(min=-10,max=10,step=.1,value=-10,layout=Layout(width='50%'), continuous_update=False)\n",
    "learning_rate_slider = FloatSlider(min=.1,max=5,step=.01,value=2,description=\"learning %\",layout=Layout(width='50%'), continuous_update=False)\n",
    "eps_slider = FloatSlider(min=.01, max=1, step=.01, description=\"eps\",layout=Layout(width='50%'), continuous_update=False)\n",
    "\n",
    "button_1 = widgets.Button(description='1 step')\n",
    "button_n = widgets.Button(description='25 steps')\n",
    "button_up = widgets.Button(description='solve')\n",
    "button_reset = widgets.Button(description='reset')\n",
    "button_new = widgets.Button(description='new values')\n",
    "button_save_manual = widgets.Button(description='next manual input')\n",
    "#out = widgets.Output()\n",
    "is_button_action = False\n",
    "is_last_action_from_sliders = False\n",
    "\n",
    "def on_button_1_clicked(_):\n",
    "    #if not running:\n",
    "    n_steps(1)\n",
    "\n",
    "def on_button_n_clicked(_):\n",
    "    #if not running:\n",
    "    \n",
    "    n_steps(25)\n",
    "    #update()\n",
    "    \n",
    "def simulate_clicked(_):\n",
    "    solve()\n",
    "\n",
    "def on_button_reset_clicked(_):\n",
    "    reset()\n",
    "    update_sliders()\n",
    "def on_button_newvalues_clicked(_):\n",
    "    new_vals()\n",
    "    reset()\n",
    "    plot4_new_colors()\n",
    "    push_notebook()\n",
    "    print('goal: f(x) = {}x {} {}'.format(w1_true,'-' if w0_true < 0 else '+',abs(w0_true)))\n",
    "def on_button_save_manual_clicked(_):\n",
    "    update_sliders()\n",
    "        \n",
    "button_1.on_click(on_button_1_clicked)\n",
    "button_n.on_click(on_button_n_clicked)\n",
    "button_up.on_click(simulate_clicked)\n",
    "button_reset.on_click(on_button_reset_clicked)\n",
    "button_new.on_click(on_button_newvalues_clicked)\n",
    "button_save_manual.on_click(on_button_save_manual_clicked)"
   ]
  },
  {
   "cell_type": "markdown",
   "metadata": {},
   "source": [
    "#### Displaying the plots"
   ]
  },
  {
   "cell_type": "code",
   "execution_count": 17,
   "metadata": {
    "scrolled": true
   },
   "outputs": [
    {
     "data": {
      "application/vnd.jupyter.widget-view+json": {
       "model_id": "3938af0f7d764ee6af5d86fb6beb96da",
       "version_major": 2,
       "version_minor": 0
      },
      "text/plain": [
       "interactive(children=(FloatSlider(value=-10.0, continuous_update=False, description='w0', layout=Layout(width=…"
      ]
     },
     "metadata": {},
     "output_type": "display_data"
    },
    {
     "data": {
      "application/vnd.jupyter.widget-view+json": {
       "model_id": "3de2b75975d340acad8104f569dbbf01",
       "version_major": 2,
       "version_minor": 0
      },
      "text/plain": [
       "HBox(children=(Button(description='1 step', style=ButtonStyle()), Button(description='25 steps', style=ButtonS…"
      ]
     },
     "metadata": {},
     "output_type": "display_data"
    }
   ],
   "source": [
    "interact(update_plot_sliders,w0=w0_slider,w1=w1_slider,learning=learning_rate_slider,eps=eps_slider)\n",
    "widgets.HBox([button_1,button_n,button_up,button_reset])#,button_save_manual])\n"
   ]
  },
  {
   "cell_type": "code",
   "execution_count": 18,
   "metadata": {
    "pycharm": {
     "name": "#%%\n"
    },
    "scrolled": false
   },
   "outputs": [
    {
     "name": "stdout",
     "output_type": "stream",
     "text": [
      "goal: f(x) = -3.05836426789414x + 6.949910796502894\n"
     ]
    },
    {
     "data": {
      "text/html": [
       "\n",
       "\n",
       "\n",
       "\n",
       "\n",
       "\n",
       "  <div class=\"bk-root\" id=\"4040d202-7e25-4a29-872e-4498a329bd8d\" data-root-id=\"1310\"></div>\n"
      ]
     },
     "metadata": {},
     "output_type": "display_data"
    },
    {
     "data": {
      "application/javascript": "(function(root) {\n  function embed_document(root) {\n    \n  var docs_json = {\"6eab729c-6955-4c91-90bc-17a9443af5ce\":{\"roots\":{\"references\":[{\"attributes\":{\"children\":[{\"id\":\"1308\"},{\"id\":\"1309\"}],\"sizing_mode\":\"scale_width\"},\"id\":\"1310\",\"type\":\"Column\"},{\"attributes\":{},\"id\":\"1383\",\"type\":\"UnionRenderers\"},{\"attributes\":{},\"id\":\"1384\",\"type\":\"Selection\"},{\"attributes\":{},\"id\":\"1385\",\"type\":\"UnionRenderers\"},{\"attributes\":{},\"id\":\"1327\",\"type\":\"BasicTickFormatter\"},{\"attributes\":{},\"id\":\"1387\",\"type\":\"Selection\"},{\"attributes\":{},\"id\":\"1325\",\"type\":\"BasicTickFormatter\"},{\"attributes\":{},\"id\":\"1388\",\"type\":\"UnionRenderers\"},{\"attributes\":{},\"id\":\"1137\",\"type\":\"BasicTicker\"},{\"attributes\":{},\"id\":\"1389\",\"type\":\"Selection\"},{\"attributes\":{\"text\":\"Loss for w0 in 1D\"},\"id\":\"1126\",\"type\":\"Title\"},{\"attributes\":{},\"id\":\"1390\",\"type\":\"UnionRenderers\"},{\"attributes\":{\"axis\":{\"id\":\"1136\"},\"ticker\":null},\"id\":\"1139\",\"type\":\"Grid\"},{\"attributes\":{},\"id\":\"1132\",\"type\":\"LinearScale\"},{\"attributes\":{},\"id\":\"1391\",\"type\":\"Selection\"},{\"attributes\":{},\"id\":\"1392\",\"type\":\"UnionRenderers\"},{\"attributes\":{\"data_source\":{\"id\":\"1191\"},\"glyph\":{\"id\":\"1192\"},\"hover_glyph\":null,\"muted_glyph\":null,\"nonselection_glyph\":{\"id\":\"1193\"},\"selection_glyph\":null,\"view\":{\"id\":\"1195\"}},\"id\":\"1194\",\"type\":\"GlyphRenderer\"},{\"attributes\":{},\"id\":\"1130\",\"type\":\"DataRange1d\"},{\"attributes\":{},\"id\":\"1128\",\"type\":\"DataRange1d\"},{\"attributes\":{\"axis_label\":\"Loss(w0,w1)\",\"formatter\":{\"id\":\"1325\"},\"ticker\":{\"id\":\"1141\"}},\"id\":\"1140\",\"type\":\"LinearAxis\"},{\"attributes\":{},\"id\":\"1134\",\"type\":\"LinearScale\"},{\"attributes\":{\"axis_label\":\"w0\",\"formatter\":{\"id\":\"1327\"},\"ticker\":{\"id\":\"1137\"}},\"id\":\"1136\",\"type\":\"LinearAxis\"},{\"attributes\":{},\"id\":\"1394\",\"type\":\"Selection\"},{\"attributes\":{},\"id\":\"1331\",\"type\":\"BasicTickFormatter\"},{\"attributes\":{},\"id\":\"1395\",\"type\":\"UnionRenderers\"},{\"attributes\":{},\"id\":\"1329\",\"type\":\"BasicTickFormatter\"},{\"attributes\":{\"data_source\":{\"id\":\"1035\"},\"glyph\":{\"id\":\"1036\"},\"hover_glyph\":null,\"muted_glyph\":null,\"nonselection_glyph\":{\"id\":\"1037\"},\"selection_glyph\":null,\"view\":{\"id\":\"1039\"}},\"id\":\"1038\",\"type\":\"GlyphRenderer\"},{\"attributes\":{},\"id\":\"1368\",\"type\":\"Selection\"},{\"attributes\":{},\"id\":\"1369\",\"type\":\"UnionRenderers\"},{\"attributes\":{},\"id\":\"1370\",\"type\":\"Selection\"},{\"attributes\":{},\"id\":\"1371\",\"type\":\"UnionRenderers\"},{\"attributes\":{},\"id\":\"1373\",\"type\":\"Selection\"},{\"attributes\":{\"bottom_units\":\"screen\",\"fill_alpha\":0.5,\"fill_color\":\"lightgrey\",\"left_units\":\"screen\",\"level\":\"overlay\",\"line_alpha\":1.0,\"line_color\":\"black\",\"line_dash\":[4,4],\"line_width\":2,\"right_units\":\"screen\",\"top_units\":\"screen\"},\"id\":\"1027\",\"type\":\"BoxAnnotation\"},{\"attributes\":{\"data_source\":{\"id\":\"1298\"},\"glyph\":{\"id\":\"1299\"},\"hover_glyph\":null,\"muted_glyph\":null,\"nonselection_glyph\":{\"id\":\"1300\"},\"selection_glyph\":null,\"view\":{\"id\":\"1302\"}},\"id\":\"1301\",\"type\":\"GlyphRenderer\"},{\"attributes\":{},\"id\":\"1374\",\"type\":\"UnionRenderers\"},{\"attributes\":{\"fill_color\":{\"value\":\"#1f77b4\"},\"line_color\":{\"value\":\"#1f77b4\"},\"x\":{\"field\":\"x\"},\"y\":{\"field\":\"y\"}},\"id\":\"1041\",\"type\":\"DiamondCross\"},{\"attributes\":{\"data\":{\"x\":{\"__ndarray__\":\"hBSOpmrBFEBoRPKDGwIAQPnIvZ1J8hlAINKKVlCzyT+vDIKNB6QgQE3GgZqUTyBAnK1JfVaWHkBgeXaXAN7RPyUBTTJWPB1AbMIlbKMFIUBmvw044P8IQEwZT/CMkRZAdQjf+z5OEUCZ618CXI4WQJJH5UdVRBhABrI4woaRE0A=\",\"dtype\":\"float64\",\"order\":\"little\",\"shape\":[16]},\"y\":{\"__ndarray__\":\"6nS+yQZZIcCujVmTcyLkvzI/gg3OtirAlqUJPD2/GUDJFsZXX6czwGtcPK0taDPAUoHcpAR2LcCaU05d2BgWQJL42WYwqCzAn9R6YMlqM8AswxJhMxMAwBhn1TowYyHAEL2rIMQ/FMDnKoROIp8jwPKJ2PJ8+CfA9o77RR6yIcA=\",\"dtype\":\"float64\",\"order\":\"little\",\"shape\":[16]}},\"selected\":{\"id\":\"1338\"},\"selection_policy\":{\"id\":\"1339\"}},\"id\":\"1040\",\"type\":\"ColumnDataSource\"},{\"attributes\":{},\"id\":\"1375\",\"type\":\"Selection\"},{\"attributes\":{},\"id\":\"1376\",\"type\":\"UnionRenderers\"},{\"attributes\":{\"fill_alpha\":{\"value\":0.1},\"fill_color\":{\"value\":\"#1f77b4\"},\"line_alpha\":{\"value\":0.1},\"line_color\":{\"value\":\"#1f77b4\"},\"x\":{\"field\":\"x\"},\"y\":{\"field\":\"y\"}},\"id\":\"1042\",\"type\":\"DiamondCross\"},{\"attributes\":{},\"id\":\"1377\",\"type\":\"Selection\"},{\"attributes\":{},\"id\":\"1378\",\"type\":\"UnionRenderers\"},{\"attributes\":{},\"id\":\"1380\",\"type\":\"Selection\"},{\"attributes\":{},\"id\":\"1381\",\"type\":\"UnionRenderers\"},{\"attributes\":{},\"id\":\"1382\",\"type\":\"Selection\"},{\"attributes\":{\"data_source\":{\"id\":\"1211\"},\"glyph\":{\"id\":\"1212\"},\"hover_glyph\":null,\"muted_glyph\":null,\"nonselection_glyph\":{\"id\":\"1213\"},\"selection_glyph\":null,\"view\":{\"id\":\"1215\"}},\"id\":\"1214\",\"type\":\"GlyphRenderer\"},{\"attributes\":{\"text\":\"Loss for w1 in 1D\"},\"id\":\"1159\",\"type\":\"Title\"},{\"attributes\":{\"bottom_units\":\"screen\",\"fill_alpha\":0.5,\"fill_color\":\"lightgrey\",\"left_units\":\"screen\",\"level\":\"overlay\",\"line_alpha\":1.0,\"line_color\":\"black\",\"line_dash\":[4,4],\"line_width\":2,\"right_units\":\"screen\",\"top_units\":\"screen\"},\"id\":\"1246\",\"type\":\"BoxAnnotation\"},{\"attributes\":{\"axis\":{\"id\":\"1140\"},\"dimension\":1,\"ticker\":null},\"id\":\"1143\",\"type\":\"Grid\"},{\"attributes\":{},\"id\":\"1145\",\"type\":\"WheelZoomTool\"},{\"attributes\":{\"data\":{\"x\":{\"__ndarray__\":\"AAAAAAAAJMAAAAAAAIAjwAAAAAAAACPAAAAAAACAIsAAAAAAAAAiwAAAAAAAgCHAAAAAAAAAIcAAAAAAAIAgwAAAAAAAACDAAAAAAAAAH8AAAAAAAAAewAAAAAAAAB3AAAAAAAAAHMAAAAAAAAAbwAAAAAAAABrAAAAAAAAAGcAAAAAAAAAYwAAAAAAAABfAAAAAAAAAFsAAAAAAAAAVwAAAAAAAABTAAAAAAAAAE8AAAAAAAAASwAAAAAAAABHAAAAAAAAAEMAAAAAAAAAOwAAAAAAAAAzAAAAAAAAACsAAAAAAAAAIwAAAAAAAAAbAAAAAAAAABMAAAAAAAAACwAAAAAAAAADAAAAAAAAA/L8AAAAAAAD4vwAAAAAAAPS/AAAAAAAA8L8AAAAAAADovwAAAAAAAOC/AAAAAAAA0L8AAAAAAAAAAAAAAAAAANA/AAAAAAAA4D8AAAAAAADoPwAAAAAAAPA/AAAAAAAA9D8AAAAAAAD4PwAAAAAAAPw/AAAAAAAAAEAAAAAAAAACQAAAAAAAAARAAAAAAAAABkAAAAAAAAAIQAAAAAAAAApAAAAAAAAADEAAAAAAAAAOQAAAAAAAABBAAAAAAAAAEUAAAAAAAAASQAAAAAAAABNAAAAAAAAAFEAAAAAAAAAVQAAAAAAAABZAAAAAAAAAF0AAAAAAAAAYQAAAAAAAABlAAAAAAAAAGkAAAAAAAAAbQAAAAAAAABxAAAAAAAAAHUAAAAAAAAAeQAAAAAAAAB9AAAAAAAAAIEAAAAAAAIAgQAAAAAAAACFAAAAAAACAIUAAAAAAAAAiQAAAAAAAgCJAAAAAAAAAI0AAAAAAAIAjQA==\",\"dtype\":\"float64\",\"order\":\"little\",\"shape\":[80]},\"y\":{\"__ndarray__\":\"AAAAAAAA8D8AAAAAAADwPwAAAAAAAPA/AAAAAAAA8D8AAAAAAADwPwAAAAAAAPA/AAAAAAAA8D8AAAAAAADwPwAAAAAAAPA/AAAAAAAA8D8AAAAAAADwPwAAAAAAAPA/AAAAAAAA8D8AAAAAAADwPwAAAAAAAPA/AAAAAAAA8D8AAAAAAADwPwAAAAAAAPA/AAAAAAAA8D8AAAAAAADwPwAAAAAAAPA/AAAAAAAA8D8AAAAAAADwPwAAAAAAAPA/AAAAAAAA8D8AAAAAAADwPwAAAAAAAPA/AAAAAAAA8D8AAAAAAADwPwAAAAAAAPA/AAAAAAAA8D8AAAAAAADwPwAAAAAAAPA/AAAAAAAA8D8AAAAAAADwPwAAAAAAAPA/AAAAAAAA8D8AAAAAAADwPwAAAAAAAPA/AAAAAAAA8D8AAAAAAADwPwAAAAAAAPA/AAAAAAAA8D8AAAAAAADwPwAAAAAAAPA/AAAAAAAA8D8AAAAAAADwPwAAAAAAAPA/AAAAAAAA8D8AAAAAAADwPwAAAAAAAPA/AAAAAAAA8D8AAAAAAADwPwAAAAAAAPA/AAAAAAAA8D8AAAAAAADwPwAAAAAAAPA/AAAAAAAA8D8AAAAAAADwPwAAAAAAAPA/AAAAAAAA8D8AAAAAAADwPwAAAAAAAPA/AAAAAAAA8D8AAAAAAADwPwAAAAAAAPA/AAAAAAAA8D8AAAAAAADwPwAAAAAAAPA/AAAAAAAA8D8AAAAAAADwPwAAAAAAAPA/AAAAAAAA8D8AAAAAAADwPwAAAAAAAPA/AAAAAAAA8D8AAAAAAADwPwAAAAAAAPA/AAAAAAAA8D8AAAAAAADwPw==\",\"dtype\":\"float64\",\"order\":\"little\",\"shape\":[80]}},\"selected\":{\"id\":\"1391\"},\"selection_policy\":{\"id\":\"1392\"}},\"id\":\"1216\",\"type\":\"ColumnDataSource\"},{\"attributes\":{\"line_color\":\"green\",\"line_dash\":[4,4],\"line_width\":1.5,\"x\":{\"field\":\"x\"},\"y\":{\"field\":\"y\"}},\"id\":\"1212\",\"type\":\"Line\"},{\"attributes\":{\"line_alpha\":0.1,\"line_color\":\"green\",\"line_dash\":[4,4],\"line_width\":1.5,\"x\":{\"field\":\"x\"},\"y\":{\"field\":\"y\"}},\"id\":\"1213\",\"type\":\"Line\"},{\"attributes\":{},\"id\":\"1141\",\"type\":\"BasicTicker\"},{\"attributes\":{\"data_source\":{\"id\":\"1206\"},\"glyph\":{\"id\":\"1207\"},\"hover_glyph\":null,\"muted_glyph\":null,\"nonselection_glyph\":{\"id\":\"1208\"},\"selection_glyph\":null,\"view\":{\"id\":\"1210\"}},\"id\":\"1209\",\"type\":\"GlyphRenderer\"},{\"attributes\":{},\"id\":\"1149\",\"type\":\"HelpTool\"},{\"attributes\":{},\"id\":\"1144\",\"type\":\"PanTool\"},{\"attributes\":{\"overlay\":{\"id\":\"1150\"}},\"id\":\"1146\",\"type\":\"BoxZoomTool\"},{\"attributes\":{},\"id\":\"1336\",\"type\":\"Selection\"},{\"attributes\":{},\"id\":\"1147\",\"type\":\"SaveTool\"},{\"attributes\":{},\"id\":\"1148\",\"type\":\"ResetTool\"},{\"attributes\":{\"source\":{\"id\":\"1211\"}},\"id\":\"1215\",\"type\":\"CDSView\"},{\"attributes\":{\"source\":{\"id\":\"1216\"}},\"id\":\"1220\",\"type\":\"CDSView\"},{\"attributes\":{\"data_source\":{\"id\":\"1201\"},\"glyph\":{\"id\":\"1202\"},\"hover_glyph\":null,\"muted_glyph\":null,\"nonselection_glyph\":{\"id\":\"1203\"},\"selection_glyph\":null,\"view\":{\"id\":\"1205\"}},\"id\":\"1204\",\"type\":\"GlyphRenderer\"},{\"attributes\":{\"line_alpha\":0.1,\"line_color\":\"#1f77b4\",\"x\":{\"field\":\"x\"},\"y\":{\"field\":\"y\"}},\"id\":\"1256\",\"type\":\"Line\"},{\"attributes\":{},\"id\":\"1335\",\"type\":\"BasicTickFormatter\"},{\"attributes\":{\"end\":10,\"start\":-10},\"id\":\"1263\",\"type\":\"Range1d\"},{\"attributes\":{\"line_color\":\"green\",\"line_dash\":[4,4],\"line_width\":1.5,\"x\":{\"field\":\"x\"},\"y\":{\"field\":\"y\"}},\"id\":\"1217\",\"type\":\"Line\"},{\"attributes\":{\"below\":[{\"id\":\"1271\"}],\"center\":[{\"id\":\"1274\"},{\"id\":\"1278\"}],\"left\":[{\"id\":\"1275\"}],\"plot_height\":180,\"plot_width\":400,\"renderers\":[{\"id\":\"1296\"},{\"id\":\"1301\"},{\"id\":\"1306\"}],\"sizing_mode\":\"scale_width\",\"title\":{\"id\":\"1261\"},\"toolbar\":{\"id\":\"1286\"},\"x_range\":{\"id\":\"1263\"},\"x_scale\":{\"id\":\"1267\"},\"y_range\":{\"id\":\"1265\"},\"y_scale\":{\"id\":\"1269\"}},\"id\":\"1260\",\"subtype\":\"Figure\",\"type\":\"Plot\"},{\"attributes\":{\"line_alpha\":0.1,\"line_color\":\"green\",\"line_dash\":[4,4],\"line_width\":1.5,\"x\":{\"field\":\"x\"},\"y\":{\"field\":\"y\"}},\"id\":\"1218\",\"type\":\"Line\"},{\"attributes\":{\"line_color\":\"#1f77b4\",\"x\":{\"field\":\"x\"},\"y\":{\"field\":\"y\"}},\"id\":\"1255\",\"type\":\"Line\"},{\"attributes\":{},\"id\":\"1180\",\"type\":\"SaveTool\"},{\"attributes\":{\"source\":{\"id\":\"1254\"}},\"id\":\"1258\",\"type\":\"CDSView\"},{\"attributes\":{\"active_drag\":\"auto\",\"active_inspect\":\"auto\",\"active_multi\":null,\"active_scroll\":\"auto\",\"active_tap\":\"auto\",\"tools\":[{\"id\":\"1177\"},{\"id\":\"1178\"},{\"id\":\"1179\"},{\"id\":\"1180\"},{\"id\":\"1181\"},{\"id\":\"1182\"}]},\"id\":\"1184\",\"type\":\"Toolbar\"},{\"attributes\":{\"palette\":[\"#440154\",\"#440255\",\"#440357\",\"#450558\",\"#45065A\",\"#45085B\",\"#46095C\",\"#460B5E\",\"#460C5F\",\"#460E61\",\"#470F62\",\"#471163\",\"#471265\",\"#471466\",\"#471567\",\"#471669\",\"#47186A\",\"#48196B\",\"#481A6C\",\"#481C6E\",\"#481D6F\",\"#481E70\",\"#482071\",\"#482172\",\"#482273\",\"#482374\",\"#472575\",\"#472676\",\"#472777\",\"#472878\",\"#472A79\",\"#472B7A\",\"#472C7B\",\"#462D7C\",\"#462F7C\",\"#46307D\",\"#46317E\",\"#45327F\",\"#45347F\",\"#453580\",\"#453681\",\"#443781\",\"#443982\",\"#433A83\",\"#433B83\",\"#433C84\",\"#423D84\",\"#423E85\",\"#424085\",\"#414186\",\"#414286\",\"#404387\",\"#404487\",\"#3F4587\",\"#3F4788\",\"#3E4888\",\"#3E4989\",\"#3D4A89\",\"#3D4B89\",\"#3D4C89\",\"#3C4D8A\",\"#3C4E8A\",\"#3B508A\",\"#3B518A\",\"#3A528B\",\"#3A538B\",\"#39548B\",\"#39558B\",\"#38568B\",\"#38578C\",\"#37588C\",\"#37598C\",\"#365A8C\",\"#365B8C\",\"#355C8C\",\"#355D8C\",\"#345E8D\",\"#345F8D\",\"#33608D\",\"#33618D\",\"#32628D\",\"#32638D\",\"#31648D\",\"#31658D\",\"#31668D\",\"#30678D\",\"#30688D\",\"#2F698D\",\"#2F6A8D\",\"#2E6B8E\",\"#2E6C8E\",\"#2E6D8E\",\"#2D6E8E\",\"#2D6F8E\",\"#2C708E\",\"#2C718E\",\"#2C728E\",\"#2B738E\",\"#2B748E\",\"#2A758E\",\"#2A768E\",\"#2A778E\",\"#29788E\",\"#29798E\",\"#287A8E\",\"#287A8E\",\"#287B8E\",\"#277C8E\",\"#277D8E\",\"#277E8E\",\"#267F8E\",\"#26808E\",\"#26818E\",\"#25828E\",\"#25838D\",\"#24848D\",\"#24858D\",\"#24868D\",\"#23878D\",\"#23888D\",\"#23898D\",\"#22898D\",\"#228A8D\",\"#228B8D\",\"#218C8D\",\"#218D8C\",\"#218E8C\",\"#208F8C\",\"#20908C\",\"#20918C\",\"#1F928C\",\"#1F938B\",\"#1F948B\",\"#1F958B\",\"#1F968B\",\"#1E978A\",\"#1E988A\",\"#1E998A\",\"#1E998A\",\"#1E9A89\",\"#1E9B89\",\"#1E9C89\",\"#1E9D88\",\"#1E9E88\",\"#1E9F88\",\"#1EA087\",\"#1FA187\",\"#1FA286\",\"#1FA386\",\"#20A485\",\"#20A585\",\"#21A685\",\"#21A784\",\"#22A784\",\"#23A883\",\"#23A982\",\"#24AA82\",\"#25AB81\",\"#26AC81\",\"#27AD80\",\"#28AE7F\",\"#29AF7F\",\"#2AB07E\",\"#2BB17D\",\"#2CB17D\",\"#2EB27C\",\"#2FB37B\",\"#30B47A\",\"#32B57A\",\"#33B679\",\"#35B778\",\"#36B877\",\"#38B976\",\"#39B976\",\"#3BBA75\",\"#3DBB74\",\"#3EBC73\",\"#40BD72\",\"#42BE71\",\"#44BE70\",\"#45BF6F\",\"#47C06E\",\"#49C16D\",\"#4BC26C\",\"#4DC26B\",\"#4FC369\",\"#51C468\",\"#53C567\",\"#55C666\",\"#57C665\",\"#59C764\",\"#5BC862\",\"#5EC961\",\"#60C960\",\"#62CA5F\",\"#64CB5D\",\"#67CC5C\",\"#69CC5B\",\"#6BCD59\",\"#6DCE58\",\"#70CE56\",\"#72CF55\",\"#74D054\",\"#77D052\",\"#79D151\",\"#7CD24F\",\"#7ED24E\",\"#81D34C\",\"#83D34B\",\"#86D449\",\"#88D547\",\"#8BD546\",\"#8DD644\",\"#90D643\",\"#92D741\",\"#95D73F\",\"#97D83E\",\"#9AD83C\",\"#9DD93A\",\"#9FD938\",\"#A2DA37\",\"#A5DA35\",\"#A7DB33\",\"#AADB32\",\"#ADDC30\",\"#AFDC2E\",\"#B2DD2C\",\"#B5DD2B\",\"#B7DD29\",\"#BADE27\",\"#BDDE26\",\"#BFDF24\",\"#C2DF22\",\"#C5DF21\",\"#C7E01F\",\"#CAE01E\",\"#CDE01D\",\"#CFE11C\",\"#D2E11B\",\"#D4E11A\",\"#D7E219\",\"#DAE218\",\"#DCE218\",\"#DFE318\",\"#E1E318\",\"#E4E318\",\"#E7E419\",\"#E9E419\",\"#ECE41A\",\"#EEE51B\",\"#F1E51C\",\"#F3E51E\",\"#F6E61F\",\"#F8E621\",\"#FAE622\",\"#FDE724\"]},\"id\":\"1259\",\"type\":\"LogColorMapper\"},{\"attributes\":{\"color_mapper\":{\"id\":\"1259\"},\"dh\":{\"field\":\"dh\",\"units\":\"data\"},\"dw\":{\"field\":\"dw\",\"units\":\"data\"},\"image\":{\"field\":\"image\"},\"x\":{\"field\":\"x\"},\"y\":{\"field\":\"y\"}},\"id\":\"1294\",\"type\":\"Image\"},{\"attributes\":{},\"id\":\"1272\",\"type\":\"BasicTicker\"},{\"attributes\":{\"data\":{\"x\":{\"__ndarray__\":\"AAAAAAAAJMAAAAAAAIAjwAAAAAAAACPAAAAAAACAIsAAAAAAAAAiwAAAAAAAgCHAAAAAAAAAIcAAAAAAAIAgwAAAAAAAACDAAAAAAAAAH8AAAAAAAAAewAAAAAAAAB3AAAAAAAAAHMAAAAAAAAAbwAAAAAAAABrAAAAAAAAAGcAAAAAAAAAYwAAAAAAAABfAAAAAAAAAFsAAAAAAAAAVwAAAAAAAABTAAAAAAAAAE8AAAAAAAAASwAAAAAAAABHAAAAAAAAAEMAAAAAAAAAOwAAAAAAAAAzAAAAAAAAACsAAAAAAAAAIwAAAAAAAAAbAAAAAAAAABMAAAAAAAAACwAAAAAAAAADAAAAAAAAA/L8AAAAAAAD4vwAAAAAAAPS/AAAAAAAA8L8AAAAAAADovwAAAAAAAOC/AAAAAAAA0L8AAAAAAAAAAAAAAAAAANA/AAAAAAAA4D8AAAAAAADoPwAAAAAAAPA/AAAAAAAA9D8AAAAAAAD4PwAAAAAAAPw/AAAAAAAAAEAAAAAAAAACQAAAAAAAAARAAAAAAAAABkAAAAAAAAAIQAAAAAAAAApAAAAAAAAADEAAAAAAAAAOQAAAAAAAABBAAAAAAAAAEUAAAAAAAAASQAAAAAAAABNAAAAAAAAAFEAAAAAAAAAVQAAAAAAAABZAAAAAAAAAF0AAAAAAAAAYQAAAAAAAABlAAAAAAAAAGkAAAAAAAAAbQAAAAAAAABxAAAAAAAAAHUAAAAAAAAAeQAAAAAAAAB9AAAAAAAAAIEAAAAAAAIAgQAAAAAAAACFAAAAAAACAIUAAAAAAAAAiQAAAAAAAgCJAAAAAAAAAI0AAAAAAAIAjQA==\",\"dtype\":\"float64\",\"order\":\"little\",\"shape\":[80]},\"y\":{\"__ndarray__\":\"AAAAAAAA8D8AAAAAAADwPwAAAAAAAPA/AAAAAAAA8D8AAAAAAADwPwAAAAAAAPA/AAAAAAAA8D8AAAAAAADwPwAAAAAAAPA/AAAAAAAA8D8AAAAAAADwPwAAAAAAAPA/AAAAAAAA8D8AAAAAAADwPwAAAAAAAPA/AAAAAAAA8D8AAAAAAADwPwAAAAAAAPA/AAAAAAAA8D8AAAAAAADwPwAAAAAAAPA/AAAAAAAA8D8AAAAAAADwPwAAAAAAAPA/AAAAAAAA8D8AAAAAAADwPwAAAAAAAPA/AAAAAAAA8D8AAAAAAADwPwAAAAAAAPA/AAAAAAAA8D8AAAAAAADwPwAAAAAAAPA/AAAAAAAA8D8AAAAAAADwPwAAAAAAAPA/AAAAAAAA8D8AAAAAAADwPwAAAAAAAPA/AAAAAAAA8D8AAAAAAADwPwAAAAAAAPA/AAAAAAAA8D8AAAAAAADwPwAAAAAAAPA/AAAAAAAA8D8AAAAAAADwPwAAAAAAAPA/AAAAAAAA8D8AAAAAAADwPwAAAAAAAPA/AAAAAAAA8D8AAAAAAADwPwAAAAAAAPA/AAAAAAAA8D8AAAAAAADwPwAAAAAAAPA/AAAAAAAA8D8AAAAAAADwPwAAAAAAAPA/AAAAAAAA8D8AAAAAAADwPwAAAAAAAPA/AAAAAAAA8D8AAAAAAADwPwAAAAAAAPA/AAAAAAAA8D8AAAAAAADwPwAAAAAAAPA/AAAAAAAA8D8AAAAAAADwPwAAAAAAAPA/AAAAAAAA8D8AAAAAAADwPwAAAAAAAPA/AAAAAAAA8D8AAAAAAADwPwAAAAAAAPA/AAAAAAAA8D8AAAAAAADwPw==\",\"dtype\":\"float64\",\"order\":\"little\",\"shape\":[80]}},\"selected\":{\"id\":\"1384\"},\"selection_policy\":{\"id\":\"1385\"}},\"id\":\"1211\",\"type\":\"ColumnDataSource\"},{\"attributes\":{\"data\":{\"dh\":[20.0],\"dw\":[20.0],\"image\":[{\"__ndarray__\":\"R2ox3BDEqEBIuju53I6oQEgKRpboWahASlpQczQlqEBKqlpQwPCnQEz6ZC2MvKdATEpvCpiIp0BOmnnn41SnQE7qg8RvIadAUDqOoTvupkBQiph+R7umQFHaoluTiKZAUiqtOB9WpkBTercV6yOmQFTKwfL28aVAVRrMz0LApUBWataszo6lQFa64ImaXaVAWArrZqYspUBYWvVD8vukQFqq/yB+y6RAWvoJ/kmbpEBbShTbVWukQFyaHrihO6RAXeoolS0MpEBeOjNy+dyjQF+KPU8FrqNAYNpHLFF/o0BhKlIJ3VCjQGJ6XOaoIqNAYspmw7T0okBkGnGgAMeiQGRqe32MmaJAZrqFWlhsokBmCpA3ZD+iQGhamhSwEqJAaKqk8TvmoUBq+q7OB7qhQGpKuasTjqFAa5rDiF9ioUBs6s1l6zahQGw62EK3C6FAboriH8PgoEBu2uz8DragQHAq99mai6BAcHoBt2ZhoEByyguUcjegQHMaFnG+DaBA5tRAnJTIn0DpdFVWLHafQOoUahBEJJ9A7LR+ytvSnkDuVJOE84GeQPD0pz6LMZ5A8pS8+KLhnUD0NNGyOpKdQPbU5WxSQ51A93T6Jur0nED5FA/hAaecQPy0I5uZWZxA/lQ4VbEMnEAA9UwPScCbQAKVYclgdJtAAjV2g/gom0AG1Yo9EN6aQAd1n/enk5pACBW0sb9JmkAMtchrVwCaQAxV3SVvt5lADvXx3wZvmUAQlQaaHieZQBI1G1S235hAFNUvDs6YmEAVdUTIZVKYQBgVWYJ9DJhAGrVtPBXHl0AcVYL2LIKXQB71lrDEPZdAIJWratz5lkAiNcAkdLaWQGwcWrlfgqdAeuvAv3pOp0CIuifG1RqnQJiJjsxw56ZAplj10ku0pkC0J1zZZoGmQML2wt/BTqZA0cUp5lwcpkDglJDsN+qlQO5j9/JSuKVA/DJe+a2GpUAKAsX/SFWlQBnRKwYkJKVAKKCSDD/zpEA2b/kSmsKkQEQ+YBk1kqRAUw3HHxBipEBh3C0mKzKkQHCrlCyGAqRAfnr7MiHTo0CMSWI5/KOjQJoYyT8XdaNAqecvRnJGo0C3tpZMDRijQMaF/VLo6aJA1FRkWQO8okDjI8tfXo6iQPLyMWb5YKJAAMKYbNQzokAOkf9y7waiQB1gZnlK2qFALC/Nf+WtoUA5/jOGwIGhQEjNmozbVaFAVpwBkzYqoUBla2iZ0f6gQHM6z5+s06BAggk2pseooECQ2JysIn6gQJ6nA7O9U6BArXZquZgpoEB2i6J/Z/+fQJMpcIwdrJ9AsMc9mVNZn0DMZQumCQefQOoD2bI/tZ5ABqKmv/VjnkAkQHTMKxOeQEDeQdnhwp1AXXwP5hdznUB6Gt3yzSOdQJa4qv8D1ZxAtFZ4DLqGnEDQ9EUZ8DicQO2SEyam65tACjHhMtyem0Aoz64/klKbQENtfEzIBptAYAtKWX67mkB+qRdmtHCaQJtH5XJqJppAt+Wyf6DcmUDUg4CMVpOZQPEhTpmMSplADsAbpkICmUAqXumyeLqYQEj8tr8uc5hAZJqEzGQsmECBOFLZGuaXQJ7WH+ZQoJdAu3Tt8gZbl0DXErv/PBaXQPSwiAzz0ZZAEU9WGSmOlkAu7SMm30qWQEuL8TIVCJZAaCm/P8vFlUCEx4xMAYSVQKJlWlm3QpVAvwMoZu0BlUBAWx3HNkmmQFyp4PagFqZAePejJkvkpUCURWdWNbKlQLCTKoZfgKVAy+HttclOpUDoL7Hlcx2lQAR+dBVe7KRAH8w3RYi7pEA6Gvt08oqkQFdovqScWqRAc7aB1IYqpECPBEUEsfqjQKpSCDQby6NAxqDLY8Wbo0Di7o6Tr2yjQP88UsPZPaNAGosV80MPo0A22dgi7uCiQFInnFLYsqJAbnVfggKFokCKwyKybFeiQKYR5uEWKqJAwl+pEQH9oUDerWxBK9ChQPr7L3GVo6FAFkrzoD93oUAymLbQKUuhQE7meQBUH6FAajQ9ML7zoECGggBgaMigQKHQw49SnaBAvR6Hv3xyoEDZbErv5kegQPS6DR+RHaBAIxKinfbmn0Bbrij9SpOfQJJKr1wfQJ9AyuY1vHPtnkACg7wbSJueQDkfQ3ucSZ5AcLvJ2nD4nUCqV1A6xaedQODz1pmZV51AGJBd+e0HnUBRLORYwricQIjIargWapxAwGTxF+sbnED4AHh3P86bQC+d/tYTgZtAZzmFNmg0m0Cg1QuWPOiaQNhxkvWQnJpADw4ZVWVRmkBGqp+0uQaaQH5GJhSOvJlAt+Ksc+JymUDufjPTtimZQCYbujIL4ZhAXrdAkt+YmECWU8fxM1GYQM7vTVEICphABozUsFzDl0A+KFsQMX2XQHbE4W+FN5dArGBoz1nylkDl/O4urq2WQB2ZdY6CaZZAVDX87dYllkCM0YJNq+KVQMRtCa3/n5VA/AmQDNRdlUA0phZsKByVQGxCncv82pRApN4jK1GalEDceqqKJVqUQBMXMep5GpRAS7O3SU7bk0CCTz6popyTQLvrxAh3XpNAxCZ7BZYYpUDs85peT+ekQBbBurdItqRAQI7aEIKFpEBpW/pp+1SkQJIoGsO0JKRAvPU5HK70o0Dlwll158SjQA6Qec5glaNAOF2ZJxpmo0BhKrmAEzejQIv32NlMCKNAtMT4MsbZokDekRiMf6uiQAdfOOV4faJAMCxYPrJPokBa+XeXKyKiQITGl/Dk9KFArZO3Sd7HoUDWYNeiF5uhQAAu9/uQbqFAKfsWVUpCoUBTyDauQxahQHyVVgd96qBApWJ2YPa+oEDPL5a5r5OgQPj8tRKpaKBAIsrVa+I9oEBKl/XEWxOgQOnIKjwq0p9AOmNq7hx+n0CO/amgjyqfQOCX6VKC155ANDIpBfWEnkCGzGi35zKeQNpmqGla4Z1ALAHoG02QnUB+myfOvz+dQNI1Z4Cy75xAJNCmMiWgnEB4aubkF1GcQMsEJpeKApxAHZ9lSX20m0BwOaX772abQMTT5K3iGZtAFm4kYFXNmkBoCGQSSIGaQLyio8S6NZpADj3jdq3qmUBh1yIpIKCZQLRxYtsSVplABgyijYUMmUBZpuE/eMOYQKxAIfLqephAANtgpN0ymEBSdaBWUOuXQKUP4AhDpJdA+Kkfu7Vdl0BKRF9tqBeXQJ3enh8b0pZA8Hje0Q2NlkBDEx6EgEiWQJatXTZzBJZA6Eed6OXAlUA74tya2H2VQI58HE1LO5VA4RZc/z35lEA0sZuxsLeUQIdL22OjdpRA2uUaFhY2lEAsgFrICPaTQH8amnp7tpNA0rTZLG53k0AkTxnf4DiTQHjpWJHT+pJAyoOYQ0a9kkAeHtj1OICSQHC4F6irQ5JAw1JXWp4HkkAW7ZYMEcyRQPd+c3R98KNALsvv9oXAo0BmF2x5zpCjQJxj6PtWYaNA069kfh8yo0AK/OAAKAOjQEFIXYNw1KJAeJTZBfmlokCv4FWIwXeiQOUs0grKSaJAHXlOjRIcokBTxcoPm+6hQIoRR5JjwaFAwV3DFGyUoUD4qT+XtGehQC72uxk9O6FAZkI4nAUPoUCdjrQeDuOgQNTaMKFWt6BACietI9+LoEBBcymmp2CgQHi/pSiwNaBArwsiq/gKoEDMrzxbAsGfQDlINWCTbJ9Ap+AtZaQYn0AVeSZqNcWeQIMRH29Gcp5A8KkXdNcfnkBeQhB56M2dQMzaCH55fJ1AO3MBg4ornUCoC/qHG9ucQBak8owsi5xAgzzrkb07nEDy1OOWzuybQGBt3JtfnptAzgXVoHBQm0A6ns2lAQObQKg2xqoStppAF8++r6NpmkCEZ7e0tB2aQPL/r7lF0plAYJiovlaHmUDOMKHD5zyZQDzJmcj48phAqGGSzYmpmEAX+orSmmCYQIaSg9crGJhA8yp83DzQl0Bgw3ThzYiXQM5bbebeQZdAPPRl62/7lkCqjF7wgLWWQBglV/URcJZAhr1P+iIrlkD0VUj/s+aVQGHuQATFopVAz4Y5CVZflUA8HzIOZxyVQKq3KhP42ZRAGFAjGAmYlECG6BsdmlaUQPSAFCKrFZRAYhkNJzzVk0DQsQUsTZWTQD1K/jDeVZNAq+L2Ne8Wk0AYe+86gNiSQIYT6D+RmpJA9KvgRCJdkkBiRNlJMyCSQNDc0U7E45FAPnXKU9WnkUCsDcNYZmyRQBqmu113MZFAhz60Ygj3kED11qxnGb2QQGNvpWyqg5BA0AeecbtKkEDZYwYU7dCiQB0v379EoqJAYvq3a9xzokCmxZAXtEWiQOqQacPLF6JAL1xCbyPqoUB0Jxsbu7yhQLjy88aSj6FA/L3McqpioUBAiaUeAjahQIVUfsqZCaFAyh9XdnHdoEAN6y8iibGgQFK2CM7ghaBAloHheXhaoEDbTLolUC+gQB8Yk9FnBKBAyMbX+n6zn0BQXYlSrl6fQNjzOqpdCp9AYYrsAY22nkDqIJ5ZPGOeQHS3T7FrEJ5A/E0BCRu+nUCE5LJgSmydQA57ZLj5Gp1AlhEWECnKnEAeqMdn2HmcQKg+eb8HKpxAMtUqF7fam0C6a9xu5oubQEMCjsaVPZtAzJg/HsXvmkBUL/F1dKKaQNzFos2jVZpAZlxUJVMJmkDu8gV9gr2ZQHeJt9QxcplAACBpLGEnmUCJthqEEN2YQBJNzNs/k5hAmuN9M+9JmEAjei+LHgGYQKwQ4eLNuJdANaeSOv1wl0C+PUSSrCmXQEbU9enb4pZAz2qnQYuclkBYAVmZulaWQOCXCvFpEZZAai68SJnMlUDzxG2gSIiVQHpbH/h3RJVABPLQTycBlUCMiIKnVr6UQBUfNP8FfJRAnrXlVjU6lEAnTJeu5PiTQLDiSAYUuJNAOXn6XcN3k0DCD6y18jeTQEqmXQ2i+JJA0jwPZdG5kkBc08C8gHuSQORpchSwPZJAbQAkbF8AkkD2ltXDjsORQH8thxs+h5FACMQ4c21LkUCQWurKHBCRQBrxmyJM1ZBAoodNevuakEArHv/RKmGQQLS0sCnaJ5BAeJbEAhPej0CKwyeycW2PQJzwimHQ/Y5Arh3uEC+PjkC+SlHAjSGOQNB3tG/stI1Aa9Uz5OS5oUC+H2m5i4yhQA5qno5yX6FAYLTTY5kyoUCz/gg5AAahQARJPg6n2aBAVpNz442toECo3ai4tIGgQPon3o0bVqBATHITY8IqoEA8eZFwUv+fQN8N/BqgqZ9AhKJmxW1Un0AnN9Fvu/+eQMzLOxqJq55Ab2CmxNZXnkAU9RBvpASeQLaJexnysZ1AWh7mw79fnUD+slBuDQ6dQKJHuxjbvJxARtwlwyhsnEDqcJBt9hucQI4F+xdEzJtAMJplwhF9m0DULtBsXy6bQHjDOhct4JpAHFilwXqSmkDA7A9sSEWaQGSBehaW+JlACBblwGOsmUCsqk9rsWCZQE8/uhV/FZlA8tMkwMzKmECWaI9qmoCYQDr9+RToNphA3pFkv7Xtl0CCJs9pA6WXQCW7ORTRXJdAyU+kvh4Vl0Bt5A5p7M2WQBB5eRM6h5ZAtA3kvQdBlkBYok5oVfuVQPw2uRIjtpVAoMsjvXBxlUBEYI5nPi2VQOj0+BGM6ZRAjIljvFmmlEAvHs5mp2OUQNKyOBF1IZRAdkeju8Lfk0Aa3A1mkJ6TQL5weBDeXZNAYgXjuqsdk0AGmk1l+d2SQKkuuA/HnpJATcMiuhRgkkDxV41k4iGSQJXs9w4w5JFAOIFiuf2mkUDcFc1jS2qRQICqNw4ZLpFAJD+iuGbykEDH0wxjNLeQQGtodw2CfJBAD/3ht09CkECzkUxinQiQQK5MbhnWno9A9nVDbnEtj0A8nxjDDL2OQITI7ReoTY5Ay/HCbEPfjUASG5jB3nGNQFpEbRZ6BY1Aom1CaxWajEDplhfAsC+MQDHA7BRMxotAeenBaeddi0DAEpe+gvaKQKzT++Rkq6BAC52N41p/oEBrZh/ikFOgQMovseAGKKBAUvKFvnn5n0ASham7ZaOfQNAXzbjRTZ9AkKrwtb34nkBOPRSzKaSeQAzQN7AVUJ5AymJbrYH8nUCK9X6qbamdQEmIoqfZVp1ABxvGpMUEnUDFremhMbOcQIZADZ8dYpxARNMwnIkRnEADZlSZdcGbQML4d5bhcZtAgIubk80im0A+Hr+QOdSaQP6w4o0lhppAvEMGi5E4mkB71imIfeuZQDppTYXpnplA+ftwgtVSmUC3jpR/QQeZQHYhuHwtvJhANrTbeZlxmED0Rv92hSeYQLLZInTx3ZdAcmxGcd2Ul0Aw/2luSUyXQO+RjWs1BJdAriSxaKG8lkBst9RljXWWQCxK+GL5LpZA6twbYOXolUCobz9dUaOVQGgCY1o9XpVAJpWGV6kZlUDmJ6pUldWUQKS6zVEBkpRAYk3xTu1OlEAi4BRMWQyUQOByOElFypNAnwVcRrGIk0BemH9DnUeTQB0ro0AJB5NA273GPfXGkkCaUOo6YYeSQFjjDThNSJJAGHYxNbkJkkDWCFUypcuRQJWbeC8RjpFAVC6cLP1QkUASwb8paRSRQNFT4yZV2JBAkOYGJMGckEBOeSohrWGQQA4MTh4ZJ5BAmD3jNgraj0AWYyox4maPQJSIcSu69I5AEK64JZKDjkCO0/8fahOOQA75RhpCpI1Aih6OFBo2jUAIRNUO8siMQIRpHAnKXIxAAo9jA6Lxi0B+tKr9eYeLQP3Z8fdRHotAfP848im2ikD4JIDsAU+KQHZKx+bZ6IlA9G8O4bGDiUBylVXbiR+JQO66nNVhvIhAbODjzzlaiEA6vbws2kqfQBNOmXxk9Z5A7d51zG6gnkDHb1Ic+UueQKAAL2wD+J1AepELvI2knUBVIugLmFGdQC6zxFsi/5xACEShqyytnEDh1H37tlucQLplWkvBCpxAlfY2m0u6m0BvhxPrVWqbQEgY8DrgGptAIqnMiurLmkD8OanadH2aQNXKhSp/L5pAsFtiegnimUCJ7D7KE5WZQGN9GxqeSJlAPA74aaj8mEAWn9S5MrGYQPAvsQk9ZphAysCNWccbmECkUWqp0dGXQH7iRvlbiJdAV3MjSWY/l0AwBACZ8PaWQAuV3Oj6rpZA5CW5OIVnlkC+tpWIjyCWQJhHctgZ2pVActhOKCSUlUBMaSt4rk6VQCb6B8i4CZVA/4rkF0PFlEDYG8FnTYGUQLKsnbfXPZRAjD16B+L6k0BmzlZXbLiTQEBfM6d2dpNAGfAP9wA1k0D0gOxGC/SSQM0RyZaVs5JApqKl5p9zkkCAM4I2KjSSQFrEXoY09ZFANFU71r62kUAN5hcmyXiRQOh29HVTO5FAwQfRxV3+kECbmK0V6MGQQHUpimXyhZBATrpmtXxKkEAoS0MFhw+QQAO4P6oiqo9At9n4STc2j0Br+7HpS8OOQB4da4lgUY5A0D4kKXXgjUCEYN3IiXCNQDiClmieAY1A7KNPCLOTjECgxQioxyaMQFPnwUfcuotABgl75/BPi0C5KjSHBeaKQG5M7SYafYpAIW6mxi4VikDUj19mQ66JQIixGAZYSIlAO9PRpWzjiEDu9IpFgX+IQKIWROWVHIhAVjj9hKq6h0AKWrYkv1mHQLx7b8TT+YZAcJ0oZOiahkAkv+ED/TyGQNfgmqMR4IVAeuy28PpPnUBve0yTI/2cQGQK4jXMqpxAWZl32PRYnEBNKA17nQecQEK3oh3GtptANkY4wG5mm0Ar1c1ilxabQCBkYwVAx5pAFfP4p2h4mkAJgo5KESqaQP4QJO053JlA85+5j+KOmUDoLk8yC0KZQNy95NSz9ZhA0Ux6d9ypmEDG2w8ahV6YQLtqpbytE5hAr/k6X1bJl0CkiNABf3+XQJkXZqQnNpdAjqb7RlDtlkCCNZHp+KSWQHbEJowhXZZAbFO8LsoVlkBg4lHR8s6VQFVx53ObiJVASQB9FsRClUA+jxK5bP2UQDQeqFuVuJRAJ609/j10lEAcPNOgZjCUQBHLaEMP7ZNABlr+5Teqk0D66JOI4GeTQPB3KSsJJpNA5Aa/zbHkkkDZlVRw2qOSQM4k6hKDY5JAwrN/tasjkkC3QhVYVOSRQKzRqvp8pZFAoWBAnSVnkUCW79U/TimRQIp+a+L265BAfw0BhR+vkEB0nJYnyHKQQGgrLMrwNpBAu3SD2TL3j0Ckkq4ehIGPQI6w2WPVDI9AeM4EqSaZjkBh7C/udyaOQEoKWzPJtI1AMyiGeBpEjUAcRrG9a9SMQAZk3AK9ZYxA8IEHSA74i0DYnzKNX4uLQMK9XdKwH4tArNuIFwK1ikCW+bNcU0uKQIAX36Gk4olAaDUK5/V6iUBSUzUsRxSJQDtxYHGYrohAJY+LtulJiEAOrbb7OuaHQPjK4UCMg4dA4ugMht0hh0DLBjjLLsGGQLQkYxCAYYZAnkKOVdEChkCHYLmaIqWFQHB+5N9zSIVAWZwPJcXshEBDujpqFpKEQCzYZa9nOIRAFvaQ9Ljfg0AAFLw5CoiDQBk15hUsZptAKMI0C/MVm0A4T4MAOsaaQEjc0fUAd5pAV2kg60comkBm9m7gDtqZQHaDvdVVjJlAhhAMyxw/mUCWnVrAY/KYQKYqqbUqpphAtrf3qnFamEDFREagOA+YQNbRlJV/xJdA5V7jikZ6l0D06zGAjTCXQAR5gHVU55ZAFAbPapuelkAkkx1gYlaWQDQgbFWpDpZAQ626SnDHlUBTOglAt4CVQGLHVzV+OpVAclSmKsX0lECC4fQfjK+UQJJuQxXTapRAovuRCpomlECxiOD/4OKTQMAVL/Wnn5NA0KJ96u5ck0DgL8zftRqTQPC8GtX82JJAAEppysOXkkAQ17e/CleSQB5kBrXRFpJAL/FUqhjXkUA/fqOf35eRQE4L8pQmWZFAXphAiu0akUBuJY9/NN2QQH2y3XT7n5BAjT8sakJjkECdzHpfCSeQQFmzkqmg1o9Aec0vlC5gj0CY58x+vOqOQLcBamlKdo5A2BsHVNgCjkD2NaQ+ZpCNQBZQQSn0Ho1ANWreE4KujEBUhHv+Dz+MQHSeGOmd0ItAlLi10ytji0Cy0lK+ufaKQNLs76hHi4pA8gaNk9UgikASISp+Y7eJQDA7x2jxTolAUFVkU3/niEBwbwE+DYGIQI+JniibG4hArqM7Eym3h0DOvdj9tlOHQO7XdehE8YZADPIS09KPhkAsDLC9YC+GQEwmTajuz4VAa0DqknxxhUCKWod9ChSFQKp0JGiYt4RAyo7BUiZchEDoqF49tAGEQAjD+ydCqINAKN2YEtBPg0BH9zX9XfiCQGYR0+froYJAhitw0nlMgkCmRQ29B/iBQMVfqqeVpIFA5HlHkiNSgUAWl0qcbY2ZQEEiUuTSP5lAbK1ZLLjymECXOGF0HaaYQMLDaLwCWphA7E5wBGgOmEAX2ndMTcOXQEFlf5SyeJdAbPCG3Jcul0CWe44k/eSWQMIGlmzim5ZA7JGdtEdTlkAXHaX8LAuWQEKorESSw5VAbDO0jHd8lUCYvrvU3DWVQMJJwxzC75RA7NTKZCeqlEAYYNKsDGWUQELr2fRxIJRAbHbhPFfck0CXAemEvJiTQMKM8MyhVZNA7Rf4FAcTk0AXo/9c7NCSQEIuB6VRj5JAbbkO7TZOkkCYRBY1nA2SQMLPHX2BzZFA7VolxeaNkUAY5iwNzE6RQEJxNFUxEJFAbvw7nRbSkECYh0Ple5SQQMISSy1hV5BA7p1SdcYakEAwUrR6V72PQIRowwoiRo9A2n7SmuzPjkAwleEqt1qOQISr8LqB5o1A2sH/SkxzjUAw2A7bFgGNQIXuHWvhj4xA2wQt+6sfjEAwGzyLdrCLQIYxSxtBQotA20daqwvVikAwXmk71miKQIZ0eMug/YlA24qHW2uTiUAwoZbrNSqJQIa3pXsAwohA2820C8taiEAw5MOblfSHQIb60itgj4dA2xDiuyorh0AxJ/FL9ceGQIY9ANy/ZYZA21MPbIoEhkAxah78VKSFQIaALYwfRYVA3JY8HOrmhEAyrUustImEQIbDWjx/LYRA3NlpzEnSg0Ay8HhcFHiDQIYGiOzeHoNA3ByXfKnGgkAyM6YMdG+CQIdJtZw+GYJA3V/ELAnEgUAydtO802+BQIeM4kyeHIFA3KLx3GjKgEAyuQBtM3mAQIjPD/39KIBAuss9GpGzf0Bk+Fs6Jhd/QBAlelq7fH5AcxLkg7/Fl0C5m6Qew3qXQP8kZblGMJdARK4lVErmlkCKN+buzZyWQNDAponRU5ZAFkpnJFULlkBb0ye/WMOVQKFc6Fnce5VA5uWo9N80lUAsb2mPY+6UQHL4KSpnqJRAuIHqxOpilED9Cqtf7h2UQEOUa/px2ZNAiR0slXWVk0DOpuwv+VGTQBQwrcr8DpNAWrltZYDMkkCgQi4AhIqSQOXL7poHSZJAKlWvNQsIkkBw3m/QjseRQLZnMGuSh5FA/PDwBRZIkUBCerGgGQmRQIcDcjudypBAzYwy1qCMkEASFvNwJE+QQFifswsoEpBAPFHoTFerj0DIY2mCXjOPQFJ26rdlvI5A3ohr7WxGjkBqm+widNGNQPStbVh7XY1AgMDujYLqjEAM02/DiXiMQJfl8PiQB4xAIvhxLpiXi0CuCvNjnyiLQDkddJmmuopAxC/1zq1NikBQQnYEteGJQNtU9zm8dolAZmd4b8MMiUDyefmkyqOIQH2MetrRO4hACJ/7D9nUh0CUsXxF4G6HQB/E/XrnCYdAqtZ+sO6lhkA26f/l9UKGQML7gBv94IVATQ4CUQSAhUDYIIOGCyCFQGQzBLwSwYRA7kWF8RljhEB6WAYnIQaEQAZrh1woqoNAkX0Iki9Pg0AckInHNvWCQKiiCv09nIJAM7WLMkVEgkC+xwxoTO2BQErajZ1Tl4FA1OwO01pCgUBg/48IYu6AQOsRET5pm4BAdiSSc3BJgEAEbiZS7/B/QBqTKL39UH9AMrgqKAyzfkBI3SyTGhd+QF8CL/4ofX1AdicxaTflfECMTDPURU98QKRxNT9Uu3tAupY3qmIpe0DQuzkVcZl6QC6nsswhD5ZAji4susPGlUDwtaWn5X6VQFA9H5WHN5VAscSYgqnwlEASTBJwS6qUQHLTi11tZJRA0loFSw8flEA04n44MdqTQJRp+CXTlZNA9PBxE/VRk0BVeOsAlw6TQLb/ZO64y5JAFofe21qJkkB3DljJfEeSQNiV0bYeBpJAOB1LpEDFkUCZpMSR4oSRQPorPn8ERZFAWrO3bKYFkUC8OjFayMaQQBzCqkdqiJBAfEkkNYxKkEDd0J0iLg2QQHywLiCgoI9APL8h++Mnj0D+zRTWJ7COQMDcB7FrOY5Agev6i6/DjUBC+u1m806NQAQJ4UE324xAxhfUHHtojECGJsf3vvaLQEk1utIChotACkStrUYWi0DKUqCIiqeKQIxhk2POOYpATnCGPhLNiUAPf3kZVmGJQNCNbPSZ9ohAkpxfz92MiEBUq1KqISSIQBS6RYVlvIdA1sg4YKlVh0CW1ys77e+GQFjmHhYxi4ZAGvUR8XQnhkDbAwXMuMSFQJwS+Kb8YoVAXiHrgUAChUAfMN5chKKEQOA+0TfIQ4RAok3EEgzmg0BkXLftT4mDQCRrqsiTLYNA5nmdo9fSgkCoiJB+G3mCQGiXg1lfIIJAKqZ2NKPIgUDstGkP53GBQKzDXOoqHIFAbtJPxW7HgEAv4UKgsnOAQPHvNXv2IIBAZf1RrHSef0DnGjhi/Px+QGo4HhiEXX5A7FUEzgvAfUBuc+qDkyR9QPKQ0Dkbi3xAda6276Lze0D4y5ylKl57QHrpgluyynpA/QZpETo5ekCAJE/Hwal5QAJCNX1JHHlAhF8bM9GQeEAIfQHpWAd4QIqa557gf3dADLjNVGj6dkBIVbZ2lGmUQMTa6LbUI5RAQGAb95Tek0C85U031ZmTQDZrgHeVVZNAs/Cyt9URk0AuduX3lc6SQKr7FzjWi5JAJoFKeJZJkkChBn241geSQB2Mr/iWxpFAmRHiONeFkUAUlxR5l0WRQJAcR7nXBZFADKJ5+ZfGkECIJ6w52IeQQASt3nmYSZBAfjIRutgLkED1b4f0MZ2PQOx67HSyI49A44VR9TKrjkDakLZ1szOOQNKbG/YzvY1AyaaAdrRHjUDBseX2NNOMQLi8Sne1X4xAr8ev9zXti0Cm0hR4tnuLQJ7defg2C4tAlejeeLebikCM80P5Ny2KQIT+qHm4v4lAewkO+jhTiUByFHN6ueeIQGof2Po5fYhAYCo9e7oTiEBYNaL7OquHQFBAB3y7Q4dARkts/DvdhkA+VtF8vHeGQDZhNv08E4ZALWybfb2vhUAkdwD+PU2FQBuCZX6+64RAE43K/j6LhEAKmC9/vyuEQAGjlP8/zYNA+K35f8Bvg0DwuF4AQRODQOfDw4DBt4JA3s4oAUJdgkDV2Y2BwgOCQM3k8gFDq4FAxO9XgsNTgUC7+rwCRP2AQLIFIoPEp4BAqhCHA0VTgEBDN9gHi/9/QDFNogiMWn9AIGNsCY23fkAQeTYKjhZ+QPyOAAuPd31A7KTKC5DafEDcupQMkT98QMjQXg2SpntAueYoDpMPe0Cn/PIOlHp6QJUSvQ+V53lAhCiHEJZWeUByPlERl8d4QGFUGxKYOnhAUGrlEpmvd0A+gK8TmiZ3QC2WeRSbn3ZAHKxDFZwadkAKwg0WnZd1QPjX1xaeFnVA6O2hF5+XdEDWA2wYoBp0QMQZNhmhn3NAwhzvgRfVkkBYoNoU9pGSQO4jxqdUT5JAhqexOjMNkkAcK53NkcuRQLKuiGBwipFASTJ0885JkUDgtV+GrQmRQHY5SxkMypBADr02rOqKkECkQCI/SUyQQDrEDdInDpBAoo/yyQyhj0DQlsnvySaPQPydoBWHrY5AKqV3O0Q1jkBXrE5hAb6NQISzJYe+R41Asrr8rHvSjEDewdPSOF6MQAzJqvj16otAOdCBHrN4i0Bm11hEcAeLQJTeL2otl4pAweUGkOonikDu7N21p7mJQBz0tNtkTIlASfuLASLgiEB2AmMn33SIQKQJOk2cCohA0BARc1mhh0D/F+iYFjmHQCsfv77T0YZAWSaW5JBrhkCGLW0KTgaGQLQ0RDALooVA4TsbVsg+hUAOQ/J7hdyEQDtKyaFCe4RAaVGgx/8ahECWWHftvLuDQMNfThN6XYNA8WYlOTcAg0Aebvxe9KOCQEx104SxSIJAeHyqqm7ugUCmg4HQK5WBQNOKWPboPIFAAJIvHKblgEAtmQZCY4+AQFqg3WcgOoBAD09pG7vLf0BqXRdnNSV/QMRrxbKvgH5AIHpz/inefUB6iCFKpD19QNSWz5Uen3xAL6V94ZgCfECKsystE2h7QOTB2XiNz3pAPtCHxAc5ekCZ3jUQgqR5QPTs41v8EXlAT/uRp3aBeECoCUDz8PJ3QAQY7j5rZndAXiaciuXbdkC4NErWX1N2QBND+CHazHVAblGmbVRIdUDIX1S5zsV0QCJuAgVJRXRAfXywUMPGc0DYil6cPUpzQDOZDOi3z3JAjqe6MzJXckDotWh/rOBxQELEFssmbHFAnNLEFqH5cED34HJiG4lwQJj9XO6qUZFAS38B1CcRkUD8AKa5JNGQQK6CSp+hkZBAYATvhJ5SkEARhpNqGxSQQIYPcKAwrI9A6BK5ayoxj0BMFgI3JLeOQK8ZSwIePo5AEh2UzRfGjUB3IN2YEU+NQNgjJmQL2YxAPCdvLwVkjECgKrj6/u+LQAMuAcb4fItAZjFKkfIKi0DKNJNc7JmKQCw43CfmKYpAkDsl89+6iUDzPm6+2UyJQFZCt4nT34hAukUAVc1ziEAeSUkgxwiIQIBMkuvAnodA5E/btro1h0BGUySCtM2GQKpWbU2uZoZADVq2GKgAhkBwXf/joZuFQNRgSK+bN4VAN2SRepXUhECaZ9pFj3KEQP5qIxGJEYRAYG5s3IKxg0DEcbWnfFKDQCZ1/nJ29IJAinhHPnCXgkDue5AJajuCQFB/2dRj4IFAtIIioF2GgUAXhmtrVy2BQHuJtDZR1YBA3oz9AUt+gEBBkEbNRCiAQEonHzF9pn9ADy6xx3D+fkDWNENeZFh+QJw71fRXtH1AZEJni0sSfUAqSfkhP3J8QO9Pi7gy1HtAt1YdTyY4e0B9Xa/lGZ56QENkQXwNBnpACmvTEgFweUDQcWWp9Nt4QJZ49z/oSXhAXX+J1tu5d0Akhhttzyt3QOqMrQPDn3ZAsJM/mrYVdkB3mtEwqo11QD6hY8edB3VABKj1XZGDdEDKrof0hAF0QJG1GYt4gXNAWLyrIWwDc0Aewz24X4dyQOTJz05TDXJAq9Bh5UaVcUBy1/N7Oh9xQDjehRIuq3BA/+QXqSE5cECK11N/KpJvQBfld6wRtm5ApPKb2fjdbUAwAMAG4AltQL4N5DPHOWxAShsIYa5ta0Cg7/93nb6PQDjvuujTQo9A0u51WQrIjkBs7jDKQE6OQAXu6zp31Y1Anu2mq61djUA47WEc5OaMQNDsHI0acYxAaezX/VD8i0AD7JJuh4iLQJzrTd+9FYtANesIUPSjikDO6sPAKjOKQGjqfjFhw4lAAOo5opdUiUCa6fQSzuaIQDPpr4MEeohAzOhq9DoOiEBm6CVlcaOHQP7n4NWnOYdAmOebRt7QhkAx51a3FGmGQMrmEShLAoZAY+bMmIGchUD95YcJuDeFQJblQnru04RAL+X96iRxhEDI5LhbWw+EQGLkc8yRroNA+uMuPchOg0CU4+mt/u+CQC3jpB41koJAxuJfj2s1gkBg4hoAotmBQPjh1XDYfoFAkuGQ4Q4lgUAr4UtSRcyAQMTgBsN7dIBAXuDBM7IdgEDtv/lI0Y9/QCC/byo+5n5AU77lC6s+fkCFvVvtF5l9QLa80c6E9XxA6rtHsPFTfEAcu72RXrR7QE66M3PLFntAgbmpVDh7ekC0uB82peF5QOa3lRcSSnlAGLcL+X60eEBKtoHa6yB4QH2197tYj3dAr7RtncX/dkDis+N+MnJ2QBSzWWCf5nVAR7LPQQxddUB6sUUjedV0QKywuwTmT3RA3q8x5lLMc0AQr6fHv0pzQEOuHaksy3JAda2TiplNckCorAlsBtJxQNqrf01zWHFADKv1LuDgcEA/qmsQTWtwQOJSw+Nz729AR1Gvpk0Mb0CtT5tpJy1uQBFOhywBUm1Adkxz79p6bEDaSl+ytKdrQEBJS3WO2GpApEc3OGgNakAKRiP7QUZpQG5ED74bg2hA1EL7gPXDZ0A4QedDzwhnQJw/0wapUWZAxxaw1QX8jECYEt3reIWMQGcOCgLsD4xANgo3GF+bi0AFBmQu0ieLQNQBkURFtYpAo/29WrhDikBy+epwK9OJQEL1F4eeY4lAEfFEnRH1iEDg7HGzhIeIQK/onsn3GohAfuTL32qvh0BO4Pj13USHQB7cJQxR24ZA7NdSIsRyhkC80384NwuGQIvPrE6qpIVAWsvZZB0/hUApxwZ7kNqEQPjCM5EDd4RAyL5gp3YUhECXuo296bKDQGa2utNcUoNANrLn6c/ygkAErhQAQ5SCQNSpQRa2NoJAo6VuLCnagUByoZtCnH6BQEKdyFgPJIFAEZn1boLKgEDglCKF9XGAQK+QT5toGoBA/Bj5YreHf0CaEFOPndx+QDkIrbuDM35A2P8G6GmMfUB192AUUOd8QBTvukA2RHxAsuYUbRyje0BQ3m6ZAgR7QPDVyMXoZnpAjs0i8s7LeUAsxXwetTJ5QMq81kqbm3hAaLQwd4EGeEAIrIqjZ3N3QKaj5M9N4nZARJs+/DNTdkDjkpgoGsZ1QIGK8lQAO3VAH4JMgeaxdEC+eaatzCp0QFxxANqypXNA+mhaBpkic0CZYLQyf6FyQDdYDl9lInJA1U9oi0ulcUB0R8K3MSpxQBI/HOQXsXBAsTZ2EP45cECeXKB5yIlvQNxLVNKUo25AGDsIK2HBbUBVKryDLeNsQJAZcNz5CGxAzwgkNcYya0AL+NeNkmBqQEjni+ZekmlAhNY/PyvIaEDBxfOX9wFoQP60p/DDP2dAOqRbSZCBZkB4kw+iXMdlQLSCw/ooEWVA8HF3U/VeZEAtYSuswbBjQGtQ3wSOBmNApz+TXVpgYkDkLke2Jr5hQLJwyvWOW4pAt2hpsT7qiUC8YAht7nmJQMFYpyieColAxlBG5E2ciEDLSOWf/S6IQNBAhFutwodA1jgjF11Xh0DaMMLSDO2GQOAoYY68g4ZA5SAASmwbhkDqGJ8FHLSFQO8QPsHLTYVA9AjdfHvohED5AHw4K4SEQP/4GvTaIIRABPG5r4q+g0AJ6VhrOl2DQA7h9ybq/IJAFNmW4pmdgkAY0TWeST+CQB7J1Fn54YFAIsFzFamFgUAouRLRWCqBQC2xsYwI0IBAMqlQSLh2gEA4oe8DaB6AQHgyHX8vjn9AhCJb9o7hfkCOEplt7jZ+QJgC1+RNjn1AovIUXK3nfECu4lLTDEN8QLjSkEpsoHtAwsLOwcv/ekDMsgw5K2F6QNaiSrCKxHlA4JKIJ+opeUDqgsaeSZF4QPVyBBap+ndAAGNCjQhmd0AKU4AEaNN2QBRDvnvHQnZAHjP88ia0dUApIzpqhid1QDMTeOHlnHRAPgO2WEUUdEBI8/PPpI1zQFLjMUcECXNAXNNvvmOGckBmw601wwVyQHCz66wih3FAe6MpJIIKcUCGk2eb4Y9wQJCDpRJBF3BANOfGE0FBb0BIx0ICAFhuQF2nvvC+cm1Acoc6332RbECGZ7bNPLRrQJtHMrz72mpAsCeuqroFakDEByqZeTRpQNnnpYc4Z2hA7cchdvedZ0ACqJ1ktthmQBeIGVN1F2ZALGiVQTRaZUBASBEw86BkQFUojR6y62NAaQgJDXE6Y0B+6IT7L41iQJLIAOru42FAp6h82K0+YUC8iPjGbJ1gQNBodLUrAGBAypHgR9XNXkD0UdgkU6NdQBwS0AHRgFxARdLH3k5mW0BY/U7YON2HQJLxXzklcYdAzuVwmhEGh0AJ2oH7/ZuGQETOklzqMoZAf8KjvdbKhUC6trQew2OFQPWqxX+v/YRAMJ/W4JuYhEBsk+dBiDSEQKaH+KJ00YNA4nsJBGFvg0AccBplTQ6DQFhkK8Y5roJAk1g8JyZPgkDOTE2IEvGBQApBXun+k4FARTVvSus3gUB/KYCr19yAQLodkQzEgoBA9hGibbApgEBiDGadOaN/QNj0h18S9X5AT92pIetIfkDExcvjw559QDqu7aWc9nxAsZYPaHVQfEAofzEqTqx7QJ1nU+wmCntAFFB1rv9pekCKOJdw2Mt5QAAhuTKxL3lAdwnb9ImVeEDs8fy2Yv13QGPaHnk7Z3dA2sJAOxTTdkBPq2L97EB2QMaThL/FsHVAPHymgZ4idUCyZMhDd5Z0QChN6gVQDHRAnjUMyCiEc0AVHi6KAf5yQIwGUEzaeXJAAu9xDrP3cUB415PQi3dxQO6/tZJk+XBAZKjXVD19cEDakPkWFgNwQKLyNrLdFW9AjcN6No8pbkB7lL66QEFtQGdlAj/yXGxAUzZGw6N8a0BAB4pHVaBqQCzYzcsGyGlAGakRULjzaEAFelXUaSNoQPJKmVgbV2dA3hvd3MyOZkDK7CBhfsplQLe9ZOUvCmVApI6oaeFNZECQX+ztkpVjQHwwMHJE4WJAaQF09vUwYkBW0rd6p4RhQEOj+/5Y3GBAL3Q/gwo4YEA2igYPeC9fQBAsjhfb9l1A6c0VID7GXEDBb50ooZ1bQJoRJTEEfVpAc7OsOWdkWUBMVTRCylNYQCb3u0otS1dA/phDU5BKVkDYOstb81FVQLDcUmRWYVRAurw9fQOBhUAsrcCDLBqFQJydQ4pVtIRADo7GkH5PhEB+fkmXp+uDQO9uzJ3QiINAYF9PpPkmg0DST9KqIsaCQENAVbFLZoJAtDDYt3QHgkAlIVu+namBQJYR3sTGTIFACAJhy+/wgEB48uPRGJaAQOriZthBPIBAtabTvdXGf0CWh9nKJxd/QHto39d5aX5AXEnl5Mu9fUA+KuvxHRR9QCAL8f5vbHxAAuz2C8LGe0DlzPwYFCN7QMatAiZmgXpAqY4IM7jheUCLbw5ACkR5QG1QFE1cqHhAUDEaWq4OeEAyEiBnAHd3QBTzJXRS4XZA9tMrgaRNdkDYtDGO9rt1QLqVN5tILHVAnXY9qJqedEB/V0O17BJ0QGE4ScI+iXNARBlPz5ABc0Am+lTc4ntyQAjbWuk0+HFA6rtg9oZ2cUDMnGYD2fZwQK99bBAreXBAIb3kOvr6b0DlfvBUngdvQKpA/G5CGG5AbgIIieYsbUAyxBOjikVsQPaFH70uYmtAu0cr19KCakCACTfxdqdpQETLQgsb0GhACI1OJb/8Z0DNTlo/Yy1nQJAQZlkHYmZAVtJxc6uaZUAalH2NT9dkQN5ViafzF2RAoxeVwZdcY0Bn2aDbO6ViQCybrPXf8WFA8Fy4D4RCYUC1HsQpKJdgQPDAn4eY319AekS3u+CYXkADyM7vKFpdQIxL5iNxI1xAFc/9V7n0WkCeUhWMAc5ZQCfWLMBJr1hAr1lE9JGYV0A33Vso2olWQMBgc1wig1VASeSKkGqEVEDSZ6LEso1TQFrrufj6nlJA5G7RLEO4UUBs8uhgi9lQQPR1AJXTAlBA/PIvkjdoTkAM+l76x9pMQNyuluTuRoNAg5uLkFTlgkAqiIA8uoSCQNF0degfJYJAeGFqlIXGgUAeTl9A62iBQMY6VOxQDIFAbSdJmLawgEAUFD5EHFaAQHYBZuAD+X9AxNpPOM9Hf0AStDmQmph+QGCNI+hl631Ar2YNQDFAfUD9P/eX/JZ8QEoZ4e/H73tAmPLKR5NKe0Dny7SfXqd6QDalnvcpBnpAg36IT/VmeUDSV3KnwMl4QCAxXP+LLnhAbgpGV1eVd0C84y+vIv52QAq9GQfuaHZAWJYDX7nVdUCmb+22hER1QPRI1w5QtXRAQiLBZhsodECQ+6q+5pxzQN7UlBayE3NALK5+bn2MckB7h2jGSAdyQMhgUh4UhHFAFjo8dt8CcUBlEybOqoNwQLPsDyZ2BnBAAozz+4IWb0CgPserGSRuQDzxmluwNW1A2KNuC0dLbEB0VkK73WRrQBAJFmt0gmpArLvpGgukaUBIbr3KocloQOQgkXo482dAgNNkKs8gZ0AehjjaZVJmQLo4DIr8h2VAVuvfOZPBZEDynbPpKf9jQI5Qh5nAQGNAKgNbSVeGYkDHtS757c9hQGNoAqmEHWFA/xrWWBtvYEA4m1MRZIlfQHAA+3CRPF5AqGWi0L73XEDgykkw7LpbQBkw8Y8ZhlpAUpWY70ZZWUCK+j9PdDRYQMJf566hF1dA+sSODs8CVkA0KjZu/PVUQGyP3c0p8VNApPSELVf0UkDdWSyNhP9RQBa/0+yxElFATiR7TN8tUEAME0VYGaJOQH7dkxd0+ExA7qfi1s5eS0BgcjGWKdVJQNA8gFWEW0hAQQfPFN/xRkCz0R3UOZhFQCOcbJOUTkRAlGa7Uu8UQ0C601kO+y6BQJe8wF+d0oBAdKUnsT93gEBQjo4C4hyAQFru6qcIh39AFcC4Sk3WfkDPkYbtkSd+QIpjVJDWen1ARDUiMxvQfED9BvDVXyd8QLjYvXikgHtAcqqLG+nbekAsfFm+LTl6QOdNJ2FymHlAoB/1A7f5eEBa8cKm+1x4QBTDkElAwndAzpRe7IQpd0CIZiyPyZJ2QEI4+jEO/nVA/AnI1FJrdUC325V3l9p0QHCtYxrcS3RAK38xvSC/c0DlUP9fZTRzQJ8izQKqq3JAWvSape4kckATxmhIM6BxQM6XNut3HXFAh2kEjryccEBBO9IwAR5wQPcZQKeLQm9Aar3b7BRNbkDeYHcynlttQFMEE3gnbmxAx6euvbCEa0A7S0oDOp9qQK/u5UjDvWlAI5KBjkzgaECXNR3U1QZoQAzZuBlfMWdAgHxUX+hfZkD0H/CkcZJlQGjDi+r6yGRA3GYnMIQDZEBQCsN1DUJjQMStXruWhGJAOVH6ACDLYUCs9JVGqRVhQCGYMYwyZGBAKneao3dtX0ASvtEuihpeQPoECbqcz1xA4ktARa+MW0DKknfQwVFaQLPZrlvUHllAnCDm5ubzV0CDZx1y+dBWQGyuVP0LtlVAVPWLiB6jVEA8PMMTMZhTQCSD+p5DlVJADMoxKlaaUUD1EGm1aKdQQLqvQIH2eE9Aiz2vlxuzTUBcyx2uQP1LQCxZjMRlV0pA/Ob62orBSEDOdGnxrztHQJ4C2AfVxUVAbpBGHvpfREA/HrU0HwpDQA+sI0tExEFA4DmSYWmOQEBgjwHwHNE+QAKr3hxnpTxAo8a7SbGZOkBE4ph2+604QOX9daNF4jZAqlYO9U9yfkDRIMDiDcR9QPbqcdDLF31AHLUjvoltfEBCf9WrR8V7QGlJh5kFH3tAjxM5h8N6ekC03ep0gdh5QNqnnGI/OHlAAHJOUP2ZeEAnPAA+u/13QE0Gsit5Y3dActBjGTfLdkCZmhUH9TR2QL9kx/SyoHVA5C554nAOdUAL+SrQLn50QDHD3L3s73NAV42Oq6pjc0B8V0CZaNlyQKMh8oYmUXJAyOujdOTKcUDvtVViokZxQBSAB1BgxHBAO0q5PR5EcEDCKNZWuItvQA29OTI0k25AWVGdDbCebUCm5QDpK65sQPJ5ZMSnwWtAPg7InyPZakCKoit7n/RpQNY2j1YbFGlAIsvyMZc3aEBuX1YNE19nQLrzueiOimZABogdxAq6ZUBSHIGfhu1kQJ6w5HoCJWRA6kRIVn5gY0A22asx+p9iQIJtDw1242FAzgFz6PEqYUAaltbDbXZgQMtUdD7Ti19AZH079coyXkD8pQKswuFcQJTOyWK6mFtALPeQGbJXWkDEH1jQqR5ZQFxIH4eh7VdA9HDmPZnEVkCMma30kKNVQCTCdKuIilRAvOo7YoB5U0BUEwMZeHBSQO07ys9vb1FAhWSRhmd2UEA5GrF6vgpPQGprP+itOE1AmbzNVZ12S0DKDVzDjMRJQPpe6jB8IkhAKrB4nmuQRkBaAQcMWw5FQIlSlXlKnENAuqMj5zk6QkDq9LFUKehAQDSMgIQxTD9AlC6dXxDoPED00Lk676M6QFRz1hXOfzhAtBXz8Kx7NkAUuA/Mi5c0QHRaLKdq0zJA1fxIgkkvMUBqPsu6UFYvQCqDBHEOjixA6sc9J8wFKkCqDHfdib0nQF5rPVLrynpA8C3TiiInekCC8GjDWYV5QBSz/vuQ5XhApnWUNMhHeEA4OCpt/6t3QMn6v6U2EndAXL1V3m16dkDuf+sWpeR1QH9CgU/cUHVAEQUXiBO/dECjx6zASi90QDWKQvmBoXNAx0zYMbkVc0BaD25q8ItyQOvRA6MnBHJAfZSZ215+cUAQVy8UlvpwQKAZxUzNeHBAZri1Cgnyb0CKPeF7d/ZuQK3CDO3l/m1A0Uc4XlQLbUD1zGPPwhtsQBhSj0AxMGtAPde6sZ9IakBgXOYiDmVpQIThEZR8hWhAqGY9BeupZ0DM62h2WdJmQPBwlOfH/mVAFPa/WDYvZUA4e+vJpGNkQFwAFzsTnGNAf4VCrIHYYkCkCm4d8BhiQMiPmY5eXWFA6xTF/8ylYEAfNOHhduRfQGY+OMRThV5ArkiPpjAuXUD2UuaIDd9bQD5dPWvql1pAhmeUTcdYWUDOcesvpCFYQBV8QhKB8lZAXIaZ9F3LVUCkkPDWOqxUQOyaR7kXlVNANKWem/SFUkB8r/V90X5RQMS5TGCuf1BAF4hHhRYRT0CnnPVJ0DJNQDaxow6KZEtAxsVR00OmSUBW2v+X/fdHQOXurVy3WUZAdQNcIXHLREAFGArmKk1DQJQsuKrk3kFAJEFmb56AQEBmqyhosGQ+QIXUhPEj6DtApv3gepeLOUDEJj0EC083QONPmY1+MjVAAnn1FvI1M0AiolGgZVkxQIKWW1OyOS9AwOgTZpkALED+Osx4gAcpQDyNhItnTiZAe988nk7VI0C5MfWwNZwhQO8HW4c5Rh9AbKzLrAfUG0DoUDzS1eEYQGX1rPejbxZA4pkdHXJ9FECL5UA0yGd3QImgurd4znZAh1s0Oyk3dkCFFq6+2aF1QITRJ0KKDnVAgYyhxTp9dEB/RxtJ6+1zQHwClcybYHNAer0OUEzVckB4eIjT/EtyQHYzAletxHFAdO572l0/cUByqfVdDrxwQHBkb+G+OnBA3D7Syd52b0DYtMXQP3xuQNQqudeghW1A0KCs3gGTbEDMFqDlYqRrQMeMk+zDuWpAwwKH8yTTaUC+eHr6hfBoQLrubQHnEWhAtmRhCEg3Z0Cy2lQPqWBmQK5QSBYKjmVAqsY7HWu/ZEClPC8kzPRjQKGyIistLmNAnCgWMo5rYkCZngk576xhQJUU/T9Q8mBAkIrwRrE7YEAYAcibJBJfQBDtrqnmtF1ACNmVt6hfXED/xHzFahJbQPiwY9MszVlA7pxK4e6PWEDmiDHvsFpXQN10GP1yLVZA1GD/CjUIVUDMTOYY9+pTQMQ4zSa51VJAvCS0NHvIUUCzEJtCPcNQQFb5A6H+i09ARNHRvIKhTUA0qZ/YBsdLQCKBbfSK/ElAElk7EA9CSEAAMQksk5dGQPAI10cX/URA3+CkY5tyQ0DOuHJ/H/hBQLyQQJujjUBAWNEcbk9mPkA2gbilV9E7QBQxVN1fXDlA8+DvFGgHN0DRkItMcNI0QK9AJ4R4vTJAjfDCu4DIMEDXQL3mEectQJOg9FUifSpAUAAsxTJTJ0AMYGM0Q2kkQMm/mqNTvyFACj+kJciqHkCC/hIE6VYaQPq9geIJgxZAdH3wwCovE0DsPF+fS1sQQMr4m/vYDgxAvHd5uBpnCECt9lZ1XL8FQKB1NDKeFwRAkPQR799vA0CCc++rIcgDQHTyzGhjIAVANsUYm+ZIdECfeHZpELpzQAos1Dc6LXNAc98xBmSickDcko/UjRlyQEZG7aK3knFAsPlKceENcUAarag/C4twQIRgBg41CnBA3CfIuL0Wb0CwjoNVER1uQIP1PvJkJ21AVlz6jrg1bEAqw7UrDEhrQP4pcchfXmpA0pAsZbN4aUCk9+cBB5doQHheo55auWdATMVeO67fZkAgLBrYAQpmQPOS1XRVOGVAx/mQEalqZECbYEyu/KBjQG7HB0tQ22JAQi7D56MZYkAWlX6E91thQOr7OSFLomBAesXqez3ZX0Ahk2G15HVeQMhg2O6LGl1AcC5PKDPHW0AY/MVh2ntaQL7JPJuBOFlAZpez1Cj9V0ANZSoO0MlWQLUyoUd3nlVAXAAYgR57VEADzo66xV9TQKubBfRsTFJAUml8LRRBUUD5NvNmuz1QQEAJ1EDFhE5AkKTBsxOeTEDeP68mYsdKQCzbnJmwAElAe3aKDP9JR0DKEXh/TaNFQBitZfKbDERAZ0hTZeqFQkC240DYOA9BQAr+XJYOUT9ApjQ4fKujPEBDaxNiSBY6QOCh7kflqDdAfdjJLYJbNUAaD6UTHy4zQLhFgPm7IDFAqvi2vrFmLkDkZW2K68sqQB/TI1YlcSdAWUDaIV9WJECUrZDtmHshQJw1jnKlwR1AERD7CRkMGUCG6mehjNYUQPrE1DgAIRFA3j6DoOfWC0DI81zPzmsGQLGoNv61AAJANbsgWjor/T8IJdS3CFX4P9uOhxXXfvU/rvg6c6Wo9D+BYu7Qc9L1P1TMoS5C/Pg/JzZVjBAm/j/8TwR176cCQOYE3qPWPAdA0Lm30r3RDEBdt8iAUrMRQFoKxYZGbnFAMLYGoOnpcEAGYki5jGdwQLYbFKVfzm9AYnOX16XRbkAOyxoK7NhtQLoinjwy5GxAZHohb3jza0AQ0qShvgZrQLwpKNQEHmpAZ4GrBks5aUAS2S45kVhoQL4wsmvXe2dAaog1nh2jZkAV4LjQY85lQME3PAOq/WRAbI+/NfAwZEAY50JoNmhjQMM+xpp8o2JAb5ZJzcLiYUAa7sz/CCZhQMZFUDJPbWBA4zqnySpxX0A66q0utw9eQJCZtJNDtlxA6Ei7+M9kW0A/+MFdXBtaQJanyMLo2VhA7FbPJ3WgV0BEBtaMAW9WQJu13PGNRVVA8mTjVhokVEBJFOq7pgpTQKDD8CAz+VFA+HL3hb/vUECdRPzVl9xPQEujCaCw6U1A+QEXaskGTECnYCQ04jNKQFa/Mf76cEhAAx4/yBO+RkCyfEySLBtFQF/bWVxFiENADjpnJl4FQkC8mHTwdpJAQNLuA3UfXz5AMKweCVG5O0CMaTmdgjM5QOgmVDG0zTZARORuxeWHNECgoYlZF2IyQPxepO1IXDBAsjh+A/XsLEBqs7MrWGEpQCIu6VO7FSZA2qgefB4KI0CSI1SkgT4gQJY8E5nJZRtACDJ+6Y/OFkB4J+k5VrcSQNE5qBQ5QA5AsiR+tcURCECUD1RWUuMCQOz0U+69af0/rsr/L9cM9z9xoKtx8K/yPzR2V7MJU/A/7pcG6kXs7z+6Ia82PJnxP3z3WnhVPPU/QM0Gum7f+j+BUdn9Q0EBQGI8r57QEgZARCeFP13kC0ATiS3w9FoRQIN+mEC7QxVA9HMDkYGsGUBkaW7hR5UeQGuv7BgH/yFAIyoiQWrzJEDyaYvuz69tQHay1rYIvGxA+vohf0HMa0B8Q21HeuBqQACMuA+z+GlAg9QD2OsUaUAHHU+gJDVoQIplmmhdWWdADa7lMJaBZkCR9jD5zq1lQBQ/fMEH3mRAmIfHiUASZEAb0BJSeUpjQJ8YXhqyhmJAImGp4urGYUClqfSqIwthQCnyP3NcU2BAWHUWdyo/X0BgBq0HnN9dQGaXQ5gNiFxAbSjaKH84W0B0uXC58PBZQHpKB0pisVhAgtud2tN5V0CIbDRrRUpWQJD9yvu2IlVAlo5hjCgDVECdH/gcmutSQKSwjq0L3FFAq0ElPn3UUEBkpXed3alPQHDHpL7Auk1AfunR36PbS0CMC/8AhwxKQJotLCJqTUhAp09ZQ02eRkC2cYZkMP9EQMOTs4UTcENA0LXgpvbwQUDe1w3I2YFAQNjzddJ5RT5A8zfQFECnO0AOfCpXBik5QCrAhJnMyjZARQTf25KMNEBgSDkeWW4yQHuMk2AfcDBALqHbRcsjLUBkKZDKV6cpQJuxRE/kaiZA0jn503BuI0AIwq1Y/bEgQH2UxLoTaxxA66QtxCzyF0BYtZbNRfkTQMXF/9ZegBBAZKzRwO8OC0A+zaPTIR0GQBjudeZTKwJA5h2Q8gtz/j+aXzQYcI/6P0+h2D3Uq/g/BON8YzjI+D+4JCGJnOT6P25mxa4AAf8/EdQ0arKOAkDr9AZ95JwGQMYV2Y8WqwtAUJtVUaTcEEC9q75avWMUQCq8J2TWahhAl8yQbe/xHECC7nw7hPwgQLl2McAQwCNA8P7lRJ3DJkAmh5rJKQcqQF4PT062ii1AysuBaSGnMEDlD9yr56gyQAFUNu6tyjRAKIo12ZULaUCEw0g3wSxoQN/8W5XsUWdAOjZv8xd7ZkCWb4JRQ6hlQPKola9u2WRATOKoDZoOZECoG7xrxUdjQANVz8nwhGJAXo7iJxzGYUC6x/WFRwthQBQBCeRyVGBA4HQ4hDxDX0CW515Ak+VdQE1ahfzpj1xABM2ruEBCW0C6P9J0l/xZQHCy+DDuvlhAKCUf7USJV0Del0Wpm1tWQJQKbGXyNVVAS32SIUkYVEAB8LjdnwJTQLhi35n29FFAb9UFVk3vUEBKkFgkSONPQLh1pZz1901AJlvyFKMcTECSQD+NUFFKQAAmjAX+lUhAbAvZfavqRkDa8CX2WE9FQEfWcm4GxENAtLu/5rNIQkAgoQxfYd1AQBsNs64dBD9A9tdMn3htPEDQouaP0/Y5QKptgIAuoDdAhDgacYlpNUBeA7Rh5FIzQDrOTVI/XDFAKDLPhTQLL0DcxwJn6p0rQJBdNkigcChARfNpKVaDJUD5iJ0KDNYiQK0e0evBaCBAxGgJmu92HEAslHBcW5wYQJa/1x7HQRVA/uo+4TJnEkBoFqajngwQQKODGswUZAxAdNroUOyuCUBGMbfVw/kHQBiIhVqbRAdA6t5T33KPB0C9NSJkStoIQI6M8OghJQtAYOO+bflvDkAanUZ5aF0RQIPIrTvUAhRA6vMU/j8oF0BUH3zAq80aQL1K44IX8x5AFDulokHMIUDI0NiD914kQHxmDGWtMSdAMfw/RmNEKkDlkXMnGZctQM2TU4TnlDBAp17tdEJ+MkCBKYdlnYc0QFz0IFb4sDZANr+6RlP6OEAQilQ3rmM7QOpU7icJ7T1A4w9EDDJLQEBQ9ZCE369BQFR1iM3e72RAiJ9jwfwlZEC7yT61GmBjQO7zGak4nmJAIh71nFbgYUBUSNCQdCZhQIhyq4SScGBAdjkN8WB9X0DcjcPYnCFeQELiecDYzVxAqDYwqBSCW0AOi+aPUD5aQHXfnHeMAllA3DNTX8jOV0BCiAlHBKNWQKjcvy5Af1VADjF2FnxjVEB0hSz+t09TQNzZ4uXzQ1JAQi6ZzS9AUUCogk+1a0RQQByuCzpPoU5A6VZ4CcfJTEC1/+TYPgJLQIKoUai2SklATlG+dy6jR0Ac+ipHpgtGQOiilxYehERAtEsE5pUMQ0CC9HC1DaVBQE2d3YSFTUBANIyUqPoLPkDN3W1H6pw7QGYvR+bZTTlAAIEghckeN0Ca0vkjuQ81QDIk08KoIDNAy3WsYZhRMUDKjgsBEEUvQPwxvj7vJixAL9VwfM5IKUBheCO6raomQJMb1veMTCRAxr6INWwuIkD5YTtzS1AgQFYK3GFVZB1Au1BB3ROoGkAgl6ZY0msYQIbdC9SQrxZA6iNxT09zFUBOatbKDbcUQLSwO0bMehRAGPegwYq+FEB+PQY9SYIVQOODa7gHxhZAR8rQM8aJGECtEDavhM0aQBJXmypDkR1AvE4A04BqIEDt8bIQYEwiQCCVZU4/biRAUzgYjB7QJkCG28rJ/XEpQLh+fQfdUyxA6yEwRbx1L0COYnHBzWsxQCe0SmC9PDNAwQUk/6wtNUBaV/2dnD43QPSo1jyMbzlAjfqv23vAO0AmTIl6azE+QOBOsYwtYUBArPcdXKW5QUB4oIorHSJDQEZJ9/qUmkRAEvJjygwjRkDemtCZhLtHQKxDPWn8Y0lAeOypOHQcS0B2K4TLqlxhQIJGJ1W7p2BAGMOUvZftX0Au+drQuJNeQEQvIeTZQV1AW2Vn9/r3W0Bxm60KHLZaQIfR8x09fFlAnQc6MV5KWECzPYBEfyBXQMpzxleg/lVA4KkMa8HkVED231J+4tJTQAwWmZEDyVJAIkzfpCTHUUA4giW4Rc1QQJ1w15bNtk9AyNxjvQ/jTUD2SPDjUR9MQCG1fAqUa0pATSEJMdbHSEB6jZVXGDRHQKb5IX5asEVA0mWupJw8RED+0TrL3thCQCo+x/EghUFAVqpTGGNBQEAELcB9Shs+QF0F2crO0ztAtt3xF1OsOUAOtgpl16Q3QGaOI7JbvTVAv2Y8/9/1M0AXP1VMZE4yQHAXbpnoxjBAkN8Nzdm+LkBBkD9n4i8sQPJAcQHr4ClAovGim/PRJ0BTotQ1/AImQARTBtAEdCRAtQM4ag0lI0BktGkEFhYiQBZlm54eRyFAxhXNOCe4IEB2xv7SL2kgQCh3MG04WiBA2CdiB0GLIECJ2JOhSfwgQDmJxTtSrSFA6jn31VqeIkCa6ihwY88jQEybWgpsQCVA/EuMpHTxJkCs/L0+feIoQF2t79iFEytADl4hc46ELUBfh6mGyxowQLdfwtNPkzFAEDjbINQrM0BoEPRtWOQ0QMHoDLvcvDZAGMElCGG1OEBxmT5V5c06QMpxV6JpBj1AIkpw7+1eP0A9kUQeuetAQGn90ET7N0JAlmldaz2UQ0DB1emRfwBFQO5BdrjBfEZAGq4C3wMJSEBGGo8FRqVJQHKGGyyIUUtAnvKnUsoNTUDLXjR5DNpOQHtl4E8nW1BAkpsmY0hRUUCo0Wx2aU9SQL4Hs4mKVVNAHllRpvOjXEDjcCfl+WNbQKqI/SMALFpAcKDTYgb8WEA1uKmhDNRXQPvPf+AStFZAwedVHxmcVUCG/yteH4xUQE0XAp0lhFNAEi/Y2yuEUkDYRq4aMoxRQJ5ehFk4nFBAyOy0MH1oT0BTHGGuiahNQOBLDSyW+EtAbHu5qaJYSkD3qmUnr8hIQILaEaW7SEdADgq+IsjYRUCaOWqg1HhEQCZpFh7hKENAsZjCm+3oQUA9yG4Z+rhAQJLvNS4NMj9AqU6OKSYSPUDBreYkPxI7QNcMPyBYMjlA72uXG3FyN0AGy+8WitI1QB4qSBKjUjRANImgDbzyMkBM6PgI1bIxQGRHUQTukjBA9kxT/w0mL0AkCwT2P2YtQFTJtOxx5itAg4dl46OmKkCyRRba1aYpQOADx9AH5yhAEMJ3xzlnKEA+gCi+aycoQGw+2bSdJyhAnPyJq89nKEDKujqiAegoQPl465gzqClAKDecj2WoKkBX9UyGl+grQIWz/XzJaC1AtHGuc/soL0Dxly+1lpQwQAj3h7CvtDFAIFbgq8j0MkA3tTin4VQ0QE4UkaL61DVAZnPpnRN1N0B+0kGZLDU5QJUxmpRFFTtArJDyj14VPUDE70qLdzU/QG6nUUPIukBA+tb9wNTqQUCEBqo+4SpDQBA2VrztekRAnGUCOvraRUAola63BktHQLPEWjUTy0hAQPQGsx9bSkDKI7MwLPtLQFdTX644q01A4oILLEVrT0A32dvUqJ1QQPzwsROvjVFAwgiIUrWFUkCIIF6Ru4VTQE44NNDBjVRAFFAKD8idVUDaZ+BNzrVWQKB/tozU1VdAZpeMy9r9WEAsr2IK4S1aQDzx68iXn1dAsepRM4OJVkAn5LedbntVQJ3dHQhadVRAEteDckV3U0CI0OncMIFSQP7JT0cck1FAc8O1sQetUEDSeTc45p1PQL1sAw298U1AqF/P4ZNVTECUUpu2aslKQH5FZ4tBTUlAajgzYBjhR0BUK/8074RGQEAeywnGOEVAKxGX3pz8Q0AWBGOzc9BCQAL3LohKtEFA7en6XCGoQECwuY1j8Fc/QIafJQ2efz1AXYW9tkvHO0Aya1Vg+S46QAhR7QmntjhA4DaFs1ReN0C2HB1dAiY2QIwCtQawDTVAYuhMsF0VNEA4zuRZCz0zQA60fAO5hDJA5pkUrWbsMUC8f6xWFHQxQJJlRADCGzFAaEvcqW/jMEA/MXRTHcswQBUXDP3K0jBA7Pyjpnj6MEDC4jtQJkIxQJjI0/nTqTFAbq5ro4ExMkBFlANNL9kyQBt6m/bcoDNA8l8zoIqINEDIRctJOJA1QJ4rY/PltzZAdRH7nJP/N0BM95JGQWc5QCLdKvDu7jpA+MLCmZyWPEDOqFpDSl4+QFJHefb7IkBAPjpFy9ImQUAoLRGgqTpCQBQg3XSAXkNA/xKpSVeSREDqBXUeLtZFQNb4QPMEKkdAwOsMyNuNSECs3ticsgFKQJfRpHGJhUtAgsRwRmAZTUBttzwbN71OQCxVBPiGOFBAok5qYnIaUUAYSNDMXQRSQI1BNjdJ9lJAAjucoTTwU0B4NAIMIPJUQO4taHYL/FVAZCfO4PYNV0DZIDRL4idYQE4amrXNSVlAxBMAILlzWkA6DWaKpKVbQLAGzPSP31xAJQAyX3shXkCa+ZfJZmtfQIj5/hmpXmBAQ/Yxz54LYUBGH9j+QaxTQGz6zZQSwFJAkdXDKuPbUUC2sLnAs/9QQNyLr1aEK1BAAs5K2am+TkBMhDYFSzZNQJg6IjHsvUtA4vANXY1VSkAup/mILv1IQHhd5bTPtEdAwhPR4HB8RkANyrwMElRFQFeAqDizO0RAojaUZFQzQ0Ds7H+Q9TpCQDija7yWUkFAgllX6Dd6QECaH4YosmM/QDCMXYD08j1Axfg02DaiPEBaZQwweXE7QPDR44e7YDpAhj673/1vOUAbq5I3QJ84QLAXao+C7jdARoRB58RdN0Db8Bg/B+02QHBd8JZJnDZABsrH7otrNkCcNp9Gzlo2QDGjdp4QajZAxg9O9lKZNkBbfCVOleg2QPDo/KXXVzdAhlXU/RnnN0AbwqtVXJY4QLEug62eZTlARZtaBeFUOkDcBzJdI2Q7QHB0CbVlkzxABuHgDKjiPUCbTbhk6lE/QBndR16WcEBAY5MzijdIQUCuSR+22C9CQPn/CuJ5J0NAQ7b2DRsvRECObOI5vEZFQNgizmVdbkZAJNm5kf6lR0Buj6W9n+1IQLpFkelARUpAA/x8FeKsS0BPsmhBgyRNQJloVG0krE5Acg+gzOIhUECX6pVis/VQQL3Fi/iD0VFA4qCBjlS1UkAHfHckJaFTQCxXbbr1lFRAUjJjUMaQVUB4DVnmlpRWQJ3oTnxnoFdAwsNEEji0WEDonjqoCNBZQA16MD7Z81pAMlUm1KkfXEBYMBxqelNdQHwLEgBLj15AouYHlhvTX0Dk4P4Vdo9gQHbO+WBeOWFACrz0q0bnYUCcqe/2LpliQC6X6kEXT2NAwYTljP8IZEBUcuDX58ZkQOdf2yLQiGVAPeMVSPLJUEASoJsJqAdQQM65Qpa7mk5AeDNOGSc2TUAirVmckuFLQMwmZR/+nEpAd6BwomloSUAhGnwl1UNIQMuTh6hAL0dAdg2TK6wqRkAgh56uFzZFQMoAqjGDUURAdnq1tO58Q0Af9MA3WrhCQMltzLrFA0JAdOfXPTFfQUAeYePAnMpAQMja7kMIRkBA5Kj0jeeiP0A5nAuUvtk+QI2PIpqVMD5A4YI5oGynPUA2dlCmQz49QItpZ6wa9TxA31x+svHLPEA0UJW4yMI8QIhDrL6f2TxA3DbDxHYQPUAxKtrKTWc9QIYd8dAk3j1A2hAI1/t0PkAuBB/d0is/QML7mvFUAUBAa3WmdMB8QEAW77H3KwhBQMBovXqXo0FAauLI/QJPQkAUXNSAbgpDQL/V3wPa1UNAaU/rhkWxREATyfYJsZxFQL1CAo0cmEZAZ7wNEIijR0ASNhmT875IQLyvJBZf6klAZikwmcolS0AQozscNnFMQLscR5+hzE1AZZZSIg04T0AICK9SvFlQQNzENBRyH1FAsoG61SftUUCHPkCX3cJSQFz7xViToFNAMbhLGkmGVEAGddHb/nNVQNsxV520aVZAsO7cXmpnV0CFq2IgIG1YQFpo6OHVellAMCVuo4uQWkAF4vNkQa5bQNqeeSb301xArlv/56wBXkCEGIWpYjdfQK1qhTWMOmBAF0lIFmfdYECCJwv3QYRhQOwFztccL2JAV+SQuPfdYkDBwlOZ0pBjQCyhFnqtR2RAl3/ZWogCZUACXpw7Y8FlQGw8Xxw+hGZA1hoi/RhLZ0BB+eTd8xVoQKzXp77O5GhAFrZqn6m3aUCBlC2AhI5qQEF6SklR8U1ASrd1I4fATEBU9KD9vJ9LQF4xzNfyjkpAaG73sSiOSUByqyKMXp1IQHvoTWaUvEdAhSV5QMrrRkCOYqQaACtGQJmfz/Q1ekVAotz6zmvZRECtGSapoUhEQLZWUYPXx0NAwJN8XQ1XQ0DJ0Kc3Q/ZCQNMN0xF5pUJA3Ur+665kQkDnhynG5DNCQPDEVKAaE0JA+gGAelACQkAEP6tUhgFCQA581i68EEJAGLkBCfIvQkAg9izjJ19CQCszWL1dnkJANHCDl5PtQkA/ra5xyUxDQEjq2Uv/u0NAUicFJjU7REBcZDAAa8pEQGWhW9qgaUVAbt6GtNYYRkB4G7KODNhGQIJY3WhCp0dAjJUIQ3iGSECW0jMdrnVJQJ8PX/fjdEpAqUyK0RmES0CzibWrT6NMQLzG4IWF0k1AxgMMYLsRT0BooBudeDBQQO0+MYoT4FBAct1Gd66XUUD2e1xkSVdSQHsaclHkHlNAALmHPn/uU0CFV50rGsZUQAr2shi1pVVAj5TIBVCNVkAUM97y6nxXQJnR89+FdFhAHnAJzSB0WUCjDh+6u3taQCetNKdWi1tArUtKlPGiXEAx6l+BjMJdQLaIdW4n6l5AnZPFLeEMYEDgYlCkrqhgQCIy2xp8SGFAZAFmkUnsYUCn0PAHF5RiQOqfe37kP2NALG8G9bHvY0BuPpFrf6NkQLENHOJMW2VA9NymWBoXZkA2rDHP59ZmQHh7vEW1mmdAukpHvIJiaED9GdIyUC5pQEDpXKkd/mlAgbjnH+vRakDEh3KWuKlrQAhX/QyGhWxASiaIg1NlbUCM9RL6IEluQM7EnXDuMG9ACEqU810OcEDiWQwpynBMQEtaV1rKk0tAtVqii8rGSkAeW+28yglKQIdbOO7KXElA8FuDH8u/SEBZXM5QyzJIQMJcGYLLtUdALF1ks8tIR0CUXa/ky+tGQP5d+hXMnkZAZ15FR8xhRkDQXpB4zDRGQDlf26nMF0ZAol8m28wKRkAMYHEMzQ1GQHVgvD3NIEZA3mAHb81DRkBIYVKgzXZGQLFhndHNuUZAGmLoAs4MR0CDYjM0zm9HQOxifmXO4kdAVmPJls5lSEC/YxTIzvhIQClkX/nOm0lAkWSqKs9OSkD6ZPVbzxFLQGRlQI3P5EtAzmWLvs/HTEA3Ztbvz7pNQKBmISHQvU5ACWdsUtDQT0C6s9tB6HlQQO4zgVpoE1FAIrQmc+i0UUBXNMyLaF5SQIy0caToD1NAwDQXvWjJU0D1tLzV6IpUQCo1Yu5oVFVAXrUHB+klVkCTNa0faf9WQMi1Ujjp4FdA/DX4UGnKWEAxtp1p6btZQGU2Q4JptVpAm7bomum2W0DPNo6zacBcQAK3M8zp0V1ANzfZ5GnrXkC2W7/+dAZgQNEbEgs1m2BA69tkF/UzYUAGnLcjtdBhQCBcCjB1cWJAOhxdPDUWY0BU3K9I9b5jQG6cAlW1a2RAiVxVYXUcZUCjHKhtNdFlQL7c+nn1iWZA2JxNhrVGZ0DyXKCSdQdoQA0d8541zGhAJt1Fq/WUaUBBnZi3tWFqQFtd68N1MmtAdh0+0DUHbECQ3ZDc9d9sQKqd4+i1vG1AxV029XWdbkDeHYkBNoJvQPzu7QZ7NXBACk8XDdurcEAXr0ATOyRxQCQPahmbnnFAMW+TH/sackA+z7wlW5lyQEwv5iu7GXNAWWVxL08STUAjKdy3GYlMQOzsRkDkD0xAtLCxyK6mS0B+dBxReU1LQEY4h9lDBEtAD/zxYQ7LSkDYv1zq2KFKQKCDx3KjiEpAakcy+21/SkAzC52DOIZKQPzOBwwDnUpAxJJylM3DSkCMVt0cmPpKQFYaSKViQUtAHt6yLS2YS0DmoR229/5LQLBliD7CdUxAeSnzxoz8TEBC7V1PV5NNQAqxyNchOk5A03QzYOzwTkCcOJ7otrdPQDJ+hLhAR1BAFuC5/KW6UED7Qe9ACzZRQN+jJIVwuVFAxAVaydVEUkCoZ48NO9hSQIzJxFGgc1NAcSv6lQUXVEBVjS/aasJUQDrvZB7QdVVAHlGaYjUxVkACs8+mmvRWQOcUBev/v1dAynY6L2WTWECv2G9zym5ZQJQ6pbcvUlpAeJza+5Q9W0Bc/g9A+jBcQEBgRYRfLF1AJcJ6yMQvXkAKJLAMKjtfQPfCcqhHJ2BA6XONSvq0YEDbJKjsrEZhQM7Vwo5f3GFAwIbdMBJ2YkCyN/jSxBNjQKToEnV3tWNAl5ktFypbZECISki53ARlQHr7YluPsmVAbqx9/UFkZkBgXZif9BlnQFEOs0Gn02dAQ7/N41mRaEA2cOiFDFNpQCghAyi/GGpAG9IdynHiakAMgzhsJLBrQP8zUw7XgWxA8ORtsIlXbUDklYhSPDFuQNZGo/TuDm9AyPe9lqHwb0BdVGwcKmtwQNaseW0D4HBATwWHvtxWcUDIXZQPts9xQEK2oWCPSnJAug6vsWjHckA0Z7wCQkZzQKy/yVMbx3NAJhjXpPRJdECgcOT1zc50QBjJ8UanVXVAkiH/l4DedUAKegzpWWl2QK+ceVzg1U9A1iMEPHWgT0D+qo4bCntPQCgyGfueZU9ATrmj2jNgT0B3QC66yGpPQKDHuJldhU9AyE5DefKvT0Dw1c1Yh+pPQIwuLByOGlBAIHLxi9hHUEC0tbb7In1QQEj5e2ttulBA3DxB27f/UEBwgAZLAk1RQAbEy7pMolFAmQeRKpf/UUAtS1aa4WRSQMGOGwos0lJAVdLgeXZHU0DpFabpwMRTQH1Za1kLSlRAEp0wyVXXVECm4PU4oGxVQDoku6jqCVZAzmeAGDWvVkBiq0WIf1xXQPfuCvjJEVhAijLQZxTPWEAfdpXXXpRZQLK5WkepYVpARv0ft/M2W0DbQOUmPhRcQG+EqpaI+VxABMhvBtPmXUCXCzV2HdxeQCxP+uVn2V9AYMnfKllvYEAqa8Ji/vVgQPQMpZqjgGFAvq6H0kgPYkCIUGoK7qFiQFLyTEKTOGNAHJQvejjTY0DmNRKy3XFkQLDX9OmCFGVAennXISi7ZUBFG7pZzWVmQA69nJFyFGdA2V5/yRfHZ0CjAGIBvX1oQGyiRDliOGlAN0QncQf3aUAB5gmprLlqQMuH7OBRgGtAlinPGPdKbEBgy7FQnBltQCptlIhB7G1A8g53wObCbkC9sFn4i51vQEQpHpgYPnBAKHoPNGuvcEAOywDQvSJxQPMb8msQmHFA2GzjB2MPckC9vdSjtYhyQKIOxj8IBHNAh1+321qBc0BssKh3rQB0QFIBmhMAgnRAN1KLr1IFdUAbo3xLpYp1QAD0bef3EXZA5URfg0qbdkDKlVAfnSZ3QLDmQbvvs3dAlDczV0JDeEB6iCTzlNR4QF/ZFY/nZ3lARCoHKzr9eUDsfxLYvl1SQDClZ3PubFJAdMq8Dh6EUkC47xGqTaNSQPwUZ0V9ylJAQDq84Kz5UkCEXxF83DBTQMiEZhcMcFNADKq7sju3U0BQzxBOawZUQJT0ZemaXVRA2Bm7hMq8VEAcPxAg+iNVQF9kZbspk1VApIm6VlkKVkDnrg/yiIlWQCvUZI24EFdAbvm5KOifV0CyHg/EFzdYQPdDZF9H1lhAOmm5+nZ9WUB+jg6WpixaQMKzYzHW41pABtm4zAWjW0BK/g1oNWpcQI4jYwNlOV1A0ki4npQQXkAWbg06xO9eQFqTYtXz1l9AT9xbuBFjYEDxbgaGqd5gQJMBsVNBXmFANJRbIdnhYUDWJgbvcGliQHm5sLwI9WJAGkxbiqCEY0C83gVYOBhkQF9xsCXQr2RAAARb82dLZUCilgXB/+plQEQpsI6XjmZA5rtaXC82Z0CITgUqx+FnQCrhr/dekWhAzHNaxfZEaUBtBgWTjvxpQBCZr2AmuGpAsitaLr53a0BUvgT8VTtsQPRQr8ntAm1AmONZl4XObUA5dgRlHZ5uQNsIrzK1cW9Av80sgKYkcEAPFwJncpJwQGFg100+AnFAsamsNAp0cUAC84Eb1udxQFM8VwKiXXJApIUs6W3VckD1zgHQOU9zQEYY17YFy3NAmGGsndFIdEDoqoGEnch0QDr0VmtpSnVAij0sUjXOdUDbhgE5AVR2QC3Q1h/N23ZAfRmsBplld0DOYoHtZPF3QB+sVtQwf3hAcPUru/wOeUDCPgGiyKB5QBOI1oiUNHpAZNGrb2DKekC0GoFWLGJ7QARkVj34+3tAVq0rJMSXfECn9gALkDV9QPg/1vFb1X1AcMc5lZPhVUBjzh5cqBpWQFbVAyO9W1ZAStzo6dGkVkA+482w5vVWQDLqsnf7TldAJvGXPhCwV0AY+HwFJRlYQAz/Ycw5ilhAAAZHk04DWUD0DCxaY4RZQOgTESF4DVpA2xr254yeWkDPIduuoTdbQMIowHW22FtAti+lPMuBXECqNooD4DJdQJ09b8r0611AkURUkQmtXkCESzlYHnZfQDwpj4+ZI2BAtqwB8yOQYEAwMHRWrgBhQKqz5rk4dWFAIzdZHcPtYUCdusuATWpiQBc+PuTX6mJAkcGwR2JvY0AKRSOr7PdjQITIlQ53hGRA/ksIcgEVZUB4z3rVi6llQPJS7TgWQmZAbNZfnKDeZkDmWdL/Kn9nQF/dRGO1I2hA2WC3xj/MaEBS5CkqynhpQM1nnI1UKWpAR+sO8d7dakDAboFUaZZrQDry87fzUmxAtHVmG34TbUAu+dh+CNhtQKh8S+KSoG5AIQC+RR1tb0DOQZjU0x5wQIqDUQYZiXBAR8UKOF71cEAEB8Rpo2NxQMJIfZvo03FAfoo2zS1GckA7zO/+crpyQPgNqTC4MHNAtU9iYv2oc0BykRuUQiN0QC7T1MWHn3RA7BSO98wddUCpVkcpEp51QGaYAFtXIHZAI9q5jJykdkDgG3O+4Sp3QJxdLPAms3dAWp/lIWw9eEAW4Z5Tscl4QNMiWIX2V3lAkGQRtzvoeUBMpsrogHp6QAnogxrGDntAxik9TAule0CEa/Z9UD18QEGtr6+V13xA/u5o4dpzfUC6MCITIBJ+QHdy20Rlsn5ANLSUdqpUf0Dx9U2o7/h/QNebA22aT4BAtjzgBb2jgECU3bye3/iAQN6ksmVudlpAgo0nWGjZWkAmdpxKYkRbQMpeET1ct1tAbEeGL1YyXEAQMPshULVcQLMYcBRKQF1AVgHlBkTTXUD66Vn5PW5eQJ3Szus3EV9AQLtD3jG8X0DyUVzolTdgQETGluESlWBAljrR2o/2YEDnrgvUDFxhQDkjRs2JxWFAipeAxgYzYkDcC7u/g6RiQC6A9bgAGmNAgPQvsn2TY0DSaGqr+hBkQCPdpKR3kmRAdVHfnfQXZUDGxRmXcaFlQBg6VJDuLmZAaq6OiWvAZkC7IsmC6FVnQA2XA3xl72dAYAs+deKMaECwf3huXy5pQAL0smfc02lAVGjtYFl9akCm3Cda1iprQPdQYlNT3GtAScWcTNCRbECaOddFTUttQOytET/KCG5APiJMOEfKbkCQloYxxI9vQHCFYJWgLHBAmr/9EV+TcEDC+ZqOHfxwQOszOAvcZnFAFG7Vh5rTcUA9qHIEWUJyQGbiD4EXs3JAjxyt/dUlc0C4Vkp6lJpzQOCQ5/ZSEXRACcuEcxGKdEAyBSLwzwR1QFs/v2yOgXVAhHlc6UwAdkCts/llC4F2QNbtluLJA3dA/ic0X4iId0AoYtHbRg94QFCcblgFmHhAedYL1cMieUCiEKlRgq95QMtKRs5APnpA9ITjSv/OekAcv4DHvWF7QEb5HUR89ntAbjO7wDqNfECXbVg9+SV9QMCn9bm3wH1A6eGSNnZdfkASHDCzNPx+QDtWzS/znH9AMUg11tgfgEBG5YMUOHKAQFuC0lKXxYBAbx8hkfYZgUCEvG/PVW+BQJhZvg21xYFArPYMTBQdgkDBk1uKc3WCQNUwqsjSzoJA6s34BjIpg0AdjL6kJw5gQEbxwDOXVGBAcFbDwgafYECau8VRdu1gQMQgyODlP2FA7YXKb1WWYUAX68z+xPBhQEBQz400T2JAarXRHKSxYkCTGtSrExhjQL1/1jqDgmNA5uTYyfLwY0AQSttYYmNkQDqv3efR2WRAYxTgdkFUZUCNeeIFsdJlQLbe5JQgVWZA4EPnI5DbZkAKqemy/2VnQDQO7EFv9GdAXXPu0N6GaECG2PBfTh1pQLA98+69t2lA2aL1fS1WakACCPgMnfhqQC1t+psMn2tAVtL8KnxJbEB/N/+56/dsQKqcAUlbqm1A1AEE2MpgbkD9ZgZnOhtvQCbMCPap2W9AqJiFwgxOcEA8ywaKRLFwQNL9h1F8FnFAZjAJGbR9cUD7Yorg6+ZxQJCVC6gjUnJAJMiMb1u/ckC5+g03ky5zQE4tj/7Kn3NA5F8QxgITdEB4kpGNOoh0QA3FElVy/3RAofeTHKp4dUA2KhXk4fN1QMxclqsZcXZAYI8Xc1HwdkD0wZg6iXF3QIn0GQLB9HdAHiebyfh5eEC0WRyRMAF5QEeMnVhoinlA3L4eIKAVekBy8Z/n16J6QAYkIa8PMntAmlaidkfDe0AviSM+f1Z8QMS7pAW363xAWe4lze6CfUDuIKeUJhx+QIJTKFxet35AF4apI5ZUf0CsuCrrzfN/QKD1VdmCSoBA6o4WvR6cgEA2KNeguu6AQIDBl4RWQoFAylpYaPKWgUAU9BhMjuyBQF+N2S8qQ4JAqiaaE8aagkD0v1r3YfOCQD5ZG9v9TINAiPLbvpmng0DTi5yiNQOEQB0lXYbRX4RAaL4dam29hECyV95NCRyFQPzwnjGle4VAwZBMIJtpY0DC5hZF/cRjQMQ84WlfJGRAxZKrjsGHZEDH6HWzI+9kQMk+QNiFWmVAypQK/efJZUDM6tQhSj1mQM1An0astGZAzpZpaw4wZ0DQ7DOQcK9nQNFC/rTSMmhA0pjI2TS6aEDU7pL+lkVpQNZEXSP51GlA15onSFtoakDY8PFsvf9qQNpGvJEfm2tA25yGtoE6bEDd8lDb491sQN5IGwBGhW1A357lJKgwbkDi9K9JCuBuQOJKem5sk29AclCiSWclcEBzewdcGINwQHOmbG7J4nBAdNHRgHpEcUB1/DaTK6hxQHYnnKXcDXJAdlIBuI11ckB2fWbKPt9yQHioy9zvSnNAeNMw76C4c0B5/pUBUih0QHop+xMDmnRAe1RgJrQNdUB7f8U4ZYN1QHyqKksW+3VAftWPXcd0dkB+APVvePB2QH4rWoIpbndAfla/lNrtd0CAgSSni294QIGsibk883hAgdfuy+14eUCCAlTengB6QIMtufBPinpAhFgeAwEWe0CEg4MVsqN7QIWu6CdjM3xAhtlNOhTFfECHBLNMxVh9QIcvGF927n1AiFp9cSeGfkCIheKD2B9/QImwR5aJu39AxW1WVJ0sgEBGA4nddXyAQMaYu2ZOzYBARi7u7yYfgUDGwyB5/3GBQEdZUwLYxYFAyO6Fi7AagkBIhLgUiXCCQMgZ651hx4JASa8dJzofg0DKRFCwEniDQEragjnr0YNAym+1wsMshEBKBehLnIiEQMuaGtV05YRASzBNXk1DhUDMxX/nJaKFQExbsnD+AYZAzPDk+dZihkBMhheDr8SGQM4bSgyIJ4dATrF8lWCLh0DORq8eOfCHQFxgg6WRTWdANqcVYOa9Z0AP7qcaOzJoQOg0OtWPqmhAwnvMj+QmaUCcwl5KOadpQHMJ8QSOK2pATlCDv+KzakAmlxV6N0BrQAHepzSM0GtA2iQ67+BkbECza8ypNf1sQIyyXmSKmW1AZvnwHt85bkBAQIPZM95uQBiHFZSIhm9A+eZTp24ZcEBmCp0EmXFwQNIt5mHDy3BAP1Evv+0ncUCrdHgcGIZxQBiYwXlC5nFAhLsK12xIckDy3lM0l6xyQF4CnZHBEnNAyyXm7ut6c0A4SS9MFuVzQKRseKlAUXRAEJDBBmu/dEB+swpklS91QOrWU8G/oXVAWPqcHuoVdkDEHeZ7FIx2QDBBL9k+BHdAnGR4Nml+d0AKiMGTk/p3QHarCvG9eHhA4s5TTuj4eEBQ8pyrEnt5QLwV5gg9/3lAKDkvZmeFekCUXHjDkQ17QAGAwSC8l3tAb6MKfuYjfEDbxlPbELJ8QEjqnDg7Qn1AtA3mlWXUfUAhMS/zj2h+QI5UeFC6/n5A+nfBreSWf0C0TYWFhxiAQGrfKbScZoBAIHHO4rG1gEDXAnMRxwWBQI2UF0DcVoFAQya8bvGogUD6t2CdBvyBQLBJBcwbUIJAZtup+jClgkAdbU4pRvuCQNP+8ldbUoNAiZCXhnCqg0BAIjy1hQOEQPaz4OOaXYRArEWFErC4hEBi1ylBxRSFQBlpzm/acYVAz/pynu/PhUCGjBfNBC+GQDwevPsZj4ZA8q9gKi/whkCpQQVZRFKHQF/TqYdZtYdAFmVOtm4ZiEDM9vLkg36IQIKIlxOZ5IhAORo8Qq5LiUDvq+Bww7OJQKY9hZ/YHIpAXM8pzu2GikDs+mI0C7prQJ4yvYRSP2xAUGoX1ZnIbEAConEl4VVtQLLZy3Uo521AYhEmxm98bkAUSYAWtxVvQMaA2mb+sm9APFya2yIqcEAUeMeDxnxwQO2T9Ctq0XBAxa8h1A0ocUCey058sYBxQHbneyRV23FATwOpzPg3ckAoH9Z0nJZyQAA7Ax1A93JA2VYwxeNZc0Cycl1th75zQIqOihUrJXRAY6q3vc6NdEA6xuRlcvh0QBTiEQ4WZXVA7P0+trnTdUDFGWxeXUR2QJ01mQYBt3ZAdlHGrqQrd0BObfNWSKJ3QCeJIP/rGnhAAKVNp4+VeEDYwHpPMxJ5QLLcp/fWkHlAifjUn3oRekBjFAJIHpR6QDswL/DBGHtAFExcmGWfe0DsZ4lACSh8QMWDtuissnxAnZ/jkFA/fUB2uxA59M19QFDXPeGXXn5AKPNqiTvxfkD/Dpgx34V/QGyV4mxBDoBAWCP5QJNagEBEsQ8V5aeAQDE/Juk29oBAHc08vYhFgUAKW1OR2pWBQPboaWUs54FA43aAOX45gkDOBJcN0IyCQLuSreEh4YJApyDEtXM2g0CUrtqJxYyDQIA88V0X5INAbMoHMmk8hEBYWB4Gu5WEQETmNNoM8IRAMXRLrl5LhUAeAmKCsKeFQAmQeFYCBYZA9h2PKlRjhkDiq6X+pcKGQM45vNL3IodAu8fSpkmEh0CnVel6m+aHQJTj/07tSYhAgHEWIz+uiEBs/yz3kBOJQFeNQ8vieYlARBtanzThiUAxqXBzhkmKQB43h0fYsopACsWdGyodi0D2UrTve4iLQOLgysPN9ItAzm7hlx9ijEC6/PdrcdCMQKeKDkDDP41AOrB15oNXcEB+xIbZoKRwQMPYl8y983BACO2ov9pEcUBMAbqy95dxQJEVy6UU7XFA1incmDFEckAaPu2LTp1yQF5S/n5r+HJAo2YPcohVc0DoeiBlpbRzQCyPMVjCFXRAcaNCS994dEC1t1M+/N10QPrLZDEZRXVAPuB1JDaudUCC9IYXUxl2QMcImApwhnZADB2p/Yz1dkBQMbrwqWZ3QJVFy+PG2XdA2lnc1uNOeEAebu3JAMZ4QGOC/rwdP3lAp5YPsDq6eUDsqiCjVzd6QDC/MZZ0tnpAdtNCiZE3e0C551N8rrp7QP/7ZG/LP3xARBB2YujGfECHJIdVBVB9QMw4mEgi231AEE2pOz9ofkBWYbouXPd+QJl1yyF5iH9A70RuCssNgEASz/aDWViAQDRZf/3no4BAVuMHd3bwgEB4bZDwBD6BQJv3GGqTjIFAvYGh4yHcgUDfCypdsCyCQAGWstY+foJAJCA7UM3QgkBGqsPJWySDQGg0TEPqeINAir7UvHjOg0CtSF02ByWEQM/S5a+VfIRA8VxuKSTVhEAU5/aisi6FQDZxfxxBiYVAWPsHls/khUB6hZAPXkGGQJwPGYnsnoZAv5mhAnv9hkDhIyp8CV2HQASusvWXvYdAJjg7byYfiEBIwsPotIGIQGpMTGJD5YhAjdbU29FJiUCuYF1VYK+JQNLq5c7uFYpA83RuSH19ikAW//bBC+aKQDiJfzuaT4tAWhMItSi6i0B8nZAutyWMQJ4nGahFkoxAwLGhIdT/jEDkOyqbYm6NQAXGshTx3Y1AKFA7jn9OjkBK2sMHDsCOQGxkTIGcMo9Aj+7U+iqmj0BYvC66XA2QQHlIjrdDFnNAKVWD9dltc0DaYXgzcMdzQIpubXEGI3RAO3tir5yAdEDrh1ftMuB0QJyUTCvJQXVATKFBaV+ldUD9rTan9Qp2QK66K+WLcnZAXscgIyLcdkAO1BVhuEd3QL/gCp9OtXdAcO3/3OQkeEAg+vQae5Z4QNAG6lgRCnlAgRPflqd/eUAxINTUPfd5QOIsyRLUcHpAkjm+UGrsekBDRrOOAGp7QPNSqMyW6XtApF+dCi1rfEBUbJJIw+58QAV5h4ZZdH1AtoV8xO/7fUBlknEChoV+QBafZkAcEX9AxqtbfrKef0A8XCheJBeAQJTiIn3vX4BA7GgdnLqpgEBE7xe7hfSAQJx1EtpQQIFA9PsM+RuNgUBNggcY59qBQKUIAjeyKYJA/o78VX15gkBWFfd0SMqCQK6b8ZMTHINABiLsst5ug0BeqObRqcKDQLcu4fB0F4RADrXbD0BthEBnO9YuC8SEQL/B0E3WG4VAGEjLbKF0hUBwzsWLbM6FQMhUwKo3KYZAIdu6yQKFhkB5YbXozeGGQNDnrweZP4dAKW6qJmSeh0CA9KRFL/6HQNp6n2T6XohAMgGag8XAiECKh5SikCOJQOMNj8Fbh4lAOpSJ4CbsiUCTGoT/8VGKQOugfh69uIpARCd5PYggi0CbrXNcU4mLQPMzbnse84tATLpomuldjEClQGO5tMmMQP3GXdh/No1AVU1Y90qkjUCu01IWFhOOQAVaTTXhgo5AXeBHVKzzjkC2ZkJzd2WPQA/tPJJC2I9As7mb2AYmkEDg/BhobGCQQAxAlvdRm5BAOIMTh7fWkEBkxpAWnRKRQJAJDqYCT5FAvEyLNeiLkUAzRnsNRRl2QE5LVJZUe3ZAbFAtH2TfdkCIVQaoc0V3QKRa3zCDrXdAwV+4uZIXeEDeZJFCooN4QPlpasux8XhAFm9DVMFheUAzdBzd0NN5QFB59WXgR3pAa37O7u+9ekCIg6d3/zV7QKSIgAAPsHtAwo1ZiR4sfEDdkjISLqp8QPqXC5s9Kn1AFp3kI02sfUAyor2sXDB+QFCnljVstn5AbKxvvns+f0CIsUhHi8h/QFLbEGhNKoBA4F19LFVxgEBv4OnwXLmAQP1iVrVkAoFAi+XCeWxMgUAZaC8+dJeBQKfqmwJ844FANm0Ix4MwgkDE73SLi36CQFJy4U+TzYJA4fRNFJsdg0Bvd7rYom6DQP35Jp2qwINAi3yTYbIThEAZ//8lumeEQKiBbOrBvIRANgTZrskShUDEhkVz0WmFQFIJsjfZwYVA4Ise/OAahkBuDovA6HSGQP2Q94Twz4ZAixNkSfgrh0AaltANAImHQKgYPdIH54dANpuplg9GiEDEHRZbF6aIQFKggh8fB4lA4CLv4yZpiUBvpVuoLsyJQPwnyGw2MIpAjKo0MT6VikAZLaH1RfuKQKevDbpNYotANjJ6flXKi0DEtOZCXTOMQFI3UwdlnYxA4Lm/y2wIjUBvPCyQdHSNQP6+mFR84Y1Ai0EFGYRPjkAYxHHdi76OQKhG3qGTLo9ANslKZpufj0DipVuV0QiQQCnnkXdVQpBAcCjIWVl8kEC4af473baQQP6qNB7h8ZBARuxqAGUtkUCNLaHiaGmRQNRu18TspZFAG7ANp/DikUBi8UOJdCCSQKkyemt4XpJA8HOwTfyckkA3teYvANySQH72HBKEG5NAaKk86IdgeUDwpvm7EM15QHikto+ZO3pAAKJzYyKsekCInzA3qx57QBGd7Qo0k3tAmpqq3rwJfEAimGeyRYJ8QKuVJIbO/HxAM5PhWVd5fUC6kJ4t4Pd9QEOOWwFpeH5AzIsY1fH6fkBUidWoen9/QG5DSb4BA4BAMsInKEZHgED2QAaSioyAQLu/5PvO0oBAfz7DZRMagUBDvaHPV2KBQAc8gDmcq4FAy7peo+D1gUCPOT0NJUGCQFS4G3dpjYJAGDf64K3agkDctdhK8iiDQKE0t7Q2eINAZLOVHnvIg0ApMnSIvxmEQO2wUvIDbIRAsS8xXEi/hEB1rg/GjBOFQDot7i/RaIVA/qvMmRW/hUDCKqsDWhaGQIapiW2eboZASiho1+LHhkAPp0ZBJyKHQNMlJatrfYdAlqQDFbDZh0BaI+J+9DaIQB+iwOg4lYhA5CCfUn30iECon328wVSJQGweXCYGtolAMJ06kEoYikD0Gxn6jnuKQLia92PT34pAfBnWzRdFi0BAmLQ3XKuLQAUXk6GgEoxAypVxC+V6jECOFFB1KeSMQFGTLt9tTo1AFRINSbK5jUDakOuy9iWOQJ0Pyhw7k45AYo6ohn8Bj0AmDYfww3CPQOqLZVoI4Y9AVwUiYiYpkEC6RBGXSGKQQBuEAMzqm5BAfsPvAA3WkEDfAt81rxCRQEJCzmrRS5FAo4G9n3OHkUAGwazUlcORQGgAnAk4AJJAyj+LPlo9kkAsf3pz/HqSQI6+aageuZJA8P1Y3cD3kkBSPUgS4zaTQLV8N0eFdpNAFrwmfKe2k0B5+xWxSfeTQNs6BeZrOJRAPHr0Gg56lECeueNPMLyUQBly0kcM7HxADGhzZg5jfUABXhSFENx9QPVTtaMSV35A6UlWwhTUfkDeP/fgFlN/QNM1mP8Y1H9A5JUcj40rgEDdEG2eDm6AQNeLva2PsYBA0gYOvRD2gEDMgV7MkTuBQMb8rtsSgoFAwHf/6pPJgUC68k/6FBKCQLRtoAmWW4JAr+jwGBemgkCpY0EomPGCQKPekTcZPoNAnVniRpqLg0CX1DJWG9qDQJFPg2WcKYRAjMrTdB16hECGRSSEnsuEQIDAdJMfHoVAejvFoqBxhUB0thWyIcaFQG4xZsGiG4ZAaay20CNyhkBiJwfgpMmGQFyiV+8lIodAVh2o/qZ7h0BQmPgNKNaHQEwTSR2pMYhARo6ZLCqOiEBACeo7q+uIQDqEOkssSolAM/+KWq2piUAuettpLgqKQCj1K3mva4pAInB8iDDOikAc68yXsTGLQBZmHacylotAEeFttrP7i0ALXL7FNGKMQAXXDtW1yYxAAFJf5DYyjUD6zK/zt5uNQPRHAAM5Bo5A7sJQErpxjkDoPaEhO96OQOK48TC8S49A3DNCQD26j0BrV8kn3xSQQOiUca8fTZBAZdIZN+CFkEDiD8K+IL+QQGBNakbh+JBA3IoSziEzkUBZyLpV4m2RQNcFY90iqZFAVEMLZePkkUDQgLPsIyGSQE6+W3TkXZJAyvsD/CSbkkBIOayD5diSQMV2VAsmF5NAQrT8kuZVk0DA8aQaJ5WTQDwvTaLn1JNAumz1KSgVlEA2qp2x6FWUQLPnRTkpl5RAMCXuwOnYlECtYpZIKhuVQCqgPtDqXZVAqN3mVyuhlUAkG4/f6+SVQKJYN2csKZZAH5bf7uxtlkAiUB4W6V2AQFLH4MqmnoBAgj6jf2TggECytWU0IiOBQOIsKOnfZoFAE6TqnZ2rgUBCG61SW/GBQHKSbwcZOIJAowkyvNZ/gkDSgPRwlMiCQAP4tiVSEoNAM2952g9dg0Bk5juPzaiDQJNd/kOL9YNAxNTA+EhDhEDzS4OtBpKEQCTDRWLE4YRAVDoIF4IyhUCEscrLP4SFQLQojYD91oVA5J9PNbsqhkAUFxLqeH+GQESO1J421YZAdQWXU/Qrh0CkfFkIsoOHQNXzG71v3IdABWvecS02iEA14qAm65CIQGZZY9uo7IhAltAlkGZJiUDFR+hEJKeJQPa+qvnhBYpAJjZtrp9likBWrS9jXcaKQIYk8hcbKItAtpu0zNiKi0DmEneBlu6LQBaKOTZUU4xARgH86hG5jEB2eL6fzx+NQKbvgFSNh41A2GZDCUvwjUAH3gW+CFqOQDZVyHLGxI5AZ8yKJ4Qwj0CYQ03cQZ2PQGTdh8h/BZBA/Bjpot48kECUVEp9vXSQQCyQq1ccrZBAxMsMMvvlkEBcB24MWh+RQPRCz+Y4WZFAjH4wwZeTkUAkupGbds6RQL318nXVCZJAVDFUULRFkkDsbLUqE4KSQIWoFgXyvpJAHOR331D8kkC0H9m5LzqTQExbOpSOeJNA5Zabbm23k0B80vxIzPaTQBUOXiOrNpRArkm//Ql3lEBFhSDY6LeUQN3AgbJH+ZRAdfzijCY7lUAOOERnhX2VQKVzpUFkwJVAPq8GHMMDlkDV6mf2oUeWQG4mydAAjJZABWIqq9/QlkCenYuFPhaXQDbZ7F8dXJdAzhROOnyil0BmUK8UW+mXQP6LEO+5MJhA9Zm9yuxngkBbDfIk562CQMGAJn/h9IJAJ/Ra2ds8g0COZ48z1oWDQPPaw43Qz4NAWk7458oahEDAwSxCxWaEQCU1YZy/s4RAi6iV9rkBhUDyG8pQtFCFQFiP/qquoIVAvgIzBanxhUAkdmdfo0OGQIrpm7mdloZA8FzQE5jqhkBW0ARukj+HQLxDOciMlYdAIrdtIofsh0CIKqJ8gUSIQO6d1tZ7nYhAVRELMXb3iEC7hD+LcFKJQCH4c+VqrolAh2uoP2ULikDt3tyZX2mKQFJSEfRZyIpAusVFTlQoi0AfOXqoTomLQIasrgJJ64tA7B/jXENOjEBSkxe3PbKMQLgGTBE4F41AHXqAazJ9jUCE7bTFLOSNQOpg6R8nTI5AUNQdeiG1jkC2R1LUGx+PQBy7hi4Wio9Agi67iBD2j0D00HdxhTGQQKcKkp6CaJBAWkSsy/+fkEANfsb4/NeQQMC34CV6EJFAdPH6UndJkUAmKxWA9IKRQNpkL63xvJFAjJ5J2m73kUBA2GMHbDKSQPIRfjTpbZJApkuYYeapkkBYhbKOY+aSQAy/zLtgI5NAv/jm6N1gk0ByMgEW256TQCVsG0NY3ZNA2KU1cFUclECL30+d0luUQD4ZasrPm5RA8lKE90zclECkjJ4kSh2VQFjGuFHHXpVACgDTfsSglUC9Oe2rQeOVQHBzB9k+JpZAI60hBrxplkDW5jszua2WQIkgVmA28pZAPFpwjTM3l0Dwk4q6sHyXQKPNpOetwpdAVQe/FCsJmEAJQdlBKFCYQLx6826ll5hAbrQNnKLfmEAi7ifJHyiZQNQnQvYccZlAiGFcI5q6mUA8m3ZQlwSaQIUWx0ERlIRAIYZtQUjfhEC+9RNBfyuFQFllukC2eIVA9tRgQO3GhUCSRAdAJBaGQC20rT9bZoZAyiNUP5K3hkBmk/o+yQmHQAIDoT4AXYdAnnJHPjexh0A64u09bgaIQNZRlD2lXIhAcsE6PdyziEAPMeE8EwyJQKqghzxKZYlARhAuPIG/iUDjf9Q7uBqKQH/vejvvdopAGl8hOybUikC2zsc6XTKLQFQ+bjqUkYtA760UOsvxi0CLHbs5AlOMQCaNYTk5tYxAxPwHOXAYjUBgbK44p3yNQPvbVDje4Y1Al0v7NxVIjkAzu6E3TK+OQM8qSDeDF49AbJruNrqAj0AICpU28eqPQNK8HRsUK5BAoPTwmi9hkEBuLMQay5eQQDxkl5rmzpBACpxqGoIGkUDY0z2anT6RQKYLERo5d5FAdEPkmVSwkUBCe7cZ8OmRQBCzipkLJJJA3updGadekkCsIjGZwpmSQHpaBBle1ZJASJLXmHkRk0AWyqoYFU6TQOQBfpgwi5NAsjlRGMzIk0CAcSSY5waUQE6p9xeDRZRAHOHKl56ElEDrGJ4XOsSUQLhQcZdVBJVAhohEF/FElUBUwBeXDIaVQCP46haox5VA8S++lsMJlkC+Z5EWX0yWQIyfZJZ6j5ZAWtc3FhbTlkApDwuWMReXQPZG3hXNW5dAxX6xleigl0CTtoQVhOaXQGHuV5WfLJhALiYrFTtzmED8Xf6UVrqYQMqV0RTyAZlAmM2klA1KmUBmBXgUqZKZQDQ9S5TE25lAAnUeFGAlmkDRrPGTe2+aQJ/kxBMXuppAbRyYkzIFm0A6VGsTzlCbQAmMPpPpnJtA18MRE4Xpm0DUxTp7VuKGQKYxUyDKModAeZ1rxT2Eh0BKCYRqsdaHQBx1nA8lKohA7uC0tJh+iEDATM1ZDNSIQJK45f5/KolAZCT+o/OBiUA2kBZJZ9qJQAj8Lu7aM4pA2mdHk06OikCs0184wumKQH4/eN01RotAUauQgqmji0AkF6knHQKMQPSCwcyQYYxAx+7ZcQTCjECYWvIWeCONQGvGCrzrhY1APjIjYV/pjUAPnjsG002OQOAJVKtGs45As3VsULoZj0CG4YT1LYGPQFZNnZqh6Y9Aldzan4opkEB9EmdyxF6QQGZI80R+lJBAUH5/F7jKkEA4tAvqcQGRQCLql7yrOJFACyAkj2VwkUD0VbBhn6iRQN2LPDRZ4ZFAxsHIBpMakkCv91TZTFSSQJct4auGjpJAgGNtfkDJkkBqmflQegSTQFPPhSM0QJNAPAUS9m18k0AlO57IJ7mTQA5xKpth9pNA96a2bRs0lEDg3EJAVXKUQMkSzxIPsZRAskhb5UjwlECafue3AjCVQIS0c4o8cJVAber/XPawlUBWIIwvMPKVQD9WGALqM5ZAKIyk1CN2lkARwjCn3biWQPr3vHkX/JZA4i1JTNE/l0DMY9UeC4SXQLSZYfHEyJdAns/tw/4NmECHBXqWuFOYQHA7BmnymZhAWHGSO6zgmEBCpx4O5ieZQCrdquCfb5lAFBM3s9m3mUD8SMOFkwCaQOZ+T1jNSZpAzrTbKoeTmkC46mf9wN2aQKAg9M96KJtAilaAorRzm0ByjAx1br+bQFzCmEeoC5xARfgkGmJYnEAtLrHsm6WcQBdkPb9V85xAAJrJkY9BnUDqz1VkSZCdQNIF4jaD351A4KcYd7xSiUDoD6PBbKiJQPB3LQwd/4lA+N+3Vs1WikAASEKhfa+KQAewzOstCYtAEBhXNt5ji0AYgOGAjr+LQCDoa8s+HIxAKFD2Fe95jEAxuIBgn9iMQDggC6tPOI1AQIiV9f+YjUBI8B9AsPqNQFBYqopgXY5AWMA01RDBjkBhKL8fwSWPQGiQSWpxi49AcPjTtCHyj0A8MK//6CyQQEBk9CRBYZBARJg5ShmWkEBIzH5vccuQQEwAxJRJAZFAUDQJuqE3kUBUaE7feW6RQFickwTSpZFAXNDYKardkUBgBB5PAhaSQGQ4Y3TaTpJAaGyomTKIkkBsoO2+CsKSQHDUMuRi/JJAdAh4CTs3k0B4PL0uk3KTQHxwAlRrrpNAgKRHecPqk0CE2IyemyeUQIgM0sPzZJRAjEAX6cuilECQdFwOJOGUQJSooTP8H5VAmNzmWFRflUCcECx+LJ+VQKBEcaOE35VApHi2yFwglkCorPvttGGWQKzgQBONo5ZAsBSGOOXllkC0SMtdvSiXQLh8EIMVbJdAvLBVqO2vl0DA5JrNRfSXQMQY4PIdOZhAyEwlGHZ+mEDMgGo9TsSYQNC0r2KmCplA1Oj0h35RmUDYHDqt1piZQNxQf9Ku4JlA4ITE9wYpmkDkuAkd33GaQOjsTkI3u5pA7CCUZw8Fm0DwVNmMZ0+bQPSIHrI/mptA+Lxj15flm0D88Kj8bzGcQAAl7iHIfZxAA1kzR6DKnEAHjXhs+BedQAzBvZHQZZ1AEPUCtyi0nUAUKUjcAAOeQBddjQFZUp5AHJHSJjGinkAgxRdMifKeQCT5XHFhQ59AKC2ilrmUn0AsYee7keafQKq8YDVD5YtA6CBdJTBAjEAmhVkVHZyMQGTpVQUK+YxAok1S9fZWjUDfsU7l47WNQB4WS9XQFY5AXHpHxb12jkCa3kO1qtiOQNhCQKWXO49AFqc8lYSfj0CqhZzCOAKQQMm3mjovNZBA6OmYsqVokEAHHJcqnJyQQCZOlaIS0ZBARYCTGgkGkUBkspGSfzuRQIPkjwp2cZFAohaOguynkUDASIz64t6RQOB6inJZFpJA/6yI6k9OkkAe34ZixoaSQD0Rhdq8v5JAXEODUjP5kkB6dYHKKTOTQJqnf0KgbZNAuNl9upaok0DYC3wyDeSTQPc9eqoDIJRAFXB4InpclEA0onaacJmUQFTUdBLn1pRAcgZzit0UlUCROHECVFOVQLBqb3pKkpVA0Jxt8sDRlUDuzmtqtxGWQA4BauItUpZALDNoWiSTlkBLZWbSmtSWQGqXZEqRFpdAisliwgdZl0Co+2A6/puXQMgtX7J035dA5l9dKmsjmEAFklui4WeYQCTEWRrYrJhARPZXkk7ymEBiKFYKRTiZQIJaVIK7fplAoIxS+rHFmUDAvlByKA2aQN7wTuoeVZpA/iJNYpWdmkAcVUvai+aaQDqHSVICMJtAWrlHyvh5m0B560VCb8SbQJkdRLplD5xAt09CMtxanEDXgUCq0qacQPazPiJJ85xAFOY8mj9AnUAzGDsSto2dQFJKOYqs251Acnw3AiMqnkCQrjV6GXmeQK/gM/KPyJ5AzhIyaoYYn0DtRDDi/GifQA13LlrzuZ9AlVQW6bQFoECmbRUlsC6gQLSGFGHrV6BAxJ8TnWaBoEDUuBLZIaugQOPRERUd1aBA8uoQUVj/oEAxBBO26pmOQKVkgUsU+o5AGMXv4D1bj0CMJV52Z72PQABD5oVIEJBAOnOdUF1CkEB0o1Qb8nSQQK7TC+YGqJBA6APDsJvbkEAiNHp7sA+RQFxkMUZFRJFAlpToEFp5kUDQxJ/b7q6RQAr1VqYD5ZFARCUOcZgbkkB+VcU7rVKSQLiFfAZCipJA8rUz0VbCkkAs5uqb6/qSQGYWomYANJNAoEZZMZVtk0DadhD8qaeTQBOnx8Y+4pNATtd+kVMdlECIBzZc6FiUQMI37Sb9lJRA/Gek8ZHRlEA2mFu8pg6VQG/IEoc7TJVAqfjJUVCKlUDkKIEc5ciVQB1ZOOf5B5ZAWInvsY5HlkCRuaZ8o4eWQMvpXUc4yJZABRoVEk0Jl0A/Sszc4UqXQHp6g6f2jJdAtKo6covPl0Ds2vE8oBKYQCYLqQc1VphAYTtg0kmamECbaxed3t6YQNSbzmfzI5lAD8yFMohpmUBK/Dz9nK+ZQIQs9Mcx9plAvFyrkkY9mkD4jGJd24SaQDG9GSjwzJpAau3Q8oQVm0ClHYi9mV6bQN5NP4guqJtAGH72UkPym0BSrq0d2DycQI3eZOjsh5xAxw4cs4HTnEAAP9N9lh+dQDtvikgrbJ1AdJ9BE0C5nUCwz/jd1AaeQOj/r6jpVJ5AIjBnc36jnkBdYB4+k/KeQJaQ1QgoQp9A0cCM0zySn0AK8UOe0eKfQKKQfTTzGaBAvyjZmb1CoEDcwDT/x2ugQPlYkGQSlaBAFvHryZy+oEAyiUcvZ+igQFAho5RxEqFAbLn++bs8oUCKUVpfRmehQKfptcQQkqFAxIERKhu9oUDhGW2PZeihQP6xyPTvE6JAO7+XfFm4kECQ7QeaDOuQQOQbeLc/HpFAOkro1PJRkUCPeFjyJYaRQOSmyA/ZupFAONU4LQzwkUCOA6lKvyWSQOIxGWjyW5JAOGCJhaWSkkCMjvmi2MmSQOG8acCLAZNANuvZ3b45k0CMGUr7cXKTQOBHuhilq5NANXYqNljlk0CKpJpTix+UQN/SCnE+WpRANAF7jnGVlECJL+urJNGUQN5dW8lXDZVAMozL5gpKlUCIujsEPoeVQNzoqyHxxJVAMhccPyQDlkCIRYxc10GWQNxz/HkKgZZAMaJsl73AlkCG0Ny08ACXQNr+TNKjQZdAMC2979aCl0CEWy0NisSXQNqJnSq9BphAL7gNSHBJmECD5n1lo4yYQNkU7oJW0JhALkNeoIkUmUCCcc69PFmZQNefPttvnplALM6u+CLkmUCC/B4WViqaQNYqjzMJcZpAK1n/UDy4mkCAh29u7/+aQNa134siSJtAKuRPqdWQm0B+EsDGCNqbQNRAMOS7I5xAKm+gAe9tnEB+nRAforicQNLLgDzVA51AKPrwWYhPnUB8KGF3u5udQNJW0ZRu6J1AJoVBsqE1nkB8s7HPVIOeQNLhIe2H0Z5AJxCSCjsgn0B6PgIobm+fQNBsckUhv59Akk1xMaoHoEC9ZCnAAzCgQOZ74U6dWKBAEpOZ3XaBoEA8qlFskKqgQGfBCfvp06BAkdjBiYP9oEC773kYXSehQOYGMqd2UaFAER7qNdB7oUA6NaLEaaahQGZMWlND0aFAkGMS4lz8oUC6espwtieiQOWRgv9PU6JAD6k6jil/okA6wPIcQ6uiQGXXqquc16JAj+5iOjYEo0C5BRvJDzGjQLwVW//NNJJALEKEbx9qkkCcbq3f8J+SQAub1k9C1pJAe8f/vxMNk0Dr8ygwZUSTQFwgUqA2fJNAy0x7EIi0k0A7eaSAWe2TQKqlzfCqJpRAGtL2YHxglECM/h/RzZqUQPsqSUGf1ZRAa1dysfAQlUDag5shwkyVQEuwxJETiZVAutztAeXFlUArCRdyNgOWQJo1QOIHQZZACmJpUll/lkB7jpLCKr6WQOq6uzJ8/ZZAWufkok09l0DKEw4Tn32XQDpAN4NwvpdAqmxg88H/l0AamYljk0GYQIrFstPkg5hA+vHbQ7bGmEBqHgW0BwqZQNpKLiTZTZlASndXlCqSmUC6o4AE/NaZQCrQqXRNHJpAmvzS5B5imkAKKfxUcKiaQHpVJcVB75pA6YFONZM2m0BYrnelZH6bQMraoBW2xptAOQfKhYcPnECqM/P12FicQBpgHGaqopxAioxF1vvsnED5uG5GzTedQGnll7Yeg51A2BHBJvDOnUBIPuqWQRueQLhqEwcTaJ5AKZc8d2S1nkCYw2XnNQOfQAjwjleHUZ9AeBy4x1ign0DoSOE3qu+fQKw6BdS9H6BA5NAZjOZHoEAcZy5ET3CgQFT9Qvz3mKBAjJNXtODBoEDEKWxsCeugQPy/gCRyFKFANFaV3Bo+oUBs7KmUA2ihQKSCvkwskqFA3BjTBJW8oUAUr+e8PeehQExF/HQmEqJAhNsQLU89okC8cSXlt2iiQPQHOp1glKJALJ5OVUnAokBkNGMNcuyiQJzKd8XaGKNA1GCMfYNFo0AL96A1bHKjQESNte2Un6NAfCPKpf3Mo0C0ud5dpvqjQOtP8xWPKKRAI+YHzrdWpECchVPjUsKTQCewNaZC+pNAstoXabIylEA9BforomuUQMgv3O4RpZRAUlq+sQHflEDehKB0cRmVQGmvgjdhVJVA9Nlk+tCPlUB+BEe9wMuVQAkvKYAwCJZAlFkLQyBFlkAghO0FkIKWQKquz8h/wJZANdmxi+/+lkDAA5RO3z2XQEoudhFPfZdA1lhY1D69l0BigzqXrv2XQOytHFqePphAdtj+HA6AmEABA+Hf/cGYQIwtw6JtBJlAFlilZV1HmUCigocozYqZQC6taeu8zplAuddLriwTmkBDAi5xHFiaQM4sEDSMnZpAWVfy9nvjmkDkgdS56ymbQG+stnzbcJtA+taYP0u4m0CFAXsCOwCcQBAsXcWqSJxAm1Y/iJqRnEAlgSFLCtucQLCrAw76JJ1APNbl0GlvnUDGAMiTWbqdQFErqlbJBZ5A3FWMGblRnkBogG7cKJ6eQPKqUJ8Y655AftUyYog4n0AIABUleIafQJIq9+fn1J9Aj6ps1esRoEDUv922ozmgQBrVTpibYaBAX+q/edOJoECk/zBbS7KgQOoUojwD26BAMCoTHvsDoUB1P4T/Mi2hQLtU9eCqVqFAAGpmwmKAoUBFf9ejWqqhQIuUSIWS1KFA0Km5Zgr/oUAWvypIwimiQFzUmym6VKJAoekMC/J/okDm/n3saauiQCsU780h16JAcSlgrxkDo0C2PtGQUS+jQPxTQnLJW6NAQmmzU4GIo0CHfiQ1ebWjQMyTlRax4qNAEqkG+CgQpEBXvnfZ4D2kQJ3T6LrYa6RA4uhZnBCapEAo/sp9iMikQGwTPF9A96RAsiitQDgmpUD5PR4icFWlQD5TjwPohKVA2w6BKOhglUCBNxw+dpuVQCZgt1OE1pVAzYhSaRISlkByse1+IE6WQBjaiJSuipZAvgIkqrzHlkBkK7+/SgWXQApUWtVYQ5dAsHz16uaBl0BWpZAA9cCXQPzNKxaDAJhAovbGK5FAmEBIH2JBH4GYQO5H/VYtwphAk3CYbLsDmUA4mTOCyUWZQN7BzpdXiJlAhOpprWXLmUAqEwXD8w6aQNE7oNgBU5pAdmQ77o+XmkAejdYDntyaQMK1cRksIptAaN4MLzpom0APB6hEyK6bQLUvQ1rW9ZtAWljeb2Q9nEAAgXmFcoWcQKapFJsAzpxATNKvsA4XnUDy+krGnGCdQJcj5tuqqp1APUyB8Tj1nUDkdBwHR0CeQIqdtxzVi55AMMZSMuPXnkDV7u1HcSSfQHsXiV1/cZ9AIkAkcw2/n0BktF/EjQagQLZILc/ULaBACt362VtVoEBcccjkIn2gQLAFlu8ppaBAAppj+nDNoEBVLjEF+PWgQKjC/g+/HqFA/FbMGsZHoUBO65klDXGhQKF/ZzCUmqFA9BM1O1vEoUBHqAJGYu6hQJo80FCpGKJA7dCdWzBDokBAZWtm922iQJL5OHH+mKJA5o0GfEXEokA4ItSGzO+iQIy2oZGTG6NA3kpvnJpHo0Ay3zyn4XOjQIRzCrJooKNA1wfYvC/No0AqnKXHNvqjQH4wc9J9J6RA0MRA3QRVpEAjWQ7oy4KkQHbt2/LSsKRAyoGp/RnfpEAcFncIoQ2lQG+qRBNoPKVAwj4SHm9rpUAV098otpqlQGhnrTM9yqVAu/t6PgT6pUAOkEhJCyqmQGAkFlRSWqZAtLjjXtmKpkAHTbFpoLumQHix486NEJdAOtg3N7pNl0D6/oufZouXQLol4AeTyZdAfEw0cD8ImEA8c4jYa0eYQP2Z3EAYh5hAv8AwqUTHmECA54QR8QeZQEAO2XkdSZlAAjUt4smKmUDDW4FK9syZQIOC1bKiD5pARKkpG89SmkAE0H2De5aaQMX20eun2ppAhx0mVFQfm0BIRHq8gGSbQAhrziQtqptAypEijVnwm0CKuHb1BTecQEvfyl0yfpxADAYfxt7FnEDMLHMuCw6dQI5Tx5a3Vp1AT3ob/+OfnUAQoW9nkOmdQNHHw8+8M55Aku4XOGl+nkBTFWyglcmeQBM8wAhCFZ9A1GIUcW5hn0CWiWjZGq6fQFawvEFH+59Ai2sI1XkkoEDsfjIJkEugQEySXD3mcqBAraWGcXyaoEANubClUsKgQG7M2tlo6qBAzt8EDr8SoUAu8y5CVTuhQI4GWXYrZKFA8BmDqkGNoUBQLa3el7ahQLBA1xIu4KFAEVQBRwQKokBxZyt7GjSiQNJ6Va9wXqJAMo5/4waJokCSoakX3bOiQPK000vz3qJAVMj9f0kKo0C02ye03zWjQBTvUei1YaNAdAJ8HMyNo0DVFaZQIrqjQDYp0IS45qNAljz6uI4TpED2TyTtpECkQFdjTiH7baRAt3Z4VZGbpEAYiqKJZ8mkQHidzL1996RA2bD28dMlpUA6xCAmalSlQJrXSlpAg6VA+up0jlaypUBa/p7CrOGlQLsRyfZCEaZAHCXzKhlBpkB8OB1fL3GmQNxLR5OFoaZAPV9xxxvSpkCecpv78QKnQP6FxS8INKdAXpnvY15lp0C/rBmY9JanQCDAQ8zKyKdAgNNtAOH6p0B1bXvWQ9GYQFCSiJEOEZlALreVTFlRmUAI3KIHJJKZQOQAsMJu05lAwCW9fTkVmkCcSso4hFeaQHhv1/NOmppAU5TkrpndmkAwufFpZCGbQAve/iSvZZtA6AIM4Hmqm0DDJxmbxO+bQJ5MJlaPNZxAe3EzEdp7nEBWlkDMpMKcQDO7TYfvCZ1ADuBaQrpRnUDqBGj9BJqdQMYpdbjP4p1Ao06CcxosnkB+c48u5XWeQFqYnOkvwJ5ANr2ppPoKn0AS4rZfRVafQO4GxBoQop9AyivR1Vrun0BTKG/Ikh2gQMG69SU4RKBAL018gx1roECd3wLhQpKgQApyiT6ouaBAeAQQnE3hoEDmlpb5MgmhQFQpHVdYMaFAwrujtL1ZoUAwTioSY4KhQJ7gsG9Iq6FADHM3zW3UoUB6Bb4q0/2hQOiXRIh4J6JAVirL5V1RokDEvFFDg3uiQDJP2KDopaJAoOFe/o3QokAOdOVbc/uiQHsGbLmYJqNA6pjyFv5Ro0BYK3l0o32jQMW9/9GIqaNAM1CGL67Vo0Ci4gyNEwKkQA91k+q4LqRAfgcaSJ5bpEDrmaClw4ikQFksJwMptqRAx76tYM7jpEA1UTS+sxGlQKPjuhvZP6VAEHZBeT5upUB/CMjW45ylQOyaTjTJy6VAWy3Vke76pUDIv1vvUyqmQDdS4kz5WaZApORoqt6JpkASd+8HBLqmQIAJdmVp6qZA7pv8wg4bp0BcLoMg9EunQMrACX4ZfadAOFOQ236up0Cm5RY5JOCnQBR4nZYJEqhAggok9C5EqEDvnKpRlHaoQF4vMa85qahAzMG3DB/cqEA6VD5qRA+pQKjmxMepQqlAz0JIPwqjmkDGZQ5Nc+WaQL2I1FpcKJtAtKuaaMVrm0CqzmB2rq+bQKLxJoQX9JtAmRTtkQA5nECQN7OfaX6cQIZaea1SxJxAfX0/u7sKnUB0oAXJpFGdQGvDy9YNmZ1AYuaR5PbgnUBYCVjyXymeQE8sHgBJcp5ARk/kDbK7nkA9cqobmwWfQDSVcCkEUJ9AK7g2N+2an0Ai2/xEVuafQAx/YakfGaBAiJBEMFQ/oEAEoie3yGWgQH6zCj59jKBA+sTtxHGzoEB21tBLptqgQPHns9IaAqFAbPmWWc8poUDoCnrgw1GhQGMcXWf4eaFA3y1A7myioUBaPyN1IcuhQNVQBvwV9KFAUWLpgkodokDMc8wJv0aiQEiFr5BzcKJAw5aSF2iaokA+qHWenMSiQLq5WCUR76JANss7rMUZo0Cx3B4zukSjQCzuAbrub6NAqP/kQGObo0AjEcjHF8ejQJ8iq04M86NAGjSO1UAfpECVRXFctUukQBBXVONpeKRAjGg3al6lpEAIehrxktKkQISL/XcHAKVA/5zg/rstpUB6rsOFsFulQPa/pgzliaVAcNGJk1m4pUDs4mwaDuelQGj0T6ECFqZA4wUzKDdFpkBfFxavq3SmQNoo+TVgpKZAVjrcvFTUpkDRS79DiQSnQExdosr9NKdAyG6FUbJlp0BEgGjYppanQL6RS1/bx6dAOqMu5k/5p0C2tBFtBCuoQDDG9PP4XKhArNfXei2PqEAo6boBosGoQKP6nYhW9KhAHgyBD0snqUCaHWSWf1qpQBUvRx30jalAkEAqpKjBqUAMUg0rnfWpQIhj8LHRKapABHXTOEZeqkB/hra/+pKqQIoxSgnhhZxAm1LJaejKnECtc0jKbxCdQL6Uxyp3Vp1A0bVGi/6cnUDk1sXrBeSdQPX3REyNK55ABhnErJRznkAYOkMNHLyeQCpbwm0jBZ9APHxBzqpOn0BNncAuspifQGC+P485459AuW/fdyAXoEBCAB8o5DygQMuQXtjnYqBAVCGeiCuJoEDcsd04r6+gQGVCHely1qBA7tJcmXb9oEB4Y5xJuiShQAD02/k9TKFAiYQbqgF0oUASFVtaBZyhQJulmgpJxKFAJDbauszsoUCtxhlrkBWiQDZXWRuUPqJAvueYy9dnokBIeNh7W5GiQNAIGCwfu6JAWplX3CLlokDiKZeMZg+jQGy61jzqOaNA9EoW7a1ko0B921WdsY+jQAZslU31uqNAj/zU/Xjmo0AYjRSuPBKkQKEdVF5APqRAKq6TDoRqpECyPtO+B5ekQDzPEm/Lw6RAxV9SH8/wpEBN8JHPEh6lQNaA0X+WS6VAYBERMFp5pUDooVDgXaelQHEykJCh1aVA+sLPQCUEpkCDUw/x6DKmQAzkTqHsYaZAlXSOUTCRpkAeBc4BtMCmQKaVDbJ38KZAMCZNYnsgp0C4towSv1CnQEFHzMJCgadAytcLcwayp0BUaEsjCuOnQNz4itNNFKhAZonKg9FFqEDuGQo0lXeoQHaqSeSYqahAADuJlNzbqECIy8hEYA6pQBJcCPUjQalAm+xHpSd0qUAkfYdVa6epQK0NxwXv2qlANp4GtrIOqkC+LkZmtkKqQEe/hRb6dqpA0E/Fxn2rqkBY4AR3QeCqQOJwRCdFFatAawGE14hKq0D0kcOHDICrQH0iAzjQtatABrNC6NPrq0ChOYE0yHmeQM1YuedtwZ5A+3fxmpMJn0AolylOOVKfQFW2YQFfm59AgdWZtATln0BX+ugzlRegQO0JhQ3oPKBAhBkh53pioEAaKb3ATYigQLA4WZpgrqBAR0j1c7PUoEDeV5FNRvugQHRnLScZIqFACnfJACxJoUChhmXafnChQDaWAbQRmKFAzqWdjeS/oUBktTln9+ehQPrE1UBKEKJAkNRxGt04okAo5A30r2GiQL3zqc3CiqJAVANGpxW0okDqEuKAqN2iQIEiflp7B6NAFzIaNI4xo0CuQbYN4VujQERRUudzhqNA2mDuwEaxo0BwcIqaWdyjQAiAJnSsB6RAno/CTT8zpEA0n14nEl+kQMuu+gAli6RAYb6W2ne3pED4zTK0CuSkQI7dzo3dEKVAJO1qZ/A9pUC6/AZBQ2ulQFEMoxrWmKVA5xs/9KjGpUB+K9vNu/SlQBQ7d6cOI6ZAqkoTgaFRpkBBWq9adICmQNdpSzSHr6ZAbnnnDdrepkAEiYPnbA6nQJuYH8E/PqdAMqi7mlJup0DHt1d0pZ6nQF7H8004z6dA9daPJwsAqECK5isBHjGoQCL2x9pwYqhAuAVktAOUqEBOFQCO1sWoQOQknGfp96hAezQ4QTwqqUARRNQaz1ypQKhTcPShj6lAPmMMzrTCqUDUcqinB/apQGuCRIGaKapAAZLgWm1dqkCXoXw0gJGqQC6xGA7TxapAxcC052X6qkBc0FDBOC+rQPPf7JpLZKtAiO+IdJ6Zq0Ae/yROMc+rQLQOwScEBaxASh5dARc7rEDiLfnaaXGsQHg9lbT8p6xADk0xjs/erECkXM1n4hWtQDxsaUE1Ta1Aja124F8/oEAyPG/jgWSgQNXKZ+bjiaBAeVlg6YWvoEAc6FjsZ9WgQMF2Ue+J+6BAZAVK8ushoUAIlEL1jUihQKwiO/hvb6FAULEz+5GWoUD0Pyz+872hQJjOJAGW5aFAPF0dBHgNokDg6xUHmjWiQIR6Dgr8XaJAKAkHDZ6GokDMl/8PgK+iQHAm+BKi2KJAE7XwFQQCo0C3Q+kYpiujQFvS4RuIVaNA/2DaHqp/o0Ck79IhDKqjQEZ+yySu1KNA6gzEJ5D/o0CPm7wqsiqkQDMqtS0UVqRA17itMLaBpEB6R6YzmK2kQB7Wnja62aRAwmSXORwGpUBm8488vjKlQAqCiD+gX6VArhCBQsKMpUBSn3lFJLqlQPYtckjG56VAmrxqS6gVpkA+S2NOykOmQOHZW1EscqZAhWhUVM6gpkAq90xXsM+mQM2FRVrS/qZAcRQ+XTQup0AWozZg1l2nQLkxL2O4jadAXsAnZtq9p0ABTyBpPO6nQKTdGGzeHqhASGwRb8BPqEDs+gly4oCoQJCJAnVEsqhANBj7d+bjqEDYpvN6yBWpQHw17H3qR6lAIMTkgEx6qUDEUt2D7qypQGjh1YbQ36lAC3DOifISqkCw/saMVEaqQFONv4/2eapA9xu4ktitqkCbqrCV+uGqQD45qZhcFqtA4sehm/5Kq0CGVpqe4H+rQCzlkqECtatAz3OLpGTqq0ByAoSnBiCsQBeRfKroVaxAuh91rQqMrEBerm2wbMKsQAI9ZrMO+axApctetvAvrUBKWle5EmetQO7oT7x0nq1AkndIvxbWrUA2BkHC+A2uQNiUOcUaRq5AfiMyyHx+rkAhsirLHreuQPhKR9djSqFAqlicA9VwoUBbZvEvhpehQAx0Rlx3vqFAvYGbiKjloUBvj/C0GQ2iQCCdReHKNKJA0qqaDbxcokCEuO857YSiQDTGRGZeraJA5tOZkg/WokCX4e6+AP+iQEnvQ+sxKKNA+vyYF6NRo0CsCu5DVHujQF0YQ3BFpaNADiaYnHbPo0DAM+3I5/mjQHFBQvWYJKRAI0+XIYpPpEDUXOxNu3qkQIVqQXospqRAN3iWpt3RpEDohevSzv2kQJqTQP//KaVAS6GVK3FWpUD8rupXIoOlQK68P4QTsKVAYMqUsETdpUAQ2OnctQqmQMLlPglnOKZAc/OTNVhmpkAkAelhiZSmQNYOPo76wqZAiByTuqvxpkA6KujmnCCnQOo3PRPOT6dAnEWSPz9/p0BNU+dr8K6nQP5gPJjh3qdAsG6RxBIPqEBifObwgz+oQBKKOx01cKhAxJeQSSahqEB2peV1V9KoQCizOqLIA6lA2MCPznk1qUCKzuT6amepQDzcOSecmalA7emOUw3MqUCe9+N/vv6pQFAFOayvMapAABOO2OBkqkCyIOMEUpiqQGQuODEDzKpAFDyNXfT/qkDHSeKJJTSrQHhXN7aWaKtAKWWM4kedq0DacuEOOdKrQIyANjtqB6xAPo6LZ9s8rEDum+CTjHKsQKGpNcB9qKxAUreK7K7erEADxd8YIBWtQLXSNEXRS61AZuCJccKCrUAY7t6d87mtQMj7M8pk8a1AegmJ9hUprkAsF94iB2GuQN0kM084ma5AjjKIe6nRrkA/QN2nWgqvQPBNMtRLQ69Ao1uHAH18r0BUadws7rWvQAR3MVmf769AXELDQsgUsEASdbL+712iQNIBZFSwhaJAkI4VqrCtokBPG8f/8NWiQA6oeFVx/qJAzTQqqzEno0CMwdsAMlCjQEtOjVZyeaNACts+rPKio0DJZ/ABs8yjQIj0oVez9qNARoFTrfMgpEAGDgUDdEukQMSatlg0dqRAhCdorjShpEBCtBkEdcykQAJBy1n196RAwM18r7UjpUB+Wi4Ftk+lQD7n31r2e6VA/HORsHaopUC8AEMGN9WlQHqN9Fs3AqZAORqmsXcvpkD4plcH+FymQLczCV24iqZAdsC6sri4pkA0TWwI+eamQPTZHV55FadAs2bPszlEp0Bw84AJOnOnQDCAMl96oqdA7wzktPrRp0CumZUKuwGoQG0mR2C7MahAK7P4tfthqEDrP6oLfJKoQKnMW2E8w6hAaFkNtzz0qEAo5r4MfSWpQOZycGL9VqlApf8huL2IqUBkjNMNvrqpQCQZhWP+7KlA4qU2uX4fqkCgMugOP1KqQGC/mWQ/hapAHkxLun+4qkDd2PwPAOyqQJxlrmXAH6tAXPJfu8BTq0AafxERAYirQNgLw2aBvKtAmJh0vEHxq0BXJSYSQiasQBay12eCW6xA1D6JvQKRrECUyzoTw8asQFJY7GjD/KxAEOWdvgMzrUDQcU8UhGmtQI/+AGpEoK1ATouyv0TXrUANGGQVhQ6uQMykFWsFRq5AijHHwMV9rkBKvngWxrWuQAhLKmwG7q5AyNfbwYYmr0CGZI0XR1+vQEbxPm1HmK9ABH7wwofRr0BiBVEMhAWwQMHLKTdkIrBAIZICYmQ/sECAWNuMhFywQN8etLfEebBAP+WM4iSXsECeq2UNpbSwQP5xPjhF0rBA3Cu4VgR6o0CoN8bVE6OjQHVD1FRjzKNAQk/i0/L1o0AOW/BSwh+kQNpm/tHRSaRApnIMUSF0pEBzfhrQsJ6kQECKKE+AyaRADJY2zo/0pEDYoURN3x+lQKWtUsxuS6VAcblgSz53pUA+xW7KTaOlQArRfEmdz6VA1tyKyCz8pUCi6JhH/CimQG/0psYLVqZAOwC1RVuDpkAIDMPE6rCmQNQX0UO63qZAoSPfwskMp0BtL+1BGTunQDo7+8CoaadABkcJQHiYp0DSUhe/h8enQJ5eJT7X9qdAamozvWYmqEA3dkE8NlaoQASCT7tFhqhA0I1dOpW2qECcmWu5JOeoQGmleTj0F6lANLGHtwNJqUACvZU2U3qpQM7Io7Xiq6lAmtSxNLLdqUBn4L+zwQ+qQDPszTIRQqpAAPjbsaB0qkDNA+owcKeqQJgP+K9/2qpAZhsGL88Nq0AxJxSuXkGrQP4yIi0udatAyj4wrD2pq0CWSj4rjd2rQGJWTKocEqxAL2JaKexGrED8bWio+3usQMh5didLsaxAlYWEptrmrEBgkZIlqhytQCydoKS5Uq1A+qiuIwmJrUDGtLyimL+tQJLAyiFo9q1AXszYoHctrkAr2OYfx2SuQPjj9J5WnK5AxO8CHibUrkCQ+xCdNQyvQF0HHxyFRK9AKRMtmxR9r0D1Hjsa5LWvQMIqSZnz7q9AR5srjCEUsEAtobJL6TCwQBSnOQvRTbBA+qzAythqsEDgskeKAIiwQMa4zklIpbBArL5VCbDCsECTxNzIN+CwQHjKY4jf/bBAXtDqR6cbsUBE1nEHjzmxQCvc+MaWV7FAEeJ/hr51sUD35wZGBpSxQFZvWN+gnqRAL/rCh//IpEAKhS0wnvOkQOMPmNh8HqVAvZoCgZtJpUCWJW0p+nSlQHGw19GYoKVASztCenfMpUAlxqwilvilQP5QF8v0JKZA2NuBc5NRpkCyZuwbcn6mQIzxVsSQq6ZAZnzBbO/YpkBABywVjganQBqSlr1sNKdA9BwBZotip0DNp2sO6pCnQKcy1raIv6dAgr1AX2fup0BcSKsHhh2oQDbTFbDkTKhADl6AWIN8qEDo6OoAYqyoQMJzVamA3KhAnf6/Ud8MqUB2iSr6fT2pQFAUlaJcbqlAKp//SnufqUAEKmrz2dCpQN601Jt4AqpAuD8/RFc0qkCRyqnsdWaqQGtVFJXUmKpAROB+PXPLqkAga+nlUf6qQPn1U45wMatA0oC+Ns9kq0CsCynfbZirQIeWk4dMzKtAYCH+L2sArEA7rGjYyTSsQBQ304BoaaxA7sE9KUeerEDITKjRZdOsQKLXEnrECK1Ae2J9ImM+rUBW7efKQXStQC94UnNgqq1ACgO9G7/grUDkjSfEXReuQL4Ykmw8Tq5AmKP8FFuFrkBxLme9ubyuQEq50WVY9K5AJEQ8Djcsr0D+zqa2VWSvQNhZEV+0nK9AsuR7B1PVr0DGN/PXGAewQDN9KCyoI7BAoMJdgFdAsEANCJPUJl2wQHpNyCgWerBA55L9fCWXsEBU2DLRVLSwQMAdaCWk0bBALmOdeRPvsECbqNLNogyxQAjuByJSKrFAdDM9diFIsUDgeHLKEGaxQE6+px4ghLFAuwPdck+isUAoSRLHnsCxQJWORxsO37FAAtR8b539sUBvGbLDTByyQNxe5xccO7JASKQcbAtaskB+P5OYxculQGZJWmpz96VATVMhPGEjpkA1XegNj0+mQBxnr9/8e6ZABHF2saqopkDrej2DmNWmQNKEBFXGAqdAuo7LJjQwp0ChmJL44V2nQIiiWcrPi6dAcKwgnP25p0BXtudta+inQD7Arj8ZF6hAJsp1EQdGqEAO1DzjNHWoQPTdA7WipKhA3OfKhlDUqEDE8ZFYPgSpQKv7WCpsNKlAkgUg/NlkqUB6D+fNh5WpQGIZrp91xqlASCN1caP3qUAvLTxDESmqQBc3AxW/WqpA/0DK5qyMqkDmSpG42r6qQM1UWIpI8apAtF4fXPYjq0CcaOYt5FarQINyrf8RiqtAanx00X+9q0BShjujLfGrQDqQAnUbJaxAIZrJRklZrEAIpJAYt42sQPCtV+pkwqxA17cevFL3rEC+weWNgCytQKXLrF/uYa1AjdVzMZyXrUB03zoDis2tQFzpAdW3A65AQvPIpiU6rkAr/Y9403CuQBIHV0rBp65A+RAeHO/erkDgGuXtXBavQMgkrL8KTq9AsC5zkfiFr0CWODpjJr6vQH5CATWU9q9AMyZkA6EXsEAmq0fsFzSwQBowK9WuULBADrUOvmVtsEABOvKmPIqwQPa+1Y8zp7BA6UO5eErEsEDcyJxhgeGwQNBNgErY/rBAxNJjM08csUC4V0cc5jmxQKvcKgWdV7FAn2EO7nN1sUCS5vHWapOxQIZr1b+BsbFAevC4qLjPsUBtdZyRD+6xQGL6f3qGDLJAVX9jYx0rskBIBEdM1EmyQDyJKjWraLJAMA4OHqKHskAkk/EGuaayQBcY1e/vxbJAC5242EblskD/IZzBvQSzQPKmf6pUJLNAVpxognIBp0BKJYx9by6nQECur3isW6dANDfTcymJp0ApwPZu5ranQB5JGmrj5KdAFNI9ZSATqEAIW2FgnUGoQP3jhFtacKhA8myoVlefqEDn9ctRlM6oQNt+70wR/qhA0AcTSM4tqUDFkDZDy12pQLoZWj4IjqlAr6J9OYW+qUCjK6E0Qu+pQJm0xC8/IKpAjT3oKnxRqkCCxgsm+YKqQHdPLyG2tKpAa9hSHLPmqkBiYXYX8BirQFXqmRJtS6tASnO9DSp+q0A//OAIJ7GrQDSFBARk5KtAKQ4o/+AXrEAel0v6nUusQBIgb/Waf6xACKmS8NezrED8MbbrVOisQPG62eYRHa1A5kP94Q5SrUDczCDdS4etQNBVRNjIvK1AxN5n04XyrUC6Z4vOgiiuQK7wrsm/Xq5ApHnSxDyVrkCYAva/+cuuQI6LGbv2Aq9AghQ9tjM6r0B2nWCxsHGvQGwmhKxtqa9AYK+np2rhr0ArnGXR0wywQKVg904SKbBAICWJzHBFsECa6RpK72GwQBSurMeNfrBAj3I+RUybsEAKN9DCKriwQIT7YUAp1bBA/r/zvUfysEB5hIU7hg+xQPNIF7nkLLFAbg2pNmNKsUDo0Tq0AWixQGKWzDHAhbFA3Fper56jsUBXH/AsncGxQNLjgaq737FATKgTKPr9sUDGbKWlWByyQEAxNyPXOrJAu/XIoHVZskA2uloeNHiyQLB+7JsSl7JAKkN+GRG2skClBxCXL9WyQB/MoRRu9LJAmpAzkswTs0AUVcUPSzOzQI4ZV43pUrNACd7oCqhys0CDonqIhpKzQP5mDAaFsrNAeCueg6PSs0Dz7y8B4vKzQN6F2JynP6hA4I1YwfNtqEDildjlf5yoQOadWApMy6hA56XYLlj6qEDqrVhTpCmpQOy12HcwWalA7r1YnPyIqUDyxdjACLmpQPPNWOVU6alA9tXYCeEZqkD43VgurUqqQPrl2FK5e6pA/O1YdwWtqkD/9dibkd6qQAL+WMBdEKtAAwbZ5GlCq0AGDlkJtnSrQAgW2S1Cp6tACh5ZUg7aq0AOJtl2Gg2sQA8uWZtmQKxAEjbZv/JzrEAUPlnkvqesQBZG2QjL26xAGU5ZLRcQrUAbVtlRo0StQB5eWXZvea1AIGbZmnuurUAiblm/x+OtQCZ22eNTGa5AJn5ZCCBPrkAqhtksLIWuQCuOWVF4u65ALpbZdQTyrkAvnlma0CivQDOm2b7cX69ANq5Z4yiXr0A3ttkHtc6vQB3fLJZAA7BAHuNsqEYfsEAf56y6bDuwQCHr7MyyV7BAIu8s3xh0sEAj82zxnpCwQCT3rANFrbBAJfvsFQvKsEAm/ywo8eawQCgDbTr3A7FAKQetTB0hsUAqC+1eYz6xQCsPLXHJW7FALBNtg095sUAtF62V9ZaxQC8b7ae7tLFAMB8tuqHSsUAxI23Mp/CxQDInrd7NDrJAMyvt8BMtskA0Ly0DekuyQDYzbRUAarJANzetJ6aIskA4O+05bKeyQDk/LUxSxrJAOkNtXljlskA8R61wfgSzQD1L7YLEI7NAPk8tlSpDs0A/U22nsGKzQEBXrblWgrNAQVvtyxyis0BDXy3eAsKzQERjbfAI4rNARWetAi8CtEBHa+0UdSK0QEdvLSfbQrRASHNtOWFjtEBKd61LB4S0QEt77V3NpLRATH8tcLPFtEAU/OLnZIapQCSDvzUAtqlANQqcg9vlqUBEkXjR9hWqQFQYVR9SRqpAZJ8xbe12qkBzJg67yKeqQISt6gjk2KpAkzTHVj8Kq0Cju6Ok2jurQLNCgPK1batAwslcQNGfq0DSUDmOLNKrQOPXFdzHBKxA817yKaM3rEAD5s53vmqsQBFtq8UZnqxAIvSHE7XRrEAye2RhkAWtQEICQa+rOa1AUokd/QZurUBiEPpKoqKtQHCX1ph9161Agh6z5pgMrkCQpY809EGuQKEsbIKPd65AsLNI0GqtrkDAOiUehuOuQNHBAWzhGa9A30jeuXxQr0Dwz7oHWIevQAFXl1Vzvq9AD95zo871r0CQMqj4tBawQBh2lp+iMrBAoLmERrBOsEAo/XLt3WqwQLBAYZQrh7BAOIRPO5mjsEC/xz3iJsCwQEcLLInU3LBAz04aMKL5sEBXkgjXjxaxQN/V9n2dM7FAZxnlJMtQsUDuXNPLGG6xQHegwXKGi7FA/+OvGRSpsUCGJ57AwcaxQA5rjGeP5LFAlq56Dn0CskAe8mi1iiCyQKY1V1y4PrJALnlFAwZdskC2vDOqc3uyQD4AIlEBmrJAxkMQ+K64skBOh/6efNeyQNbK7EVq9rJAXg7b7HcVs0DmUcmTpTSzQG2VtzrzU7NA9til4WBzs0B+HJSI7pKzQAZggi+csrNAjaNw1mnSs0AV5159V/KzQJ4qTSRlErRAJW47y5IytECtsSly4FK0QDb1FxlOc7RAvTgGwNuTtEBEfPRmibS0QMy/4g1X1bRAVAPRtET2tEDcRr9bUhe1QGSKrQKAOLVA7M2bqc1ZtUB0EYpQO3u1QPxUePfInLVA+/6HY6rVqkAYBcHalAarQDYL+lG/N6tAUxEzySlpq0BwF2xA1JqrQI4dpbe+zKtAqyPeLun+q0DIKRemUzGsQOYvUB3+Y6xAAzaJlOiWrEAhPMILE8qsQD1C+4J9/axAXEg0+icxrUB4Tm1xEmWtQJZUpug8ma1As1rfX6fNrUDQYBjXUQKuQO5mUU48N65ACm2KxWZsrkApc8M80aGuQEV5/LN7165AY381K2YNr0CBhW6ikEOvQJ6Lpxn7ea9Au5HgkKWwr0DYlxkIkOevQPtOqT9dD7BACtJFexIrsEAYVeK250awQCfYfvLcYrBANlsbLvJ+sEBE3rdpJ5uwQFNhVKV8t7BAYuTw4PHTsEBwZ40ch/CwQIDqKVg8DbFAjm3GkxEqsUCc8GLPBkexQKtz/wocZLFAuvabRlGBsUDIeTiCpp6xQNf81L0bvLFA5n9x+bDZsUD0Ag41ZvexQAOGqnA7FbJAEglHrDAzskAgjOPnRVGyQC4PgCN7b7JAPpIcX9CNskBMFbmaRayyQFqYVdbayrJAahvyEZDpskB4no5NZQizQIchK4laJ7NAlqTHxG9Gs0CkJ2QApWWzQLOqADz6hLNAwi2dd2+ks0DQsDmzBMSzQN8z1u6547NA7rZyKo8DtED9OQ9mhCO0QAu9q6GZQ7RAGkBI3c5jtEAow+QYJIS0QDdGgVSZpLRARskdkC7FtEBUTLrL4+W0QGPPVge5BrVAclLzQq4ntUCA1Y9+w0i1QI9YLLr4abVAntvI9U2LtUCsXmUxw6y1QLrhAW1YzrVAyWSeqA3wtUDY5zrk4hG2QOZq1x/YM7ZA9e1zW+1VtkAEcRCXIni2QJGOxw94LaxAvBNdsLFfrEDnmPJQK5KsQBIeiPHkxKxAPKMdkt73rEBnKLMyGCutQJKtSNORXq1AvjLec0uSrUDot3MURcatQBI9CbV++q1APMKeVfgurkBoRzT2sWOuQJTMyZarmK5AvlFfN+XNrkDp1vTXXgOvQBRcingYOa9APuEfGRJvr0BoZrW5S6WvQJPrSlrF269AYDhwfT8JsED1+rpNvCSwQIq9BR5ZQLBAH4BQ7hVcsEC1Qpu+8newQEoF5o7vk7BA4McwXwywsEB1insvScywQAtNxv+l6LBAoA8R0CIFsUA10lugvyGxQMqUpnB8PrFAYVfxQFlbsUD2GTwRVnixQIzchuFylbFAIZ/Rsa+ysUC2YRyCDNCxQEwkZ1KJ7bFA4eaxIiYLskB2qfzy4iiyQAxsR8O/RrJAoS6Sk7xkskA28dxj2YKyQMyzJzQWobJAYnZyBHO/skD3OL3U792yQIz7B6WM/LJAIr5SdUkbs0C3gJ1FJjqzQExD6BUjWbNA4gUz5j94s0B3yH22fJezQA2LyIbZtrNAok0TV1bWs0A4EF4n8/WzQM3SqPevFbRAYpXzx4w1tED4Vz6YiVW0QI0aiWimdbRAI93TOOOVtEC4nx4JQLa0QE5iadm81rRA4yS0qVn3tEB45/55Fhi1QA6qSUrzOLVApGyUGvBZtUA5L9/qDHu1QM7xKbtJnLVAY7R0i6a9tUD4dr9bI9+1QI45CizAALZAJPxU/HwitkC5vp/MWUS2QE6B6pxWZrZA5EM1bXOItkB6BoA9sKq2QA/Jyg0NzbZApIsV3onvtkA5TmCuJhK3QM4Qq37jNLdAZNP1TsBXt0A=\",\"dtype\":\"float64\",\"order\":\"little\",\"shape\":[80,80]}],\"x\":[-10.0],\"y\":[-10.0]},\"selected\":{\"id\":\"1373\"},\"selection_policy\":{\"id\":\"1374\"}},\"id\":\"1293\",\"type\":\"ColumnDataSource\"},{\"attributes\":{\"ticker\":null},\"id\":\"1333\",\"type\":\"LogTickFormatter\"},{\"attributes\":{\"text\":\"Loss surface and development\"},\"id\":\"1261\",\"type\":\"Title\"},{\"attributes\":{\"axis_label\":\"w0\",\"formatter\":{\"id\":\"1323\"},\"ticker\":{\"id\":\"1272\"}},\"id\":\"1271\",\"type\":\"LinearAxis\"},{\"attributes\":{},\"id\":\"1269\",\"type\":\"LinearScale\"},{\"attributes\":{\"data_source\":{\"id\":\"1216\"},\"glyph\":{\"id\":\"1217\"},\"hover_glyph\":null,\"muted_glyph\":null,\"nonselection_glyph\":{\"id\":\"1218\"},\"selection_glyph\":null,\"view\":{\"id\":\"1220\"}},\"id\":\"1219\",\"type\":\"GlyphRenderer\"},{\"attributes\":{},\"id\":\"1267\",\"type\":\"LinearScale\"},{\"attributes\":{\"end\":10,\"start\":-10},\"id\":\"1265\",\"type\":\"Range1d\"},{\"attributes\":{\"axis\":{\"id\":\"1271\"},\"ticker\":null},\"id\":\"1274\",\"type\":\"Grid\"},{\"attributes\":{},\"id\":\"1280\",\"type\":\"WheelZoomTool\"},{\"attributes\":{\"axis_label\":\"w1\",\"formatter\":{\"id\":\"1321\"},\"ticker\":{\"id\":\"1276\"}},\"id\":\"1275\",\"type\":\"LinearAxis\"},{\"attributes\":{\"source\":{\"id\":\"1201\"}},\"id\":\"1205\",\"type\":\"CDSView\"},{\"attributes\":{\"axis\":{\"id\":\"1275\"},\"dimension\":1,\"ticker\":null},\"id\":\"1278\",\"type\":\"Grid\"},{\"attributes\":{\"bottom_units\":\"screen\",\"fill_alpha\":0.5,\"fill_color\":\"lightgrey\",\"left_units\":\"screen\",\"level\":\"overlay\",\"line_alpha\":1.0,\"line_color\":\"black\",\"line_dash\":[4,4],\"line_width\":2,\"right_units\":\"screen\",\"top_units\":\"screen\"},\"id\":\"1150\",\"type\":\"BoxAnnotation\"},{\"attributes\":{},\"id\":\"1276\",\"type\":\"BasicTicker\"},{\"attributes\":{\"overlay\":{\"id\":\"1183\"}},\"id\":\"1179\",\"type\":\"BoxZoomTool\"},{\"attributes\":{\"active_drag\":\"auto\",\"active_inspect\":\"auto\",\"active_multi\":null,\"active_scroll\":\"auto\",\"active_tap\":\"auto\",\"tools\":[{\"id\":\"1279\"},{\"id\":\"1280\"},{\"id\":\"1281\"},{\"id\":\"1282\"},{\"id\":\"1283\"},{\"id\":\"1284\"}]},\"id\":\"1286\",\"type\":\"Toolbar\"},{\"attributes\":{},\"id\":\"1284\",\"type\":\"HelpTool\"},{\"attributes\":{},\"id\":\"1279\",\"type\":\"PanTool\"},{\"attributes\":{},\"id\":\"1174\",\"type\":\"BasicTicker\"},{\"attributes\":{\"overlay\":{\"id\":\"1285\"}},\"id\":\"1281\",\"type\":\"BoxZoomTool\"},{\"attributes\":{},\"id\":\"1282\",\"type\":\"SaveTool\"},{\"attributes\":{},\"id\":\"1283\",\"type\":\"ResetTool\"},{\"attributes\":{\"data\":{\"x\":[1],\"y\":[1]},\"selected\":{\"id\":\"1389\"},\"selection_policy\":{\"id\":\"1390\"}},\"id\":\"1206\",\"type\":\"ColumnDataSource\"},{\"attributes\":{\"fill_color\":{\"value\":\"red\"},\"line_color\":{\"value\":\"red\"},\"line_width\":{\"value\":5},\"size\":{\"units\":\"screen\",\"value\":8},\"x\":{\"field\":\"x\"},\"y\":{\"field\":\"y\"}},\"id\":\"1207\",\"type\":\"Cross\"},{\"attributes\":{\"fill_alpha\":{\"value\":0.1},\"fill_color\":{\"value\":\"red\"},\"line_alpha\":{\"value\":0.1},\"line_color\":{\"value\":\"red\"},\"line_width\":{\"value\":5},\"size\":{\"units\":\"screen\",\"value\":8},\"x\":{\"field\":\"x\"},\"y\":{\"field\":\"y\"}},\"id\":\"1203\",\"type\":\"Cross\"},{\"attributes\":{},\"id\":\"1182\",\"type\":\"HelpTool\"},{\"attributes\":{\"fill_alpha\":{\"value\":0.1},\"fill_color\":{\"value\":\"red\"},\"line_alpha\":{\"value\":0.1},\"line_color\":{\"value\":\"red\"},\"line_width\":{\"value\":5},\"size\":{\"units\":\"screen\",\"value\":8},\"x\":{\"field\":\"x\"},\"y\":{\"field\":\"y\"}},\"id\":\"1208\",\"type\":\"Cross\"},{\"attributes\":{},\"id\":\"1167\",\"type\":\"LinearScale\"},{\"attributes\":{\"active_drag\":\"auto\",\"active_inspect\":\"auto\",\"active_multi\":null,\"active_scroll\":\"auto\",\"active_tap\":\"auto\",\"tools\":[{\"id\":\"1144\"},{\"id\":\"1145\"},{\"id\":\"1146\"},{\"id\":\"1147\"},{\"id\":\"1148\"},{\"id\":\"1149\"}]},\"id\":\"1151\",\"type\":\"Toolbar\"},{\"attributes\":{\"axis_label\":\"Loss(w0,w1)\",\"formatter\":{\"id\":\"1329\"},\"ticker\":{\"id\":\"1174\"}},\"id\":\"1173\",\"type\":\"LinearAxis\"},{\"attributes\":{\"axis_label\":\"w1\",\"formatter\":{\"id\":\"1331\"},\"ticker\":{\"id\":\"1170\"}},\"id\":\"1169\",\"type\":\"LinearAxis\"},{\"attributes\":{\"axis\":{\"id\":\"1173\"},\"dimension\":1,\"ticker\":null},\"id\":\"1176\",\"type\":\"Grid\"},{\"attributes\":{},\"id\":\"1161\",\"type\":\"DataRange1d\"},{\"attributes\":{},\"id\":\"1178\",\"type\":\"WheelZoomTool\"},{\"attributes\":{\"bottom_units\":\"screen\",\"fill_alpha\":0.5,\"fill_color\":\"lightgrey\",\"left_units\":\"screen\",\"level\":\"overlay\",\"line_alpha\":1.0,\"line_color\":\"black\",\"line_dash\":[4,4],\"line_width\":2,\"right_units\":\"screen\",\"top_units\":\"screen\"},\"id\":\"1285\",\"type\":\"BoxAnnotation\"},{\"attributes\":{\"data\":{\"x\":{\"__ndarray__\":\"AAAAAAAAJMAAAAAAAIAjwAAAAAAAACPAAAAAAACAIsAAAAAAAAAiwAAAAAAAgCHAAAAAAAAAIcAAAAAAAIAgwAAAAAAAACDAAAAAAAAAH8AAAAAAAAAewAAAAAAAAB3AAAAAAAAAHMAAAAAAAAAbwAAAAAAAABrAAAAAAAAAGcAAAAAAAAAYwAAAAAAAABfAAAAAAAAAFsAAAAAAAAAVwAAAAAAAABTAAAAAAAAAE8AAAAAAAAASwAAAAAAAABHAAAAAAAAAEMAAAAAAAAAOwAAAAAAAAAzAAAAAAAAACsAAAAAAAAAIwAAAAAAAAAbAAAAAAAAABMAAAAAAAAACwAAAAAAAAADAAAAAAAAA/L8AAAAAAAD4vwAAAAAAAPS/AAAAAAAA8L8AAAAAAADovwAAAAAAAOC/AAAAAAAA0L8AAAAAAAAAAAAAAAAAANA/AAAAAAAA4D8AAAAAAADoPwAAAAAAAPA/AAAAAAAA9D8AAAAAAAD4PwAAAAAAAPw/AAAAAAAAAEAAAAAAAAACQAAAAAAAAARAAAAAAAAABkAAAAAAAAAIQAAAAAAAAApAAAAAAAAADEAAAAAAAAAOQAAAAAAAABBAAAAAAAAAEUAAAAAAAAASQAAAAAAAABNAAAAAAAAAFEAAAAAAAAAVQAAAAAAAABZAAAAAAAAAF0AAAAAAAAAYQAAAAAAAABlAAAAAAAAAGkAAAAAAAAAbQAAAAAAAABxAAAAAAAAAHUAAAAAAAAAeQAAAAAAAAB9AAAAAAAAAIEAAAAAAAIAgQAAAAAAAACFAAAAAAACAIUAAAAAAAAAiQAAAAAAAgCJAAAAAAAAAI0AAAAAAAIAjQA==\",\"dtype\":\"float64\",\"order\":\"little\",\"shape\":[80]},\"y\":{\"__ndarray__\":\"AAAAAAAAJMAAAAAAAIAjwAAAAAAAACPAAAAAAACAIsAAAAAAAAAiwAAAAAAAgCHAAAAAAAAAIcAAAAAAAIAgwAAAAAAAACDAAAAAAAAAH8AAAAAAAAAewAAAAAAAAB3AAAAAAAAAHMAAAAAAAAAbwAAAAAAAABrAAAAAAAAAGcAAAAAAAAAYwAAAAAAAABfAAAAAAAAAFsAAAAAAAAAVwAAAAAAAABTAAAAAAAAAE8AAAAAAAAASwAAAAAAAABHAAAAAAAAAEMAAAAAAAAAOwAAAAAAAAAzAAAAAAAAACsAAAAAAAAAIwAAAAAAAAAbAAAAAAAAABMAAAAAAAAACwAAAAAAAAADAAAAAAAAA/L8AAAAAAAD4vwAAAAAAAPS/AAAAAAAA8L8AAAAAAADovwAAAAAAAOC/AAAAAAAA0L8AAAAAAAAAAAAAAAAAANA/AAAAAAAA4D8AAAAAAADoPwAAAAAAAPA/AAAAAAAA9D8AAAAAAAD4PwAAAAAAAPw/AAAAAAAAAEAAAAAAAAACQAAAAAAAAARAAAAAAAAABkAAAAAAAAAIQAAAAAAAAApAAAAAAAAADEAAAAAAAAAOQAAAAAAAABBAAAAAAAAAEUAAAAAAAAASQAAAAAAAABNAAAAAAAAAFEAAAAAAAAAVQAAAAAAAABZAAAAAAAAAF0AAAAAAAAAYQAAAAAAAABlAAAAAAAAAGkAAAAAAAAAbQAAAAAAAABxAAAAAAAAAHUAAAAAAAAAeQAAAAAAAAB9AAAAAAAAAIEAAAAAAAIAgQAAAAAAAACFAAAAAAACAIUAAAAAAAAAiQAAAAAAAgCJAAAAAAAAAI0AAAAAAAIAjQA==\",\"dtype\":\"float64\",\"order\":\"little\",\"shape\":[80]}},\"selected\":{\"id\":\"1380\"},\"selection_policy\":{\"id\":\"1381\"}},\"id\":\"1191\",\"type\":\"ColumnDataSource\"},{\"attributes\":{\"children\":[{\"id\":\"1002\"},{\"id\":\"1260\"}],\"sizing_mode\":\"scale_width\"},\"id\":\"1308\",\"type\":\"Row\"},{\"attributes\":{},\"id\":\"1163\",\"type\":\"DataRange1d\"},{\"attributes\":{\"children\":[{\"id\":\"1125\"},{\"id\":\"1158\"},{\"id\":\"1221\"}],\"sizing_mode\":\"scale_width\"},\"id\":\"1309\",\"type\":\"Row\"},{\"attributes\":{},\"id\":\"1170\",\"type\":\"BasicTicker\"},{\"attributes\":{},\"id\":\"1165\",\"type\":\"LinearScale\"},{\"attributes\":{\"source\":{\"id\":\"1206\"}},\"id\":\"1210\",\"type\":\"CDSView\"},{\"attributes\":{},\"id\":\"1177\",\"type\":\"PanTool\"},{\"attributes\":{},\"id\":\"1181\",\"type\":\"ResetTool\"},{\"attributes\":{\"axis\":{\"id\":\"1169\"},\"ticker\":null},\"id\":\"1172\",\"type\":\"Grid\"},{\"attributes\":{\"line_color\":\"#1f77b4\",\"x\":{\"field\":\"x\"},\"y\":{\"field\":\"y\"}},\"id\":\"1061\",\"type\":\"Line\"},{\"attributes\":{\"data_source\":{\"id\":\"1040\"},\"glyph\":{\"id\":\"1041\"},\"hover_glyph\":null,\"muted_glyph\":null,\"nonselection_glyph\":{\"id\":\"1042\"},\"selection_glyph\":null,\"view\":{\"id\":\"1044\"}},\"id\":\"1043\",\"type\":\"GlyphRenderer\"},{\"attributes\":{},\"id\":\"1338\",\"type\":\"Selection\"},{\"attributes\":{\"data_source\":{\"id\":\"1045\"},\"glyph\":{\"id\":\"1046\"},\"hover_glyph\":null,\"muted_glyph\":null,\"nonselection_glyph\":{\"id\":\"1047\"},\"selection_glyph\":null,\"view\":{\"id\":\"1049\"}},\"id\":\"1048\",\"type\":\"GlyphRenderer\"},{\"attributes\":{\"source\":{\"id\":\"1040\"}},\"id\":\"1044\",\"type\":\"CDSView\"},{\"attributes\":{},\"id\":\"1339\",\"type\":\"UnionRenderers\"},{\"attributes\":{\"text\":\"Trained model\"},\"id\":\"1003\",\"type\":\"Title\"},{\"attributes\":{},\"id\":\"1354\",\"type\":\"Selection\"},{\"attributes\":{},\"id\":\"1022\",\"type\":\"WheelZoomTool\"},{\"attributes\":{\"source\":{\"id\":\"1045\"}},\"id\":\"1049\",\"type\":\"CDSView\"},{\"attributes\":{},\"id\":\"1007\",\"type\":\"DataRange1d\"},{\"attributes\":{},\"id\":\"1355\",\"type\":\"UnionRenderers\"},{\"attributes\":{\"data\":{\"x\":{\"__ndarray__\":\"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\",\"dtype\":\"float64\",\"order\":\"little\",\"shape\":[1000]},\"y\":{\"__ndarray__\":\"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\",\"dtype\":\"float64\",\"order\":\"little\",\"shape\":[1000]}},\"selected\":{\"id\":\"1336\"},\"selection_policy\":{\"id\":\"1337\"}},\"id\":\"1035\",\"type\":\"ColumnDataSource\"},{\"attributes\":{\"axis_label\":\"x\",\"formatter\":{\"id\":\"1319\"},\"ticker\":{\"id\":\"1014\"}},\"id\":\"1013\",\"type\":\"LinearAxis\"},{\"attributes\":{},\"id\":\"1340\",\"type\":\"Selection\"},{\"attributes\":{\"data\":{\"x\":[6.486608948429642,6.486608948429642],\"y\":[-13.357040807866358,-74.86608948429642]},\"selected\":{\"id\":\"1344\"},\"selection_policy\":{\"id\":\"1345\"}},\"id\":\"1055\",\"type\":\"ColumnDataSource\"},{\"attributes\":{},\"id\":\"1005\",\"type\":\"DataRange1d\"},{\"attributes\":{},\"id\":\"1009\",\"type\":\"LinearScale\"},{\"attributes\":{},\"id\":\"1341\",\"type\":\"UnionRenderers\"},{\"attributes\":{\"line_alpha\":0.1,\"line_color\":\"#1f77b4\",\"x\":{\"field\":\"x\"},\"y\":{\"field\":\"y\"}},\"id\":\"1052\",\"type\":\"Line\"},{\"attributes\":{},\"id\":\"1356\",\"type\":\"Selection\"},{\"attributes\":{\"data\":{\"x\":[2.001029043990048,2.001029043990048],\"y\":[-0.6292055013586173,-30.01029043990048]},\"selected\":{\"id\":\"1342\"},\"selection_policy\":{\"id\":\"1343\"}},\"id\":\"1050\",\"type\":\"ColumnDataSource\"},{\"attributes\":{},\"id\":\"1357\",\"type\":\"UnionRenderers\"},{\"attributes\":{\"axis\":{\"id\":\"1013\"},\"ticker\":null},\"id\":\"1016\",\"type\":\"Grid\"},{\"attributes\":{},\"id\":\"1026\",\"type\":\"HelpTool\"},{\"attributes\":{},\"id\":\"1342\",\"type\":\"Selection\"},{\"attributes\":{},\"id\":\"1014\",\"type\":\"BasicTicker\"},{\"attributes\":{\"background_fill_color\":\"#efefef\",\"below\":[{\"id\":\"1013\"}],\"center\":[{\"id\":\"1016\"},{\"id\":\"1020\"}],\"left\":[{\"id\":\"1017\"}],\"plot_height\":180,\"plot_width\":400,\"renderers\":[{\"id\":\"1038\"},{\"id\":\"1043\"},{\"id\":\"1048\"},{\"id\":\"1053\"},{\"id\":\"1058\"},{\"id\":\"1063\"},{\"id\":\"1068\"},{\"id\":\"1073\"},{\"id\":\"1078\"},{\"id\":\"1083\"},{\"id\":\"1088\"},{\"id\":\"1093\"},{\"id\":\"1098\"},{\"id\":\"1103\"},{\"id\":\"1108\"},{\"id\":\"1113\"},{\"id\":\"1118\"},{\"id\":\"1123\"}],\"sizing_mode\":\"scale_width\",\"title\":{\"id\":\"1003\"},\"toolbar\":{\"id\":\"1028\"},\"x_range\":{\"id\":\"1005\"},\"x_scale\":{\"id\":\"1009\"},\"y_range\":{\"id\":\"1007\"},\"y_scale\":{\"id\":\"1011\"}},\"id\":\"1002\",\"subtype\":\"Figure\",\"type\":\"Plot\"},{\"attributes\":{\"data_source\":{\"id\":\"1055\"},\"glyph\":{\"id\":\"1056\"},\"hover_glyph\":null,\"muted_glyph\":null,\"nonselection_glyph\":{\"id\":\"1057\"},\"selection_glyph\":null,\"view\":{\"id\":\"1059\"}},\"id\":\"1058\",\"type\":\"GlyphRenderer\"},{\"attributes\":{},\"id\":\"1343\",\"type\":\"UnionRenderers\"},{\"attributes\":{},\"id\":\"1358\",\"type\":\"Selection\"},{\"attributes\":{\"source\":{\"id\":\"1050\"}},\"id\":\"1054\",\"type\":\"CDSView\"},{\"attributes\":{},\"id\":\"1359\",\"type\":\"UnionRenderers\"},{\"attributes\":{\"active_drag\":\"auto\",\"active_inspect\":\"auto\",\"active_multi\":null,\"active_scroll\":\"auto\",\"active_tap\":\"auto\",\"tools\":[{\"id\":\"1021\"},{\"id\":\"1022\"},{\"id\":\"1023\"},{\"id\":\"1024\"},{\"id\":\"1025\"},{\"id\":\"1026\"}]},\"id\":\"1028\",\"type\":\"Toolbar\"},{\"attributes\":{\"data_source\":{\"id\":\"1060\"},\"glyph\":{\"id\":\"1061\"},\"hover_glyph\":null,\"muted_glyph\":null,\"nonselection_glyph\":{\"id\":\"1062\"},\"selection_glyph\":null,\"view\":{\"id\":\"1064\"}},\"id\":\"1063\",\"type\":\"GlyphRenderer\"},{\"attributes\":{\"axis_label\":\"y = w0+w1*x\",\"formatter\":{\"id\":\"1317\"},\"ticker\":{\"id\":\"1018\"}},\"id\":\"1017\",\"type\":\"LinearAxis\"},{\"attributes\":{},\"id\":\"1344\",\"type\":\"Selection\"},{\"attributes\":{},\"id\":\"1345\",\"type\":\"UnionRenderers\"},{\"attributes\":{},\"id\":\"1360\",\"type\":\"Selection\"},{\"attributes\":{},\"id\":\"1361\",\"type\":\"UnionRenderers\"},{\"attributes\":{},\"id\":\"1346\",\"type\":\"Selection\"},{\"attributes\":{\"data\":{\"x\":[0.20078472352692334,0.20078472352692334],\"y\":[6.436757028664394,-12.007847235269233]},\"selected\":{\"id\":\"1346\"},\"selection_policy\":{\"id\":\"1347\"}},\"id\":\"1060\",\"type\":\"ColumnDataSource\"},{\"attributes\":{},\"id\":\"1347\",\"type\":\"UnionRenderers\"},{\"attributes\":{},\"id\":\"1362\",\"type\":\"Selection\"},{\"attributes\":{\"axis\":{\"id\":\"1017\"},\"dimension\":1,\"ticker\":null},\"id\":\"1020\",\"type\":\"Grid\"},{\"attributes\":{},\"id\":\"1025\",\"type\":\"ResetTool\"},{\"attributes\":{},\"id\":\"1363\",\"type\":\"UnionRenderers\"},{\"attributes\":{},\"id\":\"1011\",\"type\":\"LinearScale\"},{\"attributes\":{\"line_alpha\":0.8,\"line_color\":\"orange\",\"line_width\":1.5,\"x\":{\"field\":\"x\"},\"y\":{\"field\":\"y\"}},\"id\":\"1036\",\"type\":\"Line\"},{\"attributes\":{},\"id\":\"1348\",\"type\":\"Selection\"},{\"attributes\":{\"data_source\":{\"id\":\"1050\"},\"glyph\":{\"id\":\"1051\"},\"hover_glyph\":null,\"muted_glyph\":null,\"nonselection_glyph\":{\"id\":\"1052\"},\"selection_glyph\":null,\"view\":{\"id\":\"1054\"}},\"id\":\"1053\",\"type\":\"GlyphRenderer\"},{\"attributes\":{\"line_alpha\":0.1,\"line_color\":\"#1f77b4\",\"x\":{\"field\":\"x\"},\"y\":{\"field\":\"y\"}},\"id\":\"1047\",\"type\":\"Line\"},{\"attributes\":{},\"id\":\"1349\",\"type\":\"UnionRenderers\"},{\"attributes\":{\"line_alpha\":0.1,\"line_color\":\"#1f77b4\",\"x\":{\"field\":\"x\"},\"y\":{\"field\":\"y\"}},\"id\":\"1062\",\"type\":\"Line\"},{\"attributes\":{},\"id\":\"1364\",\"type\":\"Selection\"},{\"attributes\":{\"overlay\":{\"id\":\"1027\"}},\"id\":\"1023\",\"type\":\"BoxZoomTool\"},{\"attributes\":{\"line_color\":\"#1f77b4\",\"x\":{\"field\":\"x\"},\"y\":{\"field\":\"y\"}},\"id\":\"1056\",\"type\":\"Line\"},{\"attributes\":{},\"id\":\"1365\",\"type\":\"UnionRenderers\"},{\"attributes\":{\"line_color\":\"#1f77b4\",\"x\":{\"field\":\"x\"},\"y\":{\"field\":\"y\"}},\"id\":\"1046\",\"type\":\"Line\"},{\"attributes\":{},\"id\":\"1021\",\"type\":\"PanTool\"},{\"attributes\":{\"data\":{\"x\":[5.188883402273067,5.188883402273067],\"y\":[-8.673879913806065,-61.88883402273067]},\"selected\":{\"id\":\"1340\"},\"selection_policy\":{\"id\":\"1341\"}},\"id\":\"1045\",\"type\":\"ColumnDataSource\"},{\"attributes\":{},\"id\":\"1350\",\"type\":\"Selection\"},{\"attributes\":{},\"id\":\"1018\",\"type\":\"BasicTicker\"},{\"attributes\":{},\"id\":\"1024\",\"type\":\"SaveTool\"},{\"attributes\":{},\"id\":\"1351\",\"type\":\"UnionRenderers\"},{\"attributes\":{\"source\":{\"id\":\"1055\"}},\"id\":\"1059\",\"type\":\"CDSView\"},{\"attributes\":{},\"id\":\"1366\",\"type\":\"Selection\"},{\"attributes\":{\"line_alpha\":0.1,\"line_color\":\"#1f77b4\",\"x\":{\"field\":\"x\"},\"y\":{\"field\":\"y\"}},\"id\":\"1057\",\"type\":\"Line\"},{\"attributes\":{},\"id\":\"1367\",\"type\":\"UnionRenderers\"},{\"attributes\":{\"line_color\":\"#1f77b4\",\"x\":{\"field\":\"x\"},\"y\":{\"field\":\"y\"}},\"id\":\"1051\",\"type\":\"Line\"},{\"attributes\":{},\"id\":\"1352\",\"type\":\"Selection\"},{\"attributes\":{\"line_alpha\":0.1,\"line_color\":\"orange\",\"line_width\":1.5,\"x\":{\"field\":\"x\"},\"y\":{\"field\":\"y\"}},\"id\":\"1037\",\"type\":\"Line\"},{\"attributes\":{\"source\":{\"id\":\"1060\"}},\"id\":\"1064\",\"type\":\"CDSView\"},{\"attributes\":{},\"id\":\"1353\",\"type\":\"UnionRenderers\"},{\"attributes\":{\"data\":{\"x\":[8.320370123028935,8.320370123028935],\"y\":[-19.653798566686223,-93.20370123028935]},\"selected\":{\"id\":\"1348\"},\"selection_policy\":{\"id\":\"1349\"}},\"id\":\"1065\",\"type\":\"ColumnDataSource\"},{\"attributes\":{\"source\":{\"id\":\"1075\"}},\"id\":\"1079\",\"type\":\"CDSView\"},{\"attributes\":{\"data_source\":{\"id\":\"1065\"},\"glyph\":{\"id\":\"1066\"},\"hover_glyph\":null,\"muted_glyph\":null,\"nonselection_glyph\":{\"id\":\"1067\"},\"selection_glyph\":null,\"view\":{\"id\":\"1069\"}},\"id\":\"1068\",\"type\":\"GlyphRenderer\"},{\"attributes\":{\"line_alpha\":0.1,\"line_color\":\"#1f77b4\",\"x\":{\"field\":\"x\"},\"y\":{\"field\":\"y\"}},\"id\":\"1122\",\"type\":\"Line\"},{\"attributes\":{\"line_color\":\"white\",\"line_width\":3,\"x\":{\"field\":\"x\"},\"y\":{\"field\":\"y\"}},\"id\":\"1299\",\"type\":\"Line\"},{\"attributes\":{\"line_color\":\"#1f77b4\",\"x\":{\"field\":\"x\"},\"y\":{\"field\":\"y\"}},\"id\":\"1106\",\"type\":\"Line\"},{\"attributes\":{\"data\":{\"x\":[7.308922563505154,7.308922563505154],\"y\":[-14.328494276149545,-83.08922563505153]},\"selected\":{\"id\":\"1356\"},\"selection_policy\":{\"id\":\"1357\"}},\"id\":\"1085\",\"type\":\"ColumnDataSource\"},{\"attributes\":{\"source\":{\"id\":\"1090\"}},\"id\":\"1094\",\"type\":\"CDSView\"},{\"attributes\":{\"source\":{\"id\":\"1065\"}},\"id\":\"1069\",\"type\":\"CDSView\"},{\"attributes\":{\"data\":{\"x\":[-10],\"y\":[-10]},\"selected\":{\"id\":\"1377\"},\"selection_policy\":{\"id\":\"1378\"}},\"id\":\"1303\",\"type\":\"ColumnDataSource\"},{\"attributes\":{\"data\":{\"x\":[8.155430630056026,8.155430630056026],\"y\":[-19.40694697116525,-91.55430630056026]},\"selected\":{\"id\":\"1350\"},\"selection_policy\":{\"id\":\"1351\"}},\"id\":\"1070\",\"type\":\"ColumnDataSource\"},{\"attributes\":{\"source\":{\"id\":\"1303\"}},\"id\":\"1307\",\"type\":\"CDSView\"},{\"attributes\":{\"source\":{\"id\":\"1298\"}},\"id\":\"1302\",\"type\":\"CDSView\"},{\"attributes\":{\"line_alpha\":0.1,\"line_color\":\"white\",\"line_width\":3,\"x\":{\"field\":\"x\"},\"y\":{\"field\":\"y\"}},\"id\":\"1300\",\"type\":\"Line\"},{\"attributes\":{\"data_source\":{\"id\":\"1075\"},\"glyph\":{\"id\":\"1076\"},\"hover_glyph\":null,\"muted_glyph\":null,\"nonselection_glyph\":{\"id\":\"1077\"},\"selection_glyph\":null,\"view\":{\"id\":\"1079\"}},\"id\":\"1078\",\"type\":\"GlyphRenderer\"},{\"attributes\":{\"fill_alpha\":{\"value\":0.1},\"fill_color\":{\"value\":\"white\"},\"line_alpha\":{\"value\":0.1},\"line_color\":{\"value\":\"white\"},\"line_width\":{\"value\":5},\"size\":{\"units\":\"screen\",\"value\":8},\"x\":{\"field\":\"x\"},\"y\":{\"field\":\"y\"}},\"id\":\"1305\",\"type\":\"Cross\"},{\"attributes\":{\"source\":{\"id\":\"1070\"}},\"id\":\"1074\",\"type\":\"CDSView\"},{\"attributes\":{\"data_source\":{\"id\":\"1070\"},\"glyph\":{\"id\":\"1071\"},\"hover_glyph\":null,\"muted_glyph\":null,\"nonselection_glyph\":{\"id\":\"1072\"},\"selection_glyph\":null,\"view\":{\"id\":\"1074\"}},\"id\":\"1073\",\"type\":\"GlyphRenderer\"},{\"attributes\":{\"line_color\":\"#1f77b4\",\"x\":{\"field\":\"x\"},\"y\":{\"field\":\"y\"}},\"id\":\"1121\",\"type\":\"Line\"},{\"attributes\":{\"data_source\":{\"id\":\"1303\"},\"glyph\":{\"id\":\"1304\"},\"hover_glyph\":null,\"muted_glyph\":null,\"nonselection_glyph\":{\"id\":\"1305\"},\"selection_glyph\":null,\"view\":{\"id\":\"1307\"}},\"id\":\"1306\",\"type\":\"GlyphRenderer\"},{\"attributes\":{\"data\":{\"x\":[5.639022862534056,5.639022862534056],\"y\":[-9.810808614381541,-66.39022862534057]},\"selected\":{\"id\":\"1366\"},\"selection_policy\":{\"id\":\"1367\"}},\"id\":\"1110\",\"type\":\"ColumnDataSource\"},{\"attributes\":{\"data\":{\"x\":[0.2791749457482151,0.2791749457482151],\"y\":[5.524262864976572,-12.791749457482151]},\"selected\":{\"id\":\"1354\"},\"selection_policy\":{\"id\":\"1355\"}},\"id\":\"1080\",\"type\":\"ColumnDataSource\"},{\"attributes\":{\"line_alpha\":0.1,\"line_color\":\"#1f77b4\",\"x\":{\"field\":\"x\"},\"y\":{\"field\":\"y\"}},\"id\":\"1082\",\"type\":\"Line\"},{\"attributes\":{\"line_color\":\"#1f77b4\",\"x\":{\"field\":\"x\"},\"y\":{\"field\":\"y\"}},\"id\":\"1071\",\"type\":\"Line\"},{\"attributes\":{\"line_color\":\"#1f77b4\",\"x\":{\"field\":\"x\"},\"y\":{\"field\":\"y\"}},\"id\":\"1066\",\"type\":\"Line\"},{\"attributes\":{\"source\":{\"id\":\"1105\"}},\"id\":\"1109\",\"type\":\"CDSView\"},{\"attributes\":{\"data_source\":{\"id\":\"1080\"},\"glyph\":{\"id\":\"1081\"},\"hover_glyph\":null,\"muted_glyph\":null,\"nonselection_glyph\":{\"id\":\"1082\"},\"selection_glyph\":null,\"view\":{\"id\":\"1084\"}},\"id\":\"1083\",\"type\":\"GlyphRenderer\"},{\"attributes\":{\"line_alpha\":0.1,\"line_color\":\"#1f77b4\",\"x\":{\"field\":\"x\"},\"y\":{\"field\":\"y\"}},\"id\":\"1067\",\"type\":\"Line\"},{\"attributes\":{\"data\":{\"x\":[8.511012439355191,8.511012439355191],\"y\":[-19.417135267246177,-95.11012439355191]},\"selected\":{\"id\":\"1358\"},\"selection_policy\":{\"id\":\"1359\"}},\"id\":\"1090\",\"type\":\"ColumnDataSource\"},{\"attributes\":{\"line_color\":\"#1f77b4\",\"x\":{\"field\":\"x\"},\"y\":{\"field\":\"y\"}},\"id\":\"1091\",\"type\":\"Line\"},{\"attributes\":{\"line_alpha\":0.1,\"line_color\":\"#1f77b4\",\"x\":{\"field\":\"x\"},\"y\":{\"field\":\"y\"}},\"id\":\"1072\",\"type\":\"Line\"},{\"attributes\":{\"data_source\":{\"id\":\"1105\"},\"glyph\":{\"id\":\"1106\"},\"hover_glyph\":null,\"muted_glyph\":null,\"nonselection_glyph\":{\"id\":\"1107\"},\"selection_glyph\":null,\"view\":{\"id\":\"1109\"}},\"id\":\"1108\",\"type\":\"GlyphRenderer\"},{\"attributes\":{\"line_color\":\"#1f77b4\",\"x\":{\"field\":\"x\"},\"y\":{\"field\":\"y\"}},\"id\":\"1076\",\"type\":\"Line\"},{\"attributes\":{\"background_fill_color\":\"#efefef\",\"below\":[{\"id\":\"1136\"}],\"center\":[{\"id\":\"1139\"},{\"id\":\"1143\"}],\"left\":[{\"id\":\"1140\"}],\"plot_height\":250,\"plot_width\":400,\"renderers\":[{\"id\":\"1194\"},{\"id\":\"1204\"},{\"id\":\"1214\"}],\"sizing_mode\":\"scale_width\",\"title\":{\"id\":\"1126\"},\"toolbar\":{\"id\":\"1151\"},\"x_range\":{\"id\":\"1128\"},\"x_scale\":{\"id\":\"1132\"},\"y_range\":{\"id\":\"1130\"},\"y_scale\":{\"id\":\"1134\"}},\"id\":\"1125\",\"subtype\":\"Figure\",\"type\":\"Plot\"},{\"attributes\":{\"data_source\":{\"id\":\"1115\"},\"glyph\":{\"id\":\"1116\"},\"hover_glyph\":null,\"muted_glyph\":null,\"nonselection_glyph\":{\"id\":\"1117\"},\"selection_glyph\":null,\"view\":{\"id\":\"1119\"}},\"id\":\"1118\",\"type\":\"GlyphRenderer\"},{\"attributes\":{\"data\":{\"x\":[7.646814305898626,7.646814305898626],\"y\":[-14.730504180829175,-86.46814305898627]},\"selected\":{\"id\":\"1352\"},\"selection_policy\":{\"id\":\"1353\"}},\"id\":\"1075\",\"type\":\"ColumnDataSource\"},{\"attributes\":{\"source\":{\"id\":\"1085\"}},\"id\":\"1089\",\"type\":\"CDSView\"},{\"attributes\":{\"data\":{\"x\":[3.1249393824763727,3.1249393824763727],\"y\":[-2.0093753417826488,-41.24939382476373]},\"selected\":{\"id\":\"1360\"},\"selection_policy\":{\"id\":\"1361\"}},\"id\":\"1095\",\"type\":\"ColumnDataSource\"},{\"attributes\":{\"data\":{\"x\":[4.892115626058972,4.892115626058972],\"y\":[-8.84788721748144,-58.921156260589726]},\"selected\":{\"id\":\"1370\"},\"selection_policy\":{\"id\":\"1371\"}},\"id\":\"1120\",\"type\":\"ColumnDataSource\"},{\"attributes\":{\"data_source\":{\"id\":\"1090\"},\"glyph\":{\"id\":\"1091\"},\"hover_glyph\":null,\"muted_glyph\":null,\"nonselection_glyph\":{\"id\":\"1092\"},\"selection_glyph\":null,\"view\":{\"id\":\"1094\"}},\"id\":\"1093\",\"type\":\"GlyphRenderer\"},{\"attributes\":{\"data_source\":{\"id\":\"1095\"},\"glyph\":{\"id\":\"1096\"},\"hover_glyph\":null,\"muted_glyph\":null,\"nonselection_glyph\":{\"id\":\"1097\"},\"selection_glyph\":null,\"view\":{\"id\":\"1099\"}},\"id\":\"1098\",\"type\":\"GlyphRenderer\"},{\"attributes\":{\"data_source\":{\"id\":\"1110\"},\"glyph\":{\"id\":\"1111\"},\"hover_glyph\":null,\"muted_glyph\":null,\"nonselection_glyph\":{\"id\":\"1112\"},\"selection_glyph\":null,\"view\":{\"id\":\"1114\"}},\"id\":\"1113\",\"type\":\"GlyphRenderer\"},{\"attributes\":{\"source\":{\"id\":\"1095\"}},\"id\":\"1099\",\"type\":\"CDSView\"},{\"attributes\":{\"line_color\":\"#1f77b4\",\"x\":{\"field\":\"x\"},\"y\":{\"field\":\"y\"}},\"id\":\"1101\",\"type\":\"Line\"},{\"attributes\":{\"line_alpha\":0.1,\"line_color\":\"#1f77b4\",\"x\":{\"field\":\"x\"},\"y\":{\"field\":\"y\"}},\"id\":\"1107\",\"type\":\"Line\"},{\"attributes\":{\"line_alpha\":0.1,\"line_color\":\"#1f77b4\",\"x\":{\"field\":\"x\"},\"y\":{\"field\":\"y\"}},\"id\":\"1077\",\"type\":\"Line\"},{\"attributes\":{\"source\":{\"id\":\"1080\"}},\"id\":\"1084\",\"type\":\"CDSView\"},{\"attributes\":{\"source\":{\"id\":\"1100\"}},\"id\":\"1104\",\"type\":\"CDSView\"},{\"attributes\":{\"line_color\":\"#1f77b4\",\"x\":{\"field\":\"x\"},\"y\":{\"field\":\"y\"}},\"id\":\"1081\",\"type\":\"Line\"},{\"attributes\":{\"data_source\":{\"id\":\"1085\"},\"glyph\":{\"id\":\"1086\"},\"hover_glyph\":null,\"muted_glyph\":null,\"nonselection_glyph\":{\"id\":\"1087\"},\"selection_glyph\":null,\"view\":{\"id\":\"1089\"}},\"id\":\"1088\",\"type\":\"GlyphRenderer\"},{\"attributes\":{\"data\":{\"x\":[5.642139201000031,5.642139201000031],\"y\":[-8.693727339315544,-66.42139201000032]},\"selected\":{\"id\":\"1362\"},\"selection_policy\":{\"id\":\"1363\"}},\"id\":\"1100\",\"type\":\"ColumnDataSource\"},{\"attributes\":{\"line_color\":\"#1f77b4\",\"x\":{\"field\":\"x\"},\"y\":{\"field\":\"y\"}},\"id\":\"1086\",\"type\":\"Line\"},{\"attributes\":{\"line_alpha\":0.1,\"line_color\":\"#1f77b4\",\"x\":{\"field\":\"x\"},\"y\":{\"field\":\"y\"}},\"id\":\"1087\",\"type\":\"Line\"},{\"attributes\":{\"line_alpha\":0.1,\"line_color\":\"#1f77b4\",\"x\":{\"field\":\"x\"},\"y\":{\"field\":\"y\"}},\"id\":\"1092\",\"type\":\"Line\"},{\"attributes\":{\"line_alpha\":0.1,\"line_color\":\"#1f77b4\",\"x\":{\"field\":\"x\"},\"y\":{\"field\":\"y\"}},\"id\":\"1102\",\"type\":\"Line\"},{\"attributes\":{\"line_alpha\":0.1,\"line_color\":\"#1f77b4\",\"x\":{\"field\":\"x\"},\"y\":{\"field\":\"y\"}},\"id\":\"1097\",\"type\":\"Line\"},{\"attributes\":{\"source\":{\"id\":\"1120\"}},\"id\":\"1124\",\"type\":\"CDSView\"},{\"attributes\":{\"data_source\":{\"id\":\"1100\"},\"glyph\":{\"id\":\"1101\"},\"hover_glyph\":null,\"muted_glyph\":null,\"nonselection_glyph\":{\"id\":\"1102\"},\"selection_glyph\":null,\"view\":{\"id\":\"1104\"}},\"id\":\"1103\",\"type\":\"GlyphRenderer\"},{\"attributes\":{\"source\":{\"id\":\"1110\"}},\"id\":\"1114\",\"type\":\"CDSView\"},{\"attributes\":{\"line_alpha\":0.1,\"line_color\":\"#1f77b4\",\"x\":{\"field\":\"x\"},\"y\":{\"field\":\"y\"}},\"id\":\"1112\",\"type\":\"Line\"},{\"attributes\":{\"data\":{\"x\":[4.32641213940416,4.32641213940416],\"y\":[-5.0622716049977186,-53.264121394041595]},\"selected\":{\"id\":\"1364\"},\"selection_policy\":{\"id\":\"1365\"}},\"id\":\"1105\",\"type\":\"ColumnDataSource\"},{\"attributes\":{\"line_color\":\"#1f77b4\",\"x\":{\"field\":\"x\"},\"y\":{\"field\":\"y\"}},\"id\":\"1096\",\"type\":\"Line\"},{\"attributes\":{\"line_color\":\"#1f77b4\",\"x\":{\"field\":\"x\"},\"y\":{\"field\":\"y\"}},\"id\":\"1116\",\"type\":\"Line\"},{\"attributes\":{\"line_alpha\":0.1,\"line_color\":\"#1f77b4\",\"x\":{\"field\":\"x\"},\"y\":{\"field\":\"y\"}},\"id\":\"1117\",\"type\":\"Line\"},{\"attributes\":{\"data_source\":{\"id\":\"1120\"},\"glyph\":{\"id\":\"1121\"},\"hover_glyph\":null,\"muted_glyph\":null,\"nonselection_glyph\":{\"id\":\"1122\"},\"selection_glyph\":null,\"view\":{\"id\":\"1124\"}},\"id\":\"1123\",\"type\":\"GlyphRenderer\"},{\"attributes\":{\"data\":{\"x\":[6.06673157059585,6.06673157059585],\"y\":[-11.985328282292333,-70.6673157059585]},\"selected\":{\"id\":\"1368\"},\"selection_policy\":{\"id\":\"1369\"}},\"id\":\"1115\",\"type\":\"ColumnDataSource\"},{\"attributes\":{\"source\":{\"id\":\"1115\"}},\"id\":\"1119\",\"type\":\"CDSView\"},{\"attributes\":{\"background_fill_color\":\"#efefef\",\"below\":[{\"id\":\"1169\"}],\"center\":[{\"id\":\"1172\"},{\"id\":\"1176\"}],\"left\":[{\"id\":\"1173\"}],\"plot_height\":250,\"plot_width\":400,\"renderers\":[{\"id\":\"1199\"},{\"id\":\"1209\"},{\"id\":\"1219\"}],\"sizing_mode\":\"scale_width\",\"title\":{\"id\":\"1159\"},\"toolbar\":{\"id\":\"1184\"},\"x_range\":{\"id\":\"1161\"},\"x_scale\":{\"id\":\"1165\"},\"y_range\":{\"id\":\"1163\"},\"y_scale\":{\"id\":\"1167\"}},\"id\":\"1158\",\"subtype\":\"Figure\",\"type\":\"Plot\"},{\"attributes\":{\"line_color\":\"#1f77b4\",\"x\":{\"field\":\"x\"},\"y\":{\"field\":\"y\"}},\"id\":\"1111\",\"type\":\"Line\"},{\"attributes\":{},\"id\":\"1337\",\"type\":\"UnionRenderers\"},{\"attributes\":{\"background_fill_color\":\"#efefef\",\"below\":[{\"id\":\"1232\"}],\"center\":[{\"id\":\"1235\"},{\"id\":\"1239\"}],\"left\":[{\"id\":\"1236\"}],\"plot_height\":250,\"plot_width\":400,\"renderers\":[{\"id\":\"1257\"}],\"sizing_mode\":\"scale_width\",\"title\":{\"id\":\"1222\"},\"toolbar\":{\"id\":\"1247\"},\"x_range\":{\"id\":\"1224\"},\"x_scale\":{\"id\":\"1228\"},\"y_range\":{\"id\":\"1226\"},\"y_scale\":{\"id\":\"1230\"}},\"id\":\"1221\",\"subtype\":\"Figure\",\"type\":\"Plot\"},{\"attributes\":{},\"id\":\"1224\",\"type\":\"DataRange1d\"},{\"attributes\":{},\"id\":\"1230\",\"type\":\"LogScale\"},{\"attributes\":{\"bottom_units\":\"screen\",\"fill_alpha\":0.5,\"fill_color\":\"lightgrey\",\"left_units\":\"screen\",\"level\":\"overlay\",\"line_alpha\":1.0,\"line_color\":\"black\",\"line_dash\":[4,4],\"line_width\":2,\"right_units\":\"screen\",\"top_units\":\"screen\"},\"id\":\"1183\",\"type\":\"BoxAnnotation\"},{\"attributes\":{\"fill_color\":{\"value\":\"red\"},\"line_color\":{\"value\":\"red\"},\"line_width\":{\"value\":5},\"size\":{\"units\":\"screen\",\"value\":8},\"x\":{\"field\":\"x\"},\"y\":{\"field\":\"y\"}},\"id\":\"1202\",\"type\":\"Cross\"},{\"attributes\":{\"line_alpha\":0.8,\"line_color\":\"blue\",\"line_width\":1.5,\"x\":{\"field\":\"x\"},\"y\":{\"field\":\"y\"}},\"id\":\"1192\",\"type\":\"Line\"},{\"attributes\":{},\"id\":\"1321\",\"type\":\"BasicTickFormatter\"},{\"attributes\":{\"source\":{\"id\":\"1196\"}},\"id\":\"1200\",\"type\":\"CDSView\"},{\"attributes\":{\"line_alpha\":0.1,\"line_color\":\"blue\",\"line_width\":1.5,\"x\":{\"field\":\"x\"},\"y\":{\"field\":\"y\"}},\"id\":\"1193\",\"type\":\"Line\"},{\"attributes\":{},\"id\":\"1323\",\"type\":\"BasicTickFormatter\"},{\"attributes\":{\"source\":{\"id\":\"1191\"}},\"id\":\"1195\",\"type\":\"CDSView\"},{\"attributes\":{\"line_alpha\":0.8,\"line_color\":\"blue\",\"line_width\":1.5,\"x\":{\"field\":\"x\"},\"y\":{\"field\":\"y\"}},\"id\":\"1197\",\"type\":\"Line\"},{\"attributes\":{},\"id\":\"1233\",\"type\":\"BasicTicker\"},{\"attributes\":{\"axis_label\":\"iterations (time)\",\"formatter\":{\"id\":\"1335\"},\"ticker\":{\"id\":\"1233\"}},\"id\":\"1232\",\"type\":\"LinearAxis\"},{\"attributes\":{\"data\":{\"x\":{\"__ndarray__\":\"AAAAAAAAJMAAAAAAAIAjwAAAAAAAACPAAAAAAACAIsAAAAAAAAAiwAAAAAAAgCHAAAAAAAAAIcAAAAAAAIAgwAAAAAAAACDAAAAAAAAAH8AAAAAAAAAewAAAAAAAAB3AAAAAAAAAHMAAAAAAAAAbwAAAAAAAABrAAAAAAAAAGcAAAAAAAAAYwAAAAAAAABfAAAAAAAAAFsAAAAAAAAAVwAAAAAAAABTAAAAAAAAAE8AAAAAAAAASwAAAAAAAABHAAAAAAAAAEMAAAAAAAAAOwAAAAAAAAAzAAAAAAAAACsAAAAAAAAAIwAAAAAAAAAbAAAAAAAAABMAAAAAAAAACwAAAAAAAAADAAAAAAAAA/L8AAAAAAAD4vwAAAAAAAPS/AAAAAAAA8L8AAAAAAADovwAAAAAAAOC/AAAAAAAA0L8AAAAAAAAAAAAAAAAAANA/AAAAAAAA4D8AAAAAAADoPwAAAAAAAPA/AAAAAAAA9D8AAAAAAAD4PwAAAAAAAPw/AAAAAAAAAEAAAAAAAAACQAAAAAAAAARAAAAAAAAABkAAAAAAAAAIQAAAAAAAAApAAAAAAAAADEAAAAAAAAAOQAAAAAAAABBAAAAAAAAAEUAAAAAAAAASQAAAAAAAABNAAAAAAAAAFEAAAAAAAAAVQAAAAAAAABZAAAAAAAAAF0AAAAAAAAAYQAAAAAAAABlAAAAAAAAAGkAAAAAAAAAbQAAAAAAAABxAAAAAAAAAHUAAAAAAAAAeQAAAAAAAAB9AAAAAAAAAIEAAAAAAAIAgQAAAAAAAACFAAAAAAACAIUAAAAAAAAAiQAAAAAAAgCJAAAAAAAAAI0AAAAAAAIAjQA==\",\"dtype\":\"float64\",\"order\":\"little\",\"shape\":[80]},\"y\":{\"__ndarray__\":\"AAAAAAAAJMAAAAAAAIAjwAAAAAAAACPAAAAAAACAIsAAAAAAAAAiwAAAAAAAgCHAAAAAAAAAIcAAAAAAAIAgwAAAAAAAACDAAAAAAAAAH8AAAAAAAAAewAAAAAAAAB3AAAAAAAAAHMAAAAAAAAAbwAAAAAAAABrAAAAAAAAAGcAAAAAAAAAYwAAAAAAAABfAAAAAAAAAFsAAAAAAAAAVwAAAAAAAABTAAAAAAAAAE8AAAAAAAAASwAAAAAAAABHAAAAAAAAAEMAAAAAAAAAOwAAAAAAAAAzAAAAAAAAACsAAAAAAAAAIwAAAAAAAAAbAAAAAAAAABMAAAAAAAAACwAAAAAAAAADAAAAAAAAA/L8AAAAAAAD4vwAAAAAAAPS/AAAAAAAA8L8AAAAAAADovwAAAAAAAOC/AAAAAAAA0L8AAAAAAAAAAAAAAAAAANA/AAAAAAAA4D8AAAAAAADoPwAAAAAAAPA/AAAAAAAA9D8AAAAAAAD4PwAAAAAAAPw/AAAAAAAAAEAAAAAAAAACQAAAAAAAAARAAAAAAAAABkAAAAAAAAAIQAAAAAAAAApAAAAAAAAADEAAAAAAAAAOQAAAAAAAABBAAAAAAAAAEUAAAAAAAAASQAAAAAAAABNAAAAAAAAAFEAAAAAAAAAVQAAAAAAAABZAAAAAAAAAF0AAAAAAAAAYQAAAAAAAABlAAAAAAAAAGkAAAAAAAAAbQAAAAAAAABxAAAAAAAAAHUAAAAAAAAAeQAAAAAAAAB9AAAAAAAAAIEAAAAAAAIAgQAAAAAAAACFAAAAAAACAIUAAAAAAAAAiQAAAAAAAgCJAAAAAAAAAI0AAAAAAAIAjQA==\",\"dtype\":\"float64\",\"order\":\"little\",\"shape\":[80]}},\"selected\":{\"id\":\"1387\"},\"selection_policy\":{\"id\":\"1388\"}},\"id\":\"1196\",\"type\":\"ColumnDataSource\"},{\"attributes\":{\"end\":10000,\"start\":0.1},\"id\":\"1226\",\"type\":\"Range1d\"},{\"attributes\":{\"source\":{\"id\":\"1035\"}},\"id\":\"1039\",\"type\":\"CDSView\"},{\"attributes\":{\"data\":{\"x\":[1],\"y\":[1]},\"selected\":{\"id\":\"1382\"},\"selection_policy\":{\"id\":\"1383\"}},\"id\":\"1201\",\"type\":\"ColumnDataSource\"},{\"attributes\":{\"data_source\":{\"id\":\"1196\"},\"glyph\":{\"id\":\"1197\"},\"hover_glyph\":null,\"muted_glyph\":null,\"nonselection_glyph\":{\"id\":\"1198\"},\"selection_glyph\":null,\"view\":{\"id\":\"1200\"}},\"id\":\"1199\",\"type\":\"GlyphRenderer\"},{\"attributes\":{\"data\":{\"x\":[0],\"y\":[0]},\"selected\":{\"id\":\"1394\"},\"selection_policy\":{\"id\":\"1395\"}},\"id\":\"1254\",\"type\":\"ColumnDataSource\"},{\"attributes\":{\"data_source\":{\"id\":\"1293\"},\"glyph\":{\"id\":\"1294\"},\"hover_glyph\":null,\"muted_glyph\":null,\"nonselection_glyph\":{\"id\":\"1295\"},\"selection_glyph\":null,\"view\":{\"id\":\"1297\"}},\"id\":\"1296\",\"type\":\"GlyphRenderer\"},{\"attributes\":{\"line_alpha\":0.1,\"line_color\":\"blue\",\"line_width\":1.5,\"x\":{\"field\":\"x\"},\"y\":{\"field\":\"y\"}},\"id\":\"1198\",\"type\":\"Line\"},{\"attributes\":{},\"id\":\"1228\",\"type\":\"LinearScale\"},{\"attributes\":{\"overlay\":{\"id\":\"1246\"}},\"id\":\"1242\",\"type\":\"BoxZoomTool\"},{\"attributes\":{\"axis\":{\"id\":\"1232\"},\"ticker\":null},\"id\":\"1235\",\"type\":\"Grid\"},{\"attributes\":{\"data_source\":{\"id\":\"1254\"},\"glyph\":{\"id\":\"1255\"},\"hover_glyph\":null,\"muted_glyph\":null,\"nonselection_glyph\":{\"id\":\"1256\"},\"selection_glyph\":null,\"view\":{\"id\":\"1258\"}},\"id\":\"1257\",\"type\":\"GlyphRenderer\"},{\"attributes\":{\"text\":\"Loss development over time\"},\"id\":\"1222\",\"type\":\"Title\"},{\"attributes\":{},\"id\":\"1245\",\"type\":\"HelpTool\"},{\"attributes\":{\"axis_label\":\"Loss\",\"formatter\":{\"id\":\"1333\"},\"ticker\":{\"id\":\"1237\"}},\"id\":\"1236\",\"type\":\"LogAxis\"},{\"attributes\":{\"axis\":{\"id\":\"1236\"},\"dimension\":1,\"ticker\":null},\"id\":\"1239\",\"type\":\"Grid\"},{\"attributes\":{\"num_minor_ticks\":10},\"id\":\"1237\",\"type\":\"LogTicker\"},{\"attributes\":{\"active_drag\":\"auto\",\"active_inspect\":\"auto\",\"active_multi\":null,\"active_scroll\":\"auto\",\"active_tap\":\"auto\",\"tools\":[{\"id\":\"1240\"},{\"id\":\"1241\"},{\"id\":\"1242\"},{\"id\":\"1243\"},{\"id\":\"1244\"},{\"id\":\"1245\"}]},\"id\":\"1247\",\"type\":\"Toolbar\"},{\"attributes\":{},\"id\":\"1241\",\"type\":\"WheelZoomTool\"},{\"attributes\":{},\"id\":\"1240\",\"type\":\"PanTool\"},{\"attributes\":{},\"id\":\"1243\",\"type\":\"SaveTool\"},{\"attributes\":{},\"id\":\"1244\",\"type\":\"ResetTool\"},{\"attributes\":{\"data\":{\"x\":[-10],\"y\":[-10]},\"selected\":{\"id\":\"1375\"},\"selection_policy\":{\"id\":\"1376\"}},\"id\":\"1298\",\"type\":\"ColumnDataSource\"},{\"attributes\":{\"fill_color\":{\"value\":\"white\"},\"line_color\":{\"value\":\"white\"},\"line_width\":{\"value\":5},\"size\":{\"units\":\"screen\",\"value\":8},\"x\":{\"field\":\"x\"},\"y\":{\"field\":\"y\"}},\"id\":\"1304\",\"type\":\"Cross\"},{\"attributes\":{},\"id\":\"1319\",\"type\":\"BasicTickFormatter\"},{\"attributes\":{\"color_mapper\":{\"id\":\"1259\"},\"dh\":{\"field\":\"dh\",\"units\":\"data\"},\"dw\":{\"field\":\"dw\",\"units\":\"data\"},\"global_alpha\":0.1,\"image\":{\"field\":\"image\"},\"x\":{\"field\":\"x\"},\"y\":{\"field\":\"y\"}},\"id\":\"1295\",\"type\":\"Image\"},{\"attributes\":{\"source\":{\"id\":\"1293\"}},\"id\":\"1297\",\"type\":\"CDSView\"},{\"attributes\":{},\"id\":\"1317\",\"type\":\"BasicTickFormatter\"}],\"root_ids\":[\"1310\"]},\"title\":\"Bokeh Application\",\"version\":\"2.2.3\"}};\n  var render_items = [{\"docid\":\"6eab729c-6955-4c91-90bc-17a9443af5ce\",\"notebook_comms_target\":\"1397\",\"root_ids\":[\"1310\"],\"roots\":{\"1310\":\"4040d202-7e25-4a29-872e-4498a329bd8d\"}}];\n  root.Bokeh.embed.embed_items_notebook(docs_json, render_items);\n\n  }\n  if (root.Bokeh !== undefined) {\n    embed_document(root);\n  } else {\n    var attempts = 0;\n    var timer = setInterval(function(root) {\n      if (root.Bokeh !== undefined) {\n        clearInterval(timer);\n        embed_document(root);\n      } else {\n        attempts++;\n        if (attempts > 100) {\n          clearInterval(timer);\n          console.log(\"Bokeh: ERROR: Unable to run BokehJS code because BokehJS library is missing\");\n        }\n      }\n    }, 10, root)\n  }\n})(window);",
      "application/vnd.bokehjs_exec.v0+json": ""
     },
     "metadata": {
      "application/vnd.bokehjs_exec.v0+json": {
       "id": "1310"
      }
     },
     "output_type": "display_data"
    }
   ],
   "source": [
    "print('goal: f(x) = {}x {} {}'.format(w1_true,'-' if w0_true < 0 else '+',abs(w0_true)))\n",
    "plot = layout([[s1,s4],[s2,s2_2,s5],], sizing_mode='scale_width')\n",
    "show(plot,notebook_handle=True)\n",
    "\n",
    "firstrun = False"
   ]
  },
  {
   "cell_type": "markdown",
   "metadata": {},
   "source": [
    "### 3D-Plot with loss development"
   ]
  },
  {
   "cell_type": "code",
   "execution_count": 19,
   "metadata": {
    "scrolled": false
   },
   "outputs": [
    {
     "data": {
      "application/vnd.jupyter.widget-view+json": {
       "model_id": "a4116a4f3622467cbbed68f5d393b681",
       "version_major": 2,
       "version_minor": 0
      },
      "text/plain": [
       "FigureWidget({\n",
       "    'data': [{'line': {'color': 'orange', 'width': 5},\n",
       "              'mode': 'lines',\n",
       "         …"
      ]
     },
     "metadata": {},
     "output_type": "display_data"
    }
   ],
   "source": [
    "figx"
   ]
  },
  {
   "cell_type": "markdown",
   "metadata": {},
   "source": [
    "#### Changing of Jupyter page-width (for larger plots)\n",
    "\n",
    "1. find the following file (in user directory):\n",
    "        \n",
    "        .../Anaconda3/envs/<env-name>/Lib/site-packages/notebook/static/custom/custom.css\n",
    "\n",
    "2. add the following code to it\n",
    "\n",
    "        .container {\n",
    "            width:70% !important;\n",
    "        }\n",
    "3. press ctrl-F5 to refresh browser and cached stylesheets"
   ]
  },
  {
   "cell_type": "markdown",
   "metadata": {},
   "source": [
    "#### Scroll to Zoom\n",
    "\n",
    "Press \"wheel zoom\"-button on the right of a plot. Scroll on graph to zoom both axis equally, scroll on axis to zoom only x or y axis."
   ]
  },
  {
   "cell_type": "code",
   "execution_count": 20,
   "metadata": {
    "pycharm": {
     "name": "#%%\n"
    }
   },
   "outputs": [],
   "source": [
    "# don't ask...\n",
    "for i in range(2):\n",
    "    reset()\n",
    "\n"
   ]
  }
 ],
 "metadata": {
  "kernelspec": {
   "display_name": "Python 3",
   "language": "python",
   "name": "python3"
  },
  "language_info": {
   "codemirror_mode": {
    "name": "ipython",
    "version": 3
   },
   "file_extension": ".py",
   "mimetype": "text/x-python",
   "name": "python",
   "nbconvert_exporter": "python",
   "pygments_lexer": "ipython3",
   "version": "3.8.5"
  },
  "pycharm": {
   "stem_cell": {
    "cell_type": "raw",
    "metadata": {
     "collapsed": false
    },
    "source": []
   }
  }
 },
 "nbformat": 4,
 "nbformat_minor": 1
}
