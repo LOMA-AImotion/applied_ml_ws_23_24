{
 "cells": [
  {
   "cell_type": "code",
   "execution_count": 7,
   "metadata": {},
   "outputs": [
    {
     "name": "stdout",
     "output_type": "stream",
     "text": [
      "Populating the interactive namespace from numpy and matplotlib\n"
     ]
    }
   ],
   "source": [
    "# gives us access to numerical calculations\n",
    "import numpy as np\n",
    "%pylab inline"
   ]
  },
  {
   "cell_type": "code",
   "execution_count": 136,
   "metadata": {},
   "outputs": [],
   "source": [
    "# the data set X, it has a one in the first column such that Xw is of the form y = w_0 + w_1 * x \n",
    "X = np.array([[1, 1], \n",
    "              [1, 2.5], \n",
    "              [1, 3], \n",
    "              [1, 3.4], \n",
    "              [1,4]])\n",
    "\n",
    "# the target values\n",
    "y = np.array([1, 1.4, 2.5, 1.9, 3.2])\n"
   ]
  },
  {
   "cell_type": "markdown",
   "metadata": {},
   "source": [
    "## Visualize the data"
   ]
  },
  {
   "cell_type": "code",
   "execution_count": 137,
   "metadata": {},
   "outputs": [
    {
     "data": {
      "text/plain": [
       "[<matplotlib.lines.Line2D at 0x2b86e8f2e20>]"
      ]
     },
     "execution_count": 137,
     "metadata": {},
     "output_type": "execute_result"
    },
    {
     "data": {
      "image/png": "[encoded data removed]",
      "text/plain": [
       "<Figure size 432x288 with 1 Axes>"
      ]
     },
     "metadata": {
      "needs_background": "light"
     },
     "output_type": "display_data"
    }
   ],
   "source": [
    "plot(X[:,1], y, 'o')"
   ]
  },
  {
   "cell_type": "code",
   "execution_count": 138,
   "metadata": {},
   "outputs": [
    {
     "data": {
      "image/png": "[encoded data removed]",
      "text/plain": [
       "<Figure size 432x288 with 1 Axes>"
      ]
     },
     "metadata": {
      "needs_background": "light"
     },
     "output_type": "display_data"
    }
   ],
   "source": [
    "# a prediction based on the weight vector 0,0\n",
    "w = np.array([0,0])\n",
    "\n",
    "def plot_model_and_data(w, X, y):\n",
    "    # make predictions for 1000 values between 0.0 and 5.0\n",
    "    x_test = np.linspace(0, 5, 1000).reshape(-1,1)\n",
    "\n",
    "    # also add the columns of ones\n",
    "    X_test = np.hstack( (np.ones((len(x_test),1)), x_test))\n",
    "    y_pred = np.dot(X_test, w)\n",
    "\n",
    "    # plot the test data and the prediction data\n",
    "    plot(X[:,1], y, 'o')\n",
    "    plot(X_test[:,1], y_pred, 'orange')\n",
    "    \n",
    "plot_model_and_data(w, X, y)"
   ]
  },
  {
   "cell_type": "markdown",
   "metadata": {},
   "source": [
    "## Try out different values of w yourself"
   ]
  },
  {
   "cell_type": "code",
   "execution_count": 139,
   "metadata": {},
   "outputs": [
    {
     "data": {
      "image/png": "[encoded data removed]",
      "text/plain": [
       "<Figure size 432x288 with 1 Axes>"
      ]
     },
     "metadata": {
      "needs_background": "light"
     },
     "output_type": "display_data"
    }
   ],
   "source": [
    "# for example \n",
    "w = np.array([-1, 2])\n",
    "plot_model_and_data(w, X, y)"
   ]
  },
  {
   "cell_type": "markdown",
   "metadata": {},
   "source": [
    "## Calculate the objective function / cost function -> MSE \n",
    "Let's first compare the predictions and targets\n",
    "\n",
    "$$\n",
    "\\frac{1}{|D|} \\sum_{<x,y> \\in D} (y - f(x))^2 \n",
    "$$"
   ]
  },
  {
   "cell_type": "code",
   "execution_count": 159,
   "metadata": {},
   "outputs": [
    {
     "name": "stdout",
     "output_type": "stream",
     "text": [
      "[1.  1.4 2.5 1.9 3.2]\n",
      "[1.  4.  5.  5.8 7. ]\n"
     ]
    }
   ],
   "source": [
    "# the targets\n",
    "print(y) \n",
    "\n",
    "# the predictions\n",
    "w = np.array([-1, 2])\n",
    "y_pred = np.dot(X, w)\n",
    "print(y_pred) "
   ]
  },
  {
   "cell_type": "code",
   "execution_count": 141,
   "metadata": {},
   "outputs": [
    {
     "name": "stdout",
     "output_type": "stream",
     "text": [
      "[0.  2.6 2.5 3.9 3.8]\n"
     ]
    }
   ],
   "source": [
    "# take the component-wise differences\n",
    "differences = y_pred - y\n",
    "print(differences)"
   ]
  },
  {
   "cell_type": "code",
   "execution_count": 142,
   "metadata": {},
   "outputs": [
    {
     "name": "stdout",
     "output_type": "stream",
     "text": [
      "[ 0.    6.76  6.25 15.21 14.44]\n"
     ]
    }
   ],
   "source": [
    "# take the squares\n",
    "diffs_squared = np.power(differences, 2)\n",
    "print(diffs_squared)"
   ]
  },
  {
   "cell_type": "code",
   "execution_count": 143,
   "metadata": {},
   "outputs": [
    {
     "name": "stdout",
     "output_type": "stream",
     "text": [
      "42.66\n"
     ]
    }
   ],
   "source": [
    "# sum them up \n",
    "sum_of_squares = np.sum(diffs_squared)\n",
    "print(sum_of_squares)"
   ]
  },
  {
   "cell_type": "code",
   "execution_count": 39,
   "metadata": {},
   "outputs": [
    {
     "name": "stdout",
     "output_type": "stream",
     "text": [
      "8.532\n"
     ]
    }
   ],
   "source": [
    "# divide by the number of data points\n",
    "mean_squared_error = sum_of_squares / X.shape[0]\n",
    "print(mean_squared_error)"
   ]
  },
  {
   "cell_type": "markdown",
   "metadata": {},
   "source": [
    "Now wrap all of that up in a function `mean_squared_error` that returns the cost for a given parameter vector `w`"
   ]
  },
  {
   "cell_type": "code",
   "execution_count": 144,
   "metadata": {},
   "outputs": [
    {
     "name": "stdout",
     "output_type": "stream",
     "text": [
      "8.532\n"
     ]
    }
   ],
   "source": [
    "def mean_squared_error(w, X, y):\n",
    "    pass\n",
    "\n",
    "\n",
    "def mean_squared_error(w, X, y):\n",
    "    y_pred = np.dot(X, w)\n",
    "    differences = y_pred - y\n",
    "    diffs_squared = np.power(differences, 2)\n",
    "    sum_of_squares = np.sum(diffs_squared)\n",
    "    mse = sum_of_squares / X.shape[0]\n",
    "    return mse\n",
    "\n",
    "print(mean_squared_error(w, X, y))"
   ]
  },
  {
   "cell_type": "markdown",
   "metadata": {},
   "source": [
    "Now try this again for different values of w, for example:"
   ]
  },
  {
   "cell_type": "code",
   "execution_count": 145,
   "metadata": {},
   "outputs": [
    {
     "name": "stdout",
     "output_type": "stream",
     "text": [
      "0.34534499999999996\n"
     ]
    },
    {
     "data": {
      "image/png": "[encoded data removed]",
      "text/plain": [
       "<Figure size 432x288 with 1 Axes>"
      ]
     },
     "metadata": {
      "needs_background": "light"
     },
     "output_type": "display_data"
    }
   ],
   "source": [
    "# for example \n",
    "w = np.array([-0.25, 0.65])\n",
    "plot_model_and_data(w, X, y)\n",
    "print(mean_squared_error(w, X, y))"
   ]
  },
  {
   "cell_type": "markdown",
   "metadata": {},
   "source": [
    "## The simplest algorithm in the world -- just random guessing\n",
    "\n"
   ]
  },
  {
   "cell_type": "code",
   "execution_count": 146,
   "metadata": {},
   "outputs": [
    {
     "name": "stdout",
     "output_type": "stream",
     "text": [
      "The best weight is: [[ 2.09322908]\n",
      " [-0.05592092]] with mean squared error: 3.0955246557578056\n"
     ]
    },
    {
     "data": {
      "image/png": "[encoded data removed]",
      "text/plain": [
       "<Figure size 432x288 with 1 Axes>"
      ]
     },
     "metadata": {
      "needs_background": "light"
     },
     "output_type": "display_data"
    }
   ],
   "source": [
    "n_trials = 10000\n",
    "w = np.array([0, 0])\n",
    "best_so_far = mean_squared_error(w, X, y)\n",
    "best_w = w\n",
    "\n",
    "for i in range(n_trials):\n",
    "    # draw a random weight vector between -2 and 2\n",
    "    w = np.random.uniform(-5,5,[2,1]) # A 2x1 column vector\n",
    "    mse = mean_squared_error(w, X, y)\n",
    "\n",
    "    if mse < best_so_far:\n",
    "        best_so_far = mse\n",
    "        best_w = w\n",
    "        \n",
    "print(f\"The best weight is: {best_w} with mean squared error: {best_so_far}\")\n",
    "plot_model_and_data(best_w, X, y)"
   ]
  },
  {
   "cell_type": "markdown",
   "metadata": {},
   "source": [
    "A simple local search"
   ]
  },
  {
   "cell_type": "code",
   "execution_count": 147,
   "metadata": {},
   "outputs": [
    {
     "name": "stdout",
     "output_type": "stream",
     "text": [
      "Now  MSE is 8.692843935636418\n",
      "Now  MSE is 4.972743975111138\n",
      "Now  MSE is 3.6634481119953186\n",
      "Now  MSE is 3.61383286031313\n",
      "Now  MSE is 3.083008174336217\n",
      "Now  MSE is 3.070241546118073\n",
      "Now  MSE is 3.068731347853354\n",
      "Now  MSE is 3.0607709046584355\n",
      "Now  MSE is 3.060295202695968\n",
      "Now  MSE is 3.0601871685286985\n",
      "Now  MSE is 3.060089500563387\n",
      "Now  MSE is 3.060025047760547\n",
      "The best weight is: [[1.99620684e+00]\n",
      " [5.88651095e-04]] with mean squared error: 3.060025047760547\n"
     ]
    },
    {
     "data": {
      "image/png": "[encoded data removed]",
      "text/plain": [
       "<Figure size 432x288 with 1 Axes>"
      ]
     },
     "metadata": {
      "needs_background": "light"
     },
     "output_type": "display_data"
    }
   ],
   "source": [
    "n_trials = 1000\n",
    "w = np.array([0, 0]).reshape(-1,1)\n",
    "current_mse = mean_squared_error(w, X, y)\n",
    "current_w = w\n",
    "\n",
    "for i in range(n_trials):\n",
    "    # generate 100 small perturbations, take the best change\n",
    "    for j in range(100):\n",
    "        # draw a random weight vector between -2 and 2\n",
    "        change_w = np.random.uniform(-1,1,[2,1]) # A 2x1 column vector\n",
    "        candidate_w = current_w + change_w\n",
    "\n",
    "        mse = mean_squared_error(candidate_w, X, y)\n",
    "        if mse < current_mse:\n",
    "            current_mse = mse\n",
    "            current_w = candidate_w\n",
    "            print(f\"Now  MSE is {current_mse}\")\n",
    "            break\n",
    "\n",
    "        \n",
    "print(f\"The best weight is: {current_w} with mean squared error: {current_mse}\")\n",
    "plot_model_and_data(current_w, X, y)"
   ]
  },
  {
   "cell_type": "markdown",
   "metadata": {},
   "source": [
    "## Gradient update\n",
    "\n",
    "Let's start with an arbitrary value:"
   ]
  },
  {
   "cell_type": "code",
   "execution_count": 148,
   "metadata": {},
   "outputs": [
    {
     "data": {
      "image/png": "[encoded data removed]",
      "text/plain": [
       "<Figure size 432x288 with 1 Axes>"
      ]
     },
     "metadata": {
      "needs_background": "light"
     },
     "output_type": "display_data"
    }
   ],
   "source": [
    "w = np.array([1, 0.3]).reshape(-1,1)\n",
    "plot_model_and_data(w, X, y)\n",
    "savefig(\"weight_1.png\")"
   ]
  },
  {
   "cell_type": "code",
   "execution_count": 158,
   "metadata": {},
   "outputs": [
    {
     "data": {
      "text/plain": [
       "array([[1.3 ],\n",
       "       [1.75],\n",
       "       [1.9 ],\n",
       "       [2.02],\n",
       "       [2.2 ]])"
      ]
     },
     "execution_count": 158,
     "metadata": {},
     "output_type": "execute_result"
    }
   ],
   "source": [
    "y_pred"
   ]
  },
  {
   "cell_type": "code",
   "execution_count": 153,
   "metadata": {},
   "outputs": [
    {
     "name": "stdout",
     "output_type": "stream",
     "text": [
      "[1. 1.]\n",
      "1.0\n",
      "[1.3]\n",
      "[ 0.3 -0.1 -1.2 -0.6 -1.9]\n",
      "[0.09 0.01 1.44 0.36 3.61]\n",
      "-----\n"
     ]
    },
    {
     "ename": "ValueError",
     "evalue": "setting an array element with a sequence.",
     "output_type": "error",
     "traceback": [
      "\u001b[1;31m---------------------------------------------------------------------------\u001b[0m",
      "\u001b[1;31mTypeError\u001b[0m                                 Traceback (most recent call last)",
      "\u001b[1;31mTypeError\u001b[0m: only size-1 arrays can be converted to Python scalars",
      "\nThe above exception was the direct cause of the following exception:\n",
      "\u001b[1;31mValueError\u001b[0m                                Traceback (most recent call last)",
      "\u001b[1;32m<ipython-input-153-e896313b70ef>\u001b[0m in \u001b[0;36m<module>\u001b[1;34m\u001b[0m\n\u001b[0;32m     14\u001b[0m     \u001b[0mgrad_w0\u001b[0m \u001b[1;33m=\u001b[0m \u001b[1;36m2\u001b[0m\u001b[1;33m*\u001b[0m\u001b[0mdiff\u001b[0m\u001b[1;33m[\u001b[0m\u001b[0mi\u001b[0m\u001b[1;33m]\u001b[0m\u001b[1;33m\u001b[0m\u001b[1;33m\u001b[0m\u001b[0m\n\u001b[0;32m     15\u001b[0m     \u001b[0mgrad_w1\u001b[0m \u001b[1;33m=\u001b[0m \u001b[1;36m2\u001b[0m\u001b[1;33m*\u001b[0m\u001b[0mdiff\u001b[0m\u001b[1;33m[\u001b[0m\u001b[0mi\u001b[0m\u001b[1;33m]\u001b[0m \u001b[1;33m*\u001b[0m \u001b[0mX\u001b[0m\u001b[1;33m[\u001b[0m\u001b[0mi\u001b[0m\u001b[1;33m,\u001b[0m\u001b[1;36m1\u001b[0m\u001b[1;33m]\u001b[0m\u001b[1;33m\u001b[0m\u001b[1;33m\u001b[0m\u001b[0m\n\u001b[1;32m---> 16\u001b[1;33m     \u001b[0mgrads\u001b[0m\u001b[1;33m[\u001b[0m\u001b[1;36m0\u001b[0m\u001b[1;33m]\u001b[0m \u001b[1;33m=\u001b[0m \u001b[0mgrads\u001b[0m\u001b[1;33m[\u001b[0m\u001b[1;36m0\u001b[0m\u001b[1;33m]\u001b[0m \u001b[1;33m+\u001b[0m \u001b[0mgrad_w0\u001b[0m\u001b[1;33m\u001b[0m\u001b[1;33m\u001b[0m\u001b[0m\n\u001b[0m\u001b[0;32m     17\u001b[0m     \u001b[0mgrads\u001b[0m\u001b[1;33m[\u001b[0m\u001b[1;36m1\u001b[0m\u001b[1;33m]\u001b[0m \u001b[1;33m=\u001b[0m \u001b[0mgrads\u001b[0m\u001b[1;33m[\u001b[0m\u001b[1;36m1\u001b[0m\u001b[1;33m]\u001b[0m \u001b[1;33m+\u001b[0m \u001b[0mgrad_w1\u001b[0m\u001b[1;33m\u001b[0m\u001b[1;33m\u001b[0m\u001b[0m\n\u001b[0;32m     18\u001b[0m     \u001b[0mprint\u001b[0m\u001b[1;33m(\u001b[0m\u001b[1;34mf\"Grads: {grad_w0}, {grad_w1})\"\u001b[0m\u001b[1;33m)\u001b[0m\u001b[1;33m\u001b[0m\u001b[1;33m\u001b[0m\u001b[0m\n",
      "\u001b[1;31mValueError\u001b[0m: setting an array element with a sequence."
     ]
    }
   ],
   "source": [
    "y_pred = np.dot(X,w)\n",
    "diff = y_pred - y\n",
    "loss = np.power(diff,2)\n",
    "\n",
    "grads = np.zeros(2)\n",
    "\n",
    "for i in range(X.shape[0]):\n",
    "    print(X[i,:])\n",
    "    print(y[i])\n",
    "    print(y_pred[i])\n",
    "    print(diff[i])\n",
    "    print(loss[i])\n",
    "    print(\"-----\")\n",
    "    grad_w0 = 2*diff[i]\n",
    "    grad_w1 = 2*diff[i] * X[i,1]\n",
    "    grads[0] = grads[0] + grad_w0\n",
    "    grads[1] = grads[1] + grad_w1\n",
    "    print(f\"Grads: {grad_w0}, {grad_w1})\")\n",
    "    print(\"==========\")\n",
    "    \n",
    "print(\"Overall\")\n",
    "print(grads)"
   ]
  },
  {
   "cell_type": "code",
   "execution_count": 120,
   "metadata": {},
   "outputs": [
    {
     "data": {
      "text/plain": [
       "array([-1.66 , -8.434])"
      ]
     },
     "execution_count": 120,
     "metadata": {},
     "output_type": "execute_result"
    }
   ],
   "source": [
    "grads"
   ]
  },
  {
   "cell_type": "code",
   "execution_count": 121,
   "metadata": {},
   "outputs": [
    {
     "name": "stdout",
     "output_type": "stream",
     "text": [
      "[-0.166  -0.8434]\n",
      "[[1.0166 ]\n",
      " [0.38434]]\n"
     ]
    }
   ],
   "source": [
    "print(0.1 * grads)\n",
    "w_new = w - 0.01 * grads.reshape(-1,1)\n",
    "print(w_new)\n"
   ]
  },
  {
   "cell_type": "code",
   "execution_count": 122,
   "metadata": {},
   "outputs": [
    {
     "data": {
      "image/png": "[encoded data removed]",
      "text/plain": [
       "<Figure size 432x288 with 1 Axes>"
      ]
     },
     "metadata": {
      "needs_background": "light"
     },
     "output_type": "display_data"
    }
   ],
   "source": [
    "plot_model_and_data(w_new, X, y)\n",
    "savefig(\"weight_2.png\")"
   ]
  },
  {
   "cell_type": "code",
   "execution_count": 129,
   "metadata": {},
   "outputs": [
    {
     "name": "stdout",
     "output_type": "stream",
     "text": [
      "MSE before gradient update: 0.3173800000000001\n",
      "MSE after gradient update: 0.2399900629672\n"
     ]
    }
   ],
   "source": [
    "y_pred = np.dot(X,w)\n",
    "diff = y_pred - y.reshape(-1,1)\n",
    "loss = np.power(diff,2)\n",
    "\n",
    "def get_gradient(w, X, y):    \n",
    "    y_pred = np.dot(X, w)\n",
    "    diff = y_pred - y\n",
    "    \n",
    "    grads = np.zeros(2)\n",
    "    for i in range(X.shape[0]):\n",
    "        grad_w0 = 2*diff[i]\n",
    "        grad_w1 = 2*diff[i] * X[i,1]\n",
    "        grads[0] += grad_w0\n",
    "        grads[1] += grad_w1\n",
    "\n",
    "    return grads.reshape(-1,1)\n",
    "\n",
    "alpha = 0.01\n",
    "w_new = w - alpha * get_gradient(w, X, y)\n",
    "print(f\"MSE before gradient update: {mean_squared_error(w, X,y)}\")\n",
    "print(f\"MSE after gradient update: {mean_squared_error(w_new, X,y)}\")"
   ]
  },
  {
   "cell_type": "code",
   "execution_count": 132,
   "metadata": {},
   "outputs": [
    {
     "name": "stdout",
     "output_type": "stream",
     "text": [
      "MSE before gradient update: 0.2399900629672\n",
      "MSE after gradient update: 0.23795812724482074\n"
     ]
    }
   ],
   "source": [
    "print(f\"MSE before gradient update: {mean_squared_error(w_new, X,y)}\")\n",
    "w_next = w_new - alpha * get_gradient(w_new, X, y)\n",
    "print(f\"MSE after gradient update: {mean_squared_error(w_next, X,y)}\")"
   ]
  },
  {
   "cell_type": "code",
   "execution_count": null,
   "metadata": {},
   "outputs": [],
   "source": []
  }
 ],
 "metadata": {
  "kernelspec": {
   "display_name": "Python 3",
   "language": "python",
   "name": "python3"
  },
  "language_info": {
   "codemirror_mode": {
    "name": "ipython",
    "version": 3
   },
   "file_extension": ".py",
   "mimetype": "text/x-python",
   "name": "python",
   "nbconvert_exporter": "python",
   "pygments_lexer": "ipython3",
   "version": "3.8.5"
  }
 },
 "nbformat": 4,
 "nbformat_minor": 4
}
